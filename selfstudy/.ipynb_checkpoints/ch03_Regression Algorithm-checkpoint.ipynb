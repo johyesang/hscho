{
 "cells": [
  {
   "cell_type": "code",
   "execution_count": 7,
   "id": "b4676122",
   "metadata": {},
   "outputs": [
    {
     "data": {
      "image/png": "[encoded data removed]",
      "text/plain": [
       "<Figure size 432x288 with 1 Axes>"
      ]
     },
     "metadata": {
      "needs_background": "light"
     },
     "output_type": "display_data"
    },
    {
     "name": "stdout",
     "output_type": "stream",
     "text": [
      "Shape of Train data : (42,) \n",
      "Shape of Test data  : (14,)\n",
      "\n",
      "Contents of Train data : \n",
      "[19.6 22.  18.7 17.4 36.  25.  40.  39.  43.  22.  20.  22.  24.  27.5\n",
      " 43.  40.  24.  21.  27.5 40.  32.8 26.5 36.5 13.7 22.7 15.  37.  35.\n",
      " 28.7 23.5 39.  21.  23.  22.  44.  22.5 19.  37.  22.  25.6 42.  34.5] \n",
      "Contents of Test data  : \n",
      "[ 8.4 18.  27.5 21.3 22.5 40.  30.  24.6 39.  21.  43.5 16.2 28.  27.3]\n",
      "\n",
      "Shape of Reshaped Train input data : (42, 1) \n",
      "Shape of Reshaped Train target data  : (42, 1)\n",
      "\n",
      "Contents of Reshaped Train input data : \n",
      "[[19.6]\n",
      " [22. ]\n",
      " [18.7]\n",
      " [17.4]\n",
      " [36. ]] \n",
      "  ...\n",
      "\n",
      "Contents of Reshaped Train target data  : \n",
      "[[ 85.]\n",
      " [135.]\n",
      " [ 78.]\n",
      " [ 70.]\n",
      " [700.]]\n",
      "  ...\n",
      "\n",
      "Shape of Reshaped Test input data : (14, 1) \n",
      "Shape of Reshaped Test target data  : (14, 1)\n",
      "\n",
      "Contents of Reshaped Test input data : \n",
      "[[ 8.4]\n",
      " [18. ]\n",
      " [27.5]\n",
      " [21.3]\n",
      " [22.5]] \n",
      "  ...\n",
      "\n",
      "Contents of Reshaped Test target data  : \n",
      "[[  5.9]\n",
      " [100. ]\n",
      " [250. ]\n",
      " [130. ]\n",
      " [130. ]]\n",
      "  ...\n",
      "\n",
      "Score of K-Neighbors Regressor : 0.992809406101064 \n",
      " > Tip: Regessor uses R^2 as Score.\n",
      "\n",
      "R^2 Score of K-Neighbors Regressor : 19.157142857142862 \n",
      " > Tip: On Average 19.157g Error \n",
      "\n",
      "comparison Score of K-Neighbors Test and Train\n",
      " > Train: 0.9698823289099254 \n",
      " > Test: 0.992809406101064\n",
      " > Tip: \"Train < Test\" is Underfitting! (FYI, \"Train > Test\" is Overfitting)\n",
      "\n"
     ]
    },
    {
     "data": {
      "image/png": "[encoded data removed]",
      "text/plain": [
       "<Figure size 432x288 with 1 Axes>"
      ]
     },
     "metadata": {
      "needs_background": "light"
     },
     "output_type": "display_data"
    },
    {
     "name": "stdout",
     "output_type": "stream",
     "text": [
      " > Tip: \"Best K number is 3~4!\n",
      "\n"
     ]
    }
   ],
   "source": [
    "#Ch 선형 회귀\n",
    "# 크기로 무게를 예측하는 모델\n",
    "# 데이터 준비\n",
    "import numpy as np\n",
    "\n",
    "perch_length = np.array([8.4, 13.7, 15.0, 16.2, 17.4, 18.0, 18.7, 19.0, 19.6, 20.0, 21.0,\n",
    "       21.0, 21.0, 21.3, 22.0, 22.0, 22.0, 22.0, 22.0, 22.5, 22.5, 22.7,\n",
    "       23.0, 23.5, 24.0, 24.0, 24.6, 25.0, 25.6, 26.5, 27.3, 27.5, 27.5,\n",
    "       27.5, 28.0, 28.7, 30.0, 32.8, 34.5, 35.0, 36.5, 36.0, 37.0, 37.0,\n",
    "       39.0, 39.0, 39.0, 40.0, 40.0, 40.0, 40.0, 42.0, 43.0, 43.0, 43.5,\n",
    "       44.0])\n",
    "perch_weight = np.array([5.9, 32.0, 40.0, 51.5, 70.0, 100.0, 78.0, 80.0, 85.0, 85.0, 110.0,\n",
    "       115.0, 125.0, 130.0, 120.0, 120.0, 130.0, 135.0, 110.0, 130.0,\n",
    "       150.0, 145.0, 150.0, 170.0, 225.0, 145.0, 188.0, 180.0, 197.0,\n",
    "       218.0, 300.0, 260.0, 265.0, 250.0, 250.0, 300.0, 320.0, 514.0,\n",
    "       556.0, 840.0, 685.0, 700.0, 700.0, 690.0, 900.0, 650.0, 820.0,\n",
    "       850.0, 900.0, 1015.0, 820.0, 1100.0, 1000.0, 1100.0, 1000.0,\n",
    "       1000.0])\n",
    "\n",
    "#데이터 시각화 하여 확인\n",
    "import matplotlib.pyplot as plt\n",
    "perch_scatter = plt\n",
    "perch_scatter.scatter(perch_length, perch_weight)\n",
    "perch_scatter.xlabel('length')\n",
    "perch_scatter.ylabel('wegiht')\n",
    "perch_scatter.title('Scatter Graph of Perch')\n",
    "perch_scatter.show()\n",
    "\n",
    "#Train, Test 데이터 분류\n",
    "from sklearn.model_selection import train_test_split\n",
    "train_input, test_input, train_target, test_target = train_test_split(perch_length, perch_weight, random_state = 42)\n",
    "print(f'Shape of Train data : {train_input.shape} \\nShape of Test data  : {test_input.shape}\\n')\n",
    "print(f'Contents of Train data : \\n{train_input} \\nContents of Test data  : \\n{test_input}\\n')\n",
    "#행으로 된 데이터를 열 데이터로 바꿔야함.\n",
    "train_reshape_input = train_input.reshape(-1,1) #-1로 하면 열의 개수 전부를 바꾼다는 뜻임\n",
    "train_reshape_target = train_target.reshape(-1,1)\n",
    "print(f'Shape of Reshaped Train input data : {train_reshape_input.shape} \\nShape of Reshaped Train target data  : {train_reshape_target.shape}\\n')\n",
    "print(f'Contents of Reshaped Train input data : \\n{train_reshape_input[:5]} \\n  ...\\n\\nContents of Reshaped Train target data  : \\n{train_reshape_target[:5]}\\n  ...\\n')\n",
    "\n",
    "test_reshape_input = test_input.reshape(-1,1) #-1로 하면 열의 개수 전부를 바꾼다는 뜻임\n",
    "test_reshape_target = test_target.reshape(-1,1)\n",
    "print(f'Shape of Reshaped Test input data : {test_reshape_input.shape} \\nShape of Reshaped Test target data  : {test_reshape_target.shape}\\n')\n",
    "print(f'Contents of Reshaped Test input data : \\n{test_reshape_input[:5]} \\n  ...\\n\\nContents of Reshaped Test target data  : \\n{test_reshape_target[:5]}\\n  ...\\n')\n",
    "\n",
    "\n",
    "#KNeighborsRegessor 결정계수 R^2\n",
    "from sklearn.neighbors import KNeighborsRegressor\n",
    "perch_krn = KNeighborsRegressor()\n",
    "perch_krn.fit(train_reshape_input, y=train_reshape_target)\n",
    "score_perch_krn = perch_krn.score(test_reshape_input, test_reshape_target)\n",
    "print(f'Score of K-Neighbors Regressor : {score_perch_krn} \\n > Tip: Regessor uses R^2 as Score.\\n') \n",
    "\n",
    "#mean_absolute_eorro 를 통해 R^2 구하는 법\n",
    "from sklearn.metrics import mean_absolute_error\n",
    "test_prediction = perch_krn.predict(test_reshape_input) \n",
    "mea_perch_krn = mean_absolute_error(test_reshape_target, test_prediction)\n",
    "print(f'R^2 Score of K-Neighbors Regressor : {mea_perch_krn} \\n > Tip: On Average {mea_perch_krn:.3f}g Error \\n') \n",
    "\n",
    "# Train data Score vs Test data Score\n",
    "score_prech_krn_train = perch_krn.score(train_reshape_input, train_reshape_target)\n",
    "score_prech_krn_test = perch_krn.score(test_reshape_input, test_reshape_target)\n",
    "print(f'comparison Score of K-Neighbors Test and Train\\n > Train: {score_prech_krn_train} \\n > Test: {score_prech_krn_test}') \n",
    "print(' > Tip: \"Train < Test\" is Underfitting! (FYI, \"Train > Test\" is Overfitting)\\n')\n",
    "\n",
    "#Adjusing Hyper Para of K-Neighbors Regessor\n",
    "\n",
    "score_train_list = []\n",
    "score_test_list = []\n",
    "k_number = []\n",
    "\n",
    "for i in range(1,10):\n",
    "    perch_krn.n_neighbors = i\n",
    "    perch_krn.fit(train_reshape_input, train_reshape_target)\n",
    "    train_score = perch_krn.score(train_reshape_input, train_reshape_target)\n",
    "    test_score = perch_krn.score(test_reshape_input, test_reshape_target)\n",
    "    \n",
    "    score_train_list.append(train_score)\n",
    "    score_test_list.append(test_score)\n",
    "    k_number.append(i)\n",
    "\n",
    "score_scatter = plt\n",
    "score_scatter.scatter(k_number, score_train_list)\n",
    "score_scatter.scatter(k_number, score_test_list, marker='^')\n",
    "score_scatter.xlabel('K Number')\n",
    "score_scatter.ylabel('Score')\n",
    "score_scatter.title('K Number - Score Comparsion Graph')\n",
    "score_scatter.show()\n",
    "\n",
    "print(' > Tip: \"Best K number is 3~4!\\n')\n",
    "\n",
    "\n"
   ]
  },
  {
   "cell_type": "code",
   "execution_count": 93,
   "id": "3a14f9e8",
   "metadata": {},
   "outputs": [
    {
     "name": "stdout",
     "output_type": "stream",
     "text": [
      "Predict of Sample data - \"length : 50\" is \"Weight : 1033.33...\" \n",
      "\n",
      "Mean of Sample Data's Neigbor : 1033.333\n",
      "Predict of Sample : [1033.33333333]\n",
      "Predict of Extreme Sample : [1033.33333333]\n",
      ">Tip: K Neighbor Algorithm has a weak point for predicting overranged sample data.\n",
      "\n",
      "\n"
     ]
    },
    {
     "data": {
      "image/png": "[encoded data removed]",
      "text/plain": [
       "<Figure size 432x288 with 1 Axes>"
      ]
     },
     "metadata": {
      "needs_background": "light"
     },
     "output_type": "display_data"
    },
    {
     "name": "stdout",
     "output_type": "stream",
     "text": [
      "\n",
      "Linear Regression of Coef : 39.017144963630194, Intercept: -709.0186449535477\n"
     ]
    },
    {
     "data": {
      "image/png": "[encoded data removed]",
      "text/plain": [
       "<Figure size 432x288 with 1 Axes>"
      ]
     },
     "metadata": {
      "needs_background": "light"
     },
     "output_type": "display_data"
    },
    {
     "name": "stdout",
     "output_type": "stream",
     "text": [
      "Score of Train : 0.9398463339976041\n",
      "Score of Test  : 0.8247503123313559\n",
      "\n",
      "Let's make quadratic function \n",
      "\n",
      "\n",
      "Linear Regression of Coef 1 : 1.014, Coef 2 : -21.558 , Intercept: -709.019\n"
     ]
    },
    {
     "data": {
      "image/png": "[encoded data removed]",
      "text/plain": [
       "<Figure size 432x288 with 1 Axes>"
      ]
     },
     "metadata": {
      "needs_background": "light"
     },
     "output_type": "display_data"
    },
    {
     "name": "stdout",
     "output_type": "stream",
     "text": [
      "Score of Train : 0.9706807451768623\n",
      "Score of Test  : 0.9775935108325121\n",
      "\n"
     ]
    }
   ],
   "source": [
    "#3-2 선형 회귀\n",
    "import numpy as np\n",
    "perch_length = np.array([8.4, 13.7, 15.0, 16.2, 17.4, 18.0, 18.7, 19.0, 19.6, 20.0, 21.0,\n",
    "       21.0, 21.0, 21.3, 22.0, 22.0, 22.0, 22.0, 22.0, 22.5, 22.5, 22.7,\n",
    "       23.0, 23.5, 24.0, 24.0, 24.6, 25.0, 25.6, 26.5, 27.3, 27.5, 27.5,\n",
    "       27.5, 28.0, 28.7, 30.0, 32.8, 34.5, 35.0, 36.5, 36.0, 37.0, 37.0,\n",
    "       39.0, 39.0, 39.0, 40.0, 40.0, 40.0, 40.0, 42.0, 43.0, 43.0, 43.5,\n",
    "       44.0])\n",
    "perch_weight = np.array([5.9, 32.0, 40.0, 51.5, 70.0, 100.0, 78.0, 80.0, 85.0, 85.0, 110.0,\n",
    "       115.0, 125.0, 130.0, 120.0, 120.0, 130.0, 135.0, 110.0, 130.0,\n",
    "       150.0, 145.0, 150.0, 170.0, 225.0, 145.0, 188.0, 180.0, 197.0,\n",
    "       218.0, 300.0, 260.0, 265.0, 250.0, 250.0, 300.0, 320.0, 514.0,\n",
    "       556.0, 840.0, 685.0, 700.0, 700.0, 690.0, 900.0, 650.0, 820.0,\n",
    "       850.0, 900.0, 1015.0, 820.0, 1100.0, 1000.0, 1100.0, 1000.0,\n",
    "       1000.0])\n",
    "\n",
    "# 데이터 분리\n",
    "from sklearn.model_selection import train_test_split\n",
    "\n",
    "train_input, test_input, train_target, test_target = train_test_split(perch_length, perch_weight, random_state =42)\n",
    "\n",
    "#데이터를 2차원 배열로 바꿈\n",
    "train_input = train_input.reshape(-1,1)\n",
    "test_input = test_input.reshape(-1,1)\n",
    "train_target = train_target.reshape(-1,1)\n",
    "test_target = test_target.reshape(-1,1)\n",
    "\n",
    "# K Neighbor의 한계\n",
    "from sklearn.neighbors import KNeighborsRegressor\n",
    "knr = KNeighborsRegressor(n_neighbors = 3)\n",
    "knr.fit(train_input, train_target)\n",
    "sample = [[50]]\n",
    "sample_predict = knr.predict(sample) #샘플 데이터 예측\n",
    "print(f'Predict of Sample data - \"length : {sample[0][0]}\" is \"Weight : {sample_predict[0][0]:0.2f}...\" \\n')\n",
    "\n",
    "\n",
    "#산점도로 결과 확인해보기\n",
    "import matplotlib.pyplot as plt\n",
    "\n",
    "distances, indexes = knr.kneighbors(sample)\n",
    "perch_scatter = plt\n",
    "perch_scatter.scatter(train_input, train_target)\n",
    "perch_scatter.scatter(train_input[indexes], train_target[indexes])\n",
    "perch_scatter.scatter(sample[0], sample_predict[0], marker = \"^\")\n",
    "perch_scatter.xlabel(\"lenght\")\n",
    "perch_scatter.ylabel(\"weight\")\n",
    "perch_scatter.title(\"Predict Perch's Data Scatter Graph\\n(feat. K-Neighbor Regressor)\")\n",
    "\n",
    "mean_neighbors = np.mean(train_target[indexes])\n",
    "\n",
    "extreme_sample =[[70]] # length:70\n",
    "extreme_predict = knr.predict(extreme_sample)\n",
    "perch_scatter.scatter(extreme_sample[0], extreme_predict[0], marker = \"^\") #산점도 그래프에 예측값 추가\n",
    "\n",
    "print(f\"Mean of Sample Data's Neigbor : {mean_neighbors:0.3f}\\nPredict of Sample : {sample_predict[0]}\\nPredict of Extreme Sample : {predict_extreme[0]}\\n>Tip: K Neighbor Algorithm has a weak point for predicting overranged sample data.\\n\\n\")\n",
    "perch_scatter.show()\n",
    "\n",
    "\n",
    "# 선형회귀(LinearRegression)으로 예측\n",
    "from sklearn.linear_model import LinearRegression\n",
    "lr = LinearRegression()\n",
    "lr.fit(train_input, train_target)\n",
    "lr_coef, lr_intercept = lr.coef_[0][0], lr.intercept_[0]\n",
    "\n",
    "print(f'\\nLinear Regression of Coef : {lr_coef}, Intercept: {lr_intercept}' )\n",
    "\n",
    "predict_lr = lr.predict(sample)\n",
    "\n",
    "perch_lr_scatter = plt\n",
    "perch_lr_scatter.scatter(train_input, train_target)\n",
    "perch_lr_scatter.scatter(sample[0], predict_lr[0], marker = \"^\")\n",
    "perch_lr_scatter.plot([10, 50], [10*lr_coef+lr_intercept, 50*lr_coef+lr_intercept])\n",
    "\n",
    "perch_lr_scatter.xlabel(\"lenght\")\n",
    "perch_lr_scatter.ylabel(\"weight\")\n",
    "perch_lr_scatter.title(\"Predict Perch's Data Scatter Graph\\n(feat. Linear Regressor)\")\n",
    "perch_lr_scatter.show()\n",
    "\n",
    "#과소적합 여부 확인 하기\n",
    "score_train = lr.score(train_input, train_target)\n",
    "score_test = lr.score(test_input, test_target)\n",
    "\n",
    "print(f'Score of Train : {score_train}\\nScore of Test  : {score_test}\\n')\n",
    "\n",
    "# Weight = a*Height^2 + b*Height + c\n",
    "print(f\"Let's make quadratic function \\n\")\n",
    "train_poly = np.column_stack((train_input**2, train_input))\n",
    "test_poly = np.column_stack((test_input**2, test_input))\n",
    "\n",
    "lr_poly = LinearRegression()\n",
    "lr_poly.fit(train_poly, train_target)\n",
    "\n",
    "lr_poly_coef, lr_poly_intercept = lr_poly.coef_[0], lr_poly.intercept_[0]\n",
    "\n",
    "print(f'\\nLinear Regression of Coef 1 : {lr_poly_coef[0]:0.3f}, Coef 2 : {lr_poly_coef[1]:0.3f} , Intercept: {lr_intercept:0.3f}' )\n",
    "\n",
    "predict_lr_poly = lr.predict(sample)\n",
    "perch_lr_scatter = plt\n",
    "perch_lr_scatter.scatter(train_input, train_target)\n",
    "perch_lr_scatter.scatter(sample[0], predict_lr_poly[0], marker = \"^\")\n",
    "\n",
    "point = np.arange(15, 50)\n",
    "perch_lr_scatter.plot(point, lr_poly_coef[0]*point**2 + lr_poly_coef[1]*point + lr_poly_intercept)\n",
    "\n",
    "\n",
    "perch_lr_scatter.xlabel(\"lenght\")\n",
    "perch_lr_scatter.ylabel(\"weight\")\n",
    "perch_lr_scatter.title(\"Predict Perch's Data Scatter Graph\\n(feat. Quadratic Regressor)\")\n",
    "perch_lr_scatter.show()\n",
    "\n",
    "#과소적합 여부 확인 하기\n",
    "score_poly_train = lr_poly.score(train_poly, train_target)\n",
    "score_poly_test = lr_poly.score(test_poly, test_target)\n",
    "print(f'Score of Train : {score_poly_train}\\nScore of Test  : {score_poly_test}\\n')\n"
   ]
  },
  {
   "cell_type": "code",
   "execution_count": 118,
   "id": "79e09d5a",
   "metadata": {},
   "outputs": [
    {
     "name": "stdout",
     "output_type": "stream",
     "text": [
      "Contents of input data : \n",
      "[[ 8.4   2.11  1.41]\n",
      " [13.7   3.53  2.  ]\n",
      " [15.    3.82  2.43]\n",
      " [16.2   4.59  2.63]\n",
      " [17.4   4.59  2.94]]\n",
      "  ...\n",
      "\n",
      "Shape of input data : (56, 3)\n",
      "\n",
      "\n",
      "Shape of Train input data : (56, 3) \n",
      "Shape of Reshaped Train target data  : (56,)\n",
      "\n",
      "Contents of Train input data : \n",
      "[[ 8.4   2.11  1.41]\n",
      " [13.7   3.53  2.  ]\n",
      " [15.    3.82  2.43]\n",
      " [16.2   4.59  2.63]\n",
      " [17.4   4.59  2.94]] \n",
      "  ...\n",
      "\n",
      "Contents of Reshaped Train target data  : \n",
      "[ 5.9 32.  40.  51.5 70. ]\n",
      "  ...\n",
      "\n"
     ]
    },
    {
     "ename": "AttributeError",
     "evalue": "'PolynomialFeatures' object has no attribute 'trainsform'",
     "output_type": "error",
     "traceback": [
      "\u001b[1;31m---------------------------------------------------------------------------\u001b[0m",
      "\u001b[1;31mAttributeError\u001b[0m                            Traceback (most recent call last)",
      "Input \u001b[1;32mIn [118]\u001b[0m, in \u001b[0;36m<cell line: 26>\u001b[1;34m()\u001b[0m\n\u001b[0;32m     24\u001b[0m poly \u001b[38;5;241m=\u001b[39m PolynomialFeatures()\n\u001b[0;32m     25\u001b[0m poly\u001b[38;5;241m.\u001b[39mfit([[\u001b[38;5;241m2\u001b[39m,\u001b[38;5;241m3\u001b[39m]])\n\u001b[1;32m---> 26\u001b[0m \u001b[38;5;28mprint\u001b[39m(\u001b[43mpoly\u001b[49m\u001b[38;5;241;43m.\u001b[39;49m\u001b[43mtrainsform\u001b[49m([[\u001b[38;5;241m2\u001b[39m,\u001b[38;5;241m3\u001b[39m]]))\n",
      "\u001b[1;31mAttributeError\u001b[0m: 'PolynomialFeatures' object has no attribute 'trainsform'"
     ]
    }
   ],
   "source": [
    "import pandas as pd\n",
    "df = pd.read_csv('https://raw.githubusercontent.com/rickiepark/hg-mldl/master/perch_full.csv')\n",
    "perch_full = df.to_numpy()\n",
    "print(f'Contents of input data : \\n{perch_full[:5]}\\n  ...\\n')\n",
    "print(f'Shape of input data : {perch_full.shape}\\n\\n')\n",
    "\n",
    "\n",
    "perch_weight = np.array([5.9, 32.0, 40.0, 51.5, 70.0, 100.0, 78.0, 80.0, 85.0, 85.0, 110.0,\n",
    "       115.0, 125.0, 130.0, 120.0, 120.0, 130.0, 135.0, 110.0, 130.0,\n",
    "       150.0, 145.0, 150.0, 170.0, 225.0, 145.0, 188.0, 180.0, 197.0,\n",
    "       218.0, 300.0, 260.0, 265.0, 250.0, 250.0, 300.0, 320.0, 514.0,\n",
    "       556.0, 840.0, 685.0, 700.0, 700.0, 690.0, 900.0, 650.0, 820.0,\n",
    "       850.0, 900.0, 1015.0, 820.0, 1100.0, 1000.0, 1100.0, 1000.0,\n",
    "       1000.0])\n",
    "\n",
    "from sklearn.model_selection import train_test_split\n",
    "train_input, test_input, train_target, test_target =  train_test_split(perch_full, perch_weight, random_state =42)\n",
    "\n",
    "print(f'Shape of Train input data : {perch_full.shape} \\nShape of Reshaped Train target data  : {perch_weight.shape}\\n')\n",
    "print(f'Contents of Train input data : \\n{perch_full[:5]} \\n  ...\\n\\nContents of Reshaped Train target data  : \\n{perch_weight[:5]}\\n  ...\\n')\n",
    "\n",
    "# sklearn transgormer,\"PolynomialFeatures\"\n",
    "from sklearn.preprocessing import PolynomialFeatures\n",
    "poly = PolynomialFeatures()\n",
    "poly.fit([[2,3]])\n",
    "#print(poly.trainsform([[2,3]]))# same mathod as \".fit_transform() \""
   ]
  }
 ],
 "metadata": {
  "kernelspec": {
   "display_name": "Python 3 (ipykernel)",
   "language": "python",
   "name": "python3"
  },
  "language_info": {
   "codemirror_mode": {
    "name": "ipython",
    "version": 3
   },
   "file_extension": ".py",
   "mimetype": "text/x-python",
   "name": "python",
   "nbconvert_exporter": "python",
   "pygments_lexer": "ipython3",
   "version": "3.9.12"
  }
 },
 "nbformat": 4,
 "nbformat_minor": 5
}
