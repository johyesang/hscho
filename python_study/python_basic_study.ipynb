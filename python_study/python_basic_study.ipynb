{
 "cells": [
  {
   "cell_type": "code",
   "execution_count": 16,
   "id": "c230f98d",
   "metadata": {},
   "outputs": [
    {
     "name": "stdout",
     "output_type": "stream",
     "text": [
      "Hello World\n",
      "3\n",
      "안녕\n",
      "5\n",
      "<class 'int'>\n",
      "hscho\n",
      "\n",
      "사과\n",
      "수박\n",
      "['사과', '바나나']\n",
      "['바나나', '메론', '수박']\n",
      "4\n",
      "1\n",
      "['사과', 'banana', '메론', '수박']\n",
      "[1, 2, 3, 4, 8]\n",
      "['hscho', [10, 50, 90, 60]]\n"
     ]
    }
   ],
   "source": [
    "#기본 출력\n",
    "print('Hello World')\n",
    "\n",
    "#변수선언\n",
    "x = 3\n",
    "y = '안녕'\n",
    "\n",
    "print(x)\n",
    "print(y)\n",
    "\n",
    "#연산\n",
    "print(3+2)\n",
    "3+2\n",
    "\n",
    "#데이터타입\n",
    "a = 1\n",
    "print(type(a))\n",
    "\n",
    "#사용자 데이터 입력 받기\n",
    "#name = input('name : ');\n",
    "print(name)\n",
    "\n",
    "#리스트\n",
    "a_list = []\n",
    "text_list = ['사과', '바나나', '메론']\n",
    "int_list = [1,2,3,4,5,6,7,8,9]\n",
    "\n",
    "#리스트에 데이터 추가하기\n",
    "text_list.append('수박')\n",
    "print()\n",
    "\n",
    "#리스트 데이터 불러오기\n",
    "print(text_list[0]) \n",
    "print(text_list[-1])\n",
    "print(text_list[0:2])\n",
    "print(text_list[1:])\n",
    "\n",
    "#엘리먼트 갯수 구하기\n",
    "print(len(text_list))\n",
    "\n",
    "#인텍스 찾기\n",
    "print(text_list.index('바나나'))\n",
    "\n",
    "#배열의 정보변경\n",
    "text_list[1] = 'banana'\n",
    "print(text_list)\n",
    "\n",
    "# 리스트 배열 내림차순 정렬\n",
    "x = [4,3,2,8,1]\n",
    "y = sorted(x)\n",
    "print(y)"
   ]
  },
  {
   "cell_type": "code",
   "execution_count": 25,
   "id": "9f58a01b",
   "metadata": {},
   "outputs": [
    {
     "name": "stdout",
     "output_type": "stream",
     "text": [
      "[['tom', 'miki', 'jill', 'jane'], [10, 50, 90, 60]]\n",
      "tom\n"
     ]
    }
   ],
   "source": [
    "#이차원 배열\n",
    "names = ['tom', 'miki', 'jill', 'jane']\n",
    "scores = [10,50,90,60]\n",
    "high_scores = [names, scores]\n",
    "\n",
    "print(high_scores)\n",
    "\n",
    "#이차원 배열 리스트에서 특정 데이터 가져오기\n",
    "print(high_scores[0][0])"
   ]
  },
  {
   "cell_type": "code",
   "execution_count": 5,
   "id": "1fef33d5",
   "metadata": {},
   "outputs": [
    {
     "name": "stdout",
     "output_type": "stream",
     "text": [
      "0 ,1 ,1 ,2 ,3 ,5 ,8 ,13 ,21 ,34 ,55 ,89 ,144 ,233 ,377 ,610 ,987 ,"
     ]
    }
   ],
   "source": [
    "#while 문: 피보나치 수열\n",
    "\n",
    "a, b = 0, 1\n",
    "while a < 1000:\n",
    "    print(a, end=' ,')\n",
    "    a, b = b, a+b\n",
    "    \n"
   ]
  },
  {
   "cell_type": "code",
   "execution_count": 8,
   "id": "ba7469d2",
   "metadata": {},
   "outputs": [
    {
     "name": "stdout",
     "output_type": "stream",
     "text": [
      "숫자를 입력하세요: 42\n",
      "More\n"
     ]
    }
   ],
   "source": [
    "#if문\n",
    "x = int(input(\"숫자를 입력하세요: \"))\n",
    "\n",
    "if x < 0:\n",
    "    x = 0 \n",
    "    print('Nagative changed to zero')\n",
    "elif x == 0 :\n",
    "    print('Zero')\n",
    "elif x == 1 :\n",
    "    print('Single')\n",
    "else :\n",
    "    print(\"More\")"
   ]
  },
  {
   "cell_type": "code",
   "execution_count": null,
   "id": "fd841047",
   "metadata": {},
   "outputs": [],
   "source": [
    "#for 문\n",
    "words = ['cat', 'window', 'defenestrate']\n",
    "for w in words:\n",
    "    print(w, \"of length: \", len(w))\n",
    "\n",
    "\n",
    "users = {'Hans': 'active', 'Éléonore': 'inactive', '景太郎': 'active'}\n",
    "for user, status in users.copy().items():\n",
    "    if status == 'inactive':\n",
    "        del users[user]\n",
    "        \n",
    "active_users = {}\n",
    "for users, status in users.items():\n",
    "    if status == 'active':\n",
    "        active_users[user] = status\n",
    "\n",
    "print(active_users)\n",
    "\n"
   ]
  },
  {
   "cell_type": "code",
   "execution_count": null,
   "id": "1a592dcb",
   "metadata": {},
   "outputs": [],
   "source": [
    "#range() 함수\n",
    "for i in range(5):\n",
    "    print(i)\n",
    "    \n",
    "a_list= list(range(5,10))\n",
    "b_list = list(range(0,10,3))\n",
    "c_list = list(range(-10,-100, -30))\n",
    "\n",
    "print(a_list)\n",
    "print(b_list)\n",
    "print(c_list)\n",
    "\n",
    "a = ['Mary', 'had', 'a', 'little', 'lamb']\n",
    "for i in range(len(a)):\n",
    "    print(i, a[i])\n",
    "    \n",
    "sum(range(4)) # 0 + 1 + 2 + 3"
   ]
  },
  {
   "cell_type": "code",
   "execution_count": null,
   "id": "63d39e16",
   "metadata": {},
   "outputs": [],
   "source": [
    "#루프의 braak, coutinue else\n",
    "for n in range(2, 10):\n",
    "    for x in range(2,n):\n",
    "        if n % x == 0:\n",
    "            print(n, 'equals', x, \"*\", n//x)\n",
    "            break\n",
    "    else:\n",
    "        print(n, 'is a prime number')\n",
    "        \n",
    "for num in range(2, 10):\n",
    "    if num % 2 == 0:\n",
    "        print(\"Found an even number\", num)\n",
    "        continue \n",
    "    print(\"Found an odd number\", num)\n",
    "        "
   ]
  },
  {
   "cell_type": "code",
   "execution_count": null,
   "id": "a7a4bcc4",
   "metadata": {},
   "outputs": [],
   "source": [
    "# pass 문\n",
    "while True:\n",
    "    pass\n",
    "#최소한의 클래스 만들 때 pass 문 사용함.\n",
    "class MyEmptyClass :\n",
    "    pass\n",
    "#함수 등을 짤 때 pass 문 사용\n",
    "def initlog(*args):\n",
    "    pass #나중에 작성"
   ]
  },
  {
   "cell_type": "code",
   "execution_count": null,
   "id": "77473f17",
   "metadata": {},
   "outputs": [],
   "source": [
    "#함수 정의\n",
    "'''\n",
    "def fib(n) :\n",
    "    a, b = 0 , 1\n",
    "    while a < n:\n",
    "        print(a, end=' ')\n",
    "        a, b = b, a+b\n",
    "    \n",
    "fib(10)\n",
    "'''\n",
    "def ask_ok(promptretries = 4, reminder='Plesase try again!'):\n",
    "    while True:\n",
    "        ok = input(prompt)\n",
    "        if ok in ('y', 'ye', 'yes'):\n",
    "            return True\n",
    "        if ok in ('n', 'no'):\n",
    "            return False\n",
    "        retries = retries -1\n",
    "        if retries < 0 :\n",
    "            raise ValueError('invalid user response')\n",
    "        print(reminder)\n",
    "\n",
    "ask_ok('정말 끝내기 원하시나요?')"
   ]
  },
  {
   "cell_type": "code",
   "execution_count": 9,
   "id": "5e5af671",
   "metadata": {},
   "outputs": [
    {
     "name": "stdout",
     "output_type": "stream",
     "text": [
      "test\n",
      "2\n",
      "test\n",
      "test\n",
      "pos1 pos2 123 key1 key2\n"
     ]
    }
   ],
   "source": [
    "def standard_arg(arg):\n",
    "    print(arg)\n",
    "\n",
    "standard_arg('test')\n",
    "standard_arg(arg=2)\n",
    "\n",
    "# 변수를 순서에 맞추어 입력해야함. not 키워트\n",
    "def pos_only_arg(arg, /):\n",
    "    print(arg)\n",
    "    \n",
    "pos_only_arg('test')\n",
    "# pos_only_arg(arg='test')\n",
    "#애러 발생함. '/'를 넣으면 순서로만 변수를 전달해야함\n",
    "\n",
    "#변수를 키워드로만 전달해야함 \n",
    "def kwd_only_arg(*, arg):\n",
    "    print(arg)\n",
    "    \n",
    "kwd_only_arg(arg='test')\n",
    "#kwd_only_arg(test)\n",
    "#애러발생, 키워드로만 변수 호출 가능\n",
    "\n",
    "# 혼합하여 사용하는 법\n",
    "def combined_example(pos_only1, pos_only2, / , standard, *, kwd_only1, kwd_only2):\n",
    "    print(pos_only1, pos_only2,standard, kwd_only1, kwd_only2)\n",
    "    \n",
    "combined_example('pos1','pos2',standard='123', kwd_only1='key1', kwd_only2='key2')\n",
    "\n"
   ]
  },
  {
   "cell_type": "code",
   "execution_count": 19,
   "id": "9daa01c7",
   "metadata": {},
   "outputs": [
    {
     "data": {
      "text/plain": [
       "False"
      ]
     },
     "execution_count": 19,
     "metadata": {},
     "output_type": "execute_result"
    }
   ],
   "source": [
    "#lamda 표현식, 간단한 함수 정의\n",
    "is_even = lambda x : x % 2 == 0\n",
    "is_even(1) #False\n"
   ]
  },
  {
   "cell_type": "code",
   "execution_count": 22,
   "id": "be7073f4",
   "metadata": {},
   "outputs": [
    {
     "name": "stdout",
     "output_type": "stream",
     "text": [
      "[3, 4, 5, 6, 7]\n",
      "[3, 4, 5, 6, 7]\n"
     ]
    }
   ],
   "source": [
    "#map(f(),[]) 사용법\n",
    "#1. 일반 함수로 map()을 사용하면?\n",
    "def plus_two(x):\n",
    "    return x+2\n",
    "\n",
    "result1 = list(map(plus_two, [1, 2, 3, 4, 5]))\n",
    "print(result1)\n",
    "\n",
    "#2. 람다 함프로 map()을 사용하면?\n",
    "result2 = list(map(lambda x: x+2, [1, 2, 3, 4, 5]))\n",
    "print(result2)"
   ]
  },
  {
   "cell_type": "code",
   "execution_count": 26,
   "id": "5ea6f856",
   "metadata": {},
   "outputs": [
    {
     "name": "stdout",
     "output_type": "stream",
     "text": [
      "[0, 2, 4, 6, 8]\n",
      "[0, 2, 4, 6, 8]\n"
     ]
    }
   ],
   "source": [
    "#filter(f(), []) 사용법\n",
    "#1. 일반 함수 버전\n",
    "def is_even(x):\n",
    "    return x % 2 == 0\n",
    "\n",
    "result1 = list(filter(is_even,range(10)))\n",
    "print(result1)\n",
    "\n",
    "#2. 람다 한수 로 filter() 함수 사용\n",
    "result2 = list(filter(lambda x : x%2 == 0, range(10)))\n",
    "print(result2)"
   ]
  },
  {
   "cell_type": "code",
   "execution_count": 52,
   "id": "b447c91c",
   "metadata": {},
   "outputs": [
    {
     "name": "stdout",
     "output_type": "stream",
     "text": [
      "The value of pi is approximately 3.142.\n",
      "Sjoerd     ==>       4127\n",
      "Jack       ==>       4098\n",
      "Dcab       ==>       7678\n"
     ]
    }
   ],
   "source": [
    "#문자열 출력 시 정렬(포메팅) 방법 f'{변수명}' 사용법\n",
    "import math\n",
    "print(f'The value of pi is approximately {math.pi:.3f}.')\n",
    "\n",
    "table = {'Sjoerd': 4127, 'Jack': 4098, 'Dcab': 7678}\n",
    "for name, phone in table.items():\n",
    "    print(f'{name:10} ==> {phone: 10d}')\n"
   ]
  },
  {
   "cell_type": "code",
   "execution_count": 59,
   "id": "bfc4fa89",
   "metadata": {},
   "outputs": [
    {
     "data": {
      "text/plain": [
       "'[1, \"simple\", \"list\"]'"
      ]
     },
     "execution_count": 59,
     "metadata": {},
     "output_type": "execute_result"
    }
   ],
   "source": [
    "#  json파일 읽고 쓰는 법\n",
    "import json\n",
    "x = [1, 'simple', 'list']\n",
    "json.dumps(x)\n"
   ]
  },
  {
   "cell_type": "code",
   "execution_count": 1,
   "id": "9cc320d4",
   "metadata": {},
   "outputs": [
    {
     "name": "stdout",
     "output_type": "stream",
     "text": [
      "Enter a number: d\n",
      "Need to Enter a number\n",
      "Enter a number: 1\n"
     ]
    }
   ],
   "source": [
    "#예외 처리하기\n",
    "while True:\n",
    "    try:\n",
    "        x = int(input(\"Enter a number: \"))\n",
    "        break\n",
    "    except ValueError:\n",
    "            print(\"Need to Enter a number\")"
   ]
  },
  {
   "cell_type": "code",
   "execution_count": 3,
   "id": "2ec469b0",
   "metadata": {},
   "outputs": [
    {
     "name": "stdout",
     "output_type": "stream",
     "text": [
      "After local assignment: test spam\n",
      "After nonlocal assignment: nonlocal spam\n",
      "After global assignment: nonlocal spam\n",
      "In global scope: global spam\n"
     ]
    }
   ],
   "source": [
    "# 스코프 local, nolocal, global\n",
    "def scope_test():\n",
    "    def do_local():\n",
    "        spam = \"local spam\"\n",
    "\n",
    "    def do_nonlocal():\n",
    "        nonlocal spam\n",
    "        spam = \"nonlocal spam\"\n",
    "\n",
    "    def do_global():\n",
    "        global spam\n",
    "        spam = \"global spam\"\n",
    "\n",
    "    spam = \"test spam\"\n",
    "    do_local()\n",
    "    print(\"After local assignment:\", spam)\n",
    "    do_nonlocal()\n",
    "    print(\"After nonlocal assignment:\", spam)\n",
    "    do_global()\n",
    "    print(\"After global assignment:\", spam)\n",
    "\n",
    "scope_test()\n",
    "print(\"In global scope:\", spam)"
   ]
  },
  {
   "cell_type": "code",
   "execution_count": 11,
   "id": "12e7399a",
   "metadata": {},
   "outputs": [
    {
     "data": {
      "text/plain": [
       "(3.0, -4.5)"
      ]
     },
     "execution_count": 11,
     "metadata": {},
     "output_type": "execute_result"
    }
   ],
   "source": [
    "#clss 클래스 정의\n",
    "class MyClass :\n",
    "    i =  12345\n",
    "    def f(self):\n",
    "        return 'hello world'\n",
    "    \n",
    "a = MyClass()\n",
    "a.f()\n",
    "\n",
    "# __init__ 클래스의 초기 상태값 지정 메소드\n",
    "class Complex:\n",
    "    def __init__(self, realpart, imagpart):\n",
    "        self.r = realpart\n",
    "        self.i = imagpart\n",
    "\n",
    "x = Complex(3.0, -4.5)\n",
    "x.r, x.i\n"
   ]
  },
  {
   "cell_type": "code",
   "execution_count": 50,
   "id": "267cdf20",
   "metadata": {},
   "outputs": [
    {
     "ename": "AttributeError",
     "evalue": "'DogChild' object has no attribute 'tricks'",
     "output_type": "error",
     "traceback": [
      "\u001b[1;31m---------------------------------------------------------------------------\u001b[0m",
      "\u001b[1;31mAttributeError\u001b[0m                            Traceback (most recent call last)",
      "Input \u001b[1;32mIn [50]\u001b[0m, in \u001b[0;36m<cell line: 28>\u001b[1;34m()\u001b[0m\n\u001b[0;32m     26\u001b[0m \u001b[38;5;66;03m#e.name = 'herry'\u001b[39;00m\n\u001b[0;32m     27\u001b[0m e\u001b[38;5;241m.\u001b[39mname\n\u001b[1;32m---> 28\u001b[0m \u001b[43me\u001b[49m\u001b[38;5;241;43m.\u001b[39;49m\u001b[43madd_trick\u001b[49m\u001b[43m(\u001b[49m\u001b[38;5;124;43m'\u001b[39;49m\u001b[38;5;124;43mroll over\u001b[39;49m\u001b[38;5;124;43m'\u001b[39;49m\u001b[43m)\u001b[49m\n",
      "Input \u001b[1;32mIn [50]\u001b[0m, in \u001b[0;36mDog.add_trick\u001b[1;34m(self, trick)\u001b[0m\n\u001b[0;32m      8\u001b[0m \u001b[38;5;28;01mdef\u001b[39;00m \u001b[38;5;21madd_trick\u001b[39m(\u001b[38;5;28mself\u001b[39m, trick):\n\u001b[1;32m----> 9\u001b[0m     \u001b[38;5;28;43mself\u001b[39;49m\u001b[38;5;241;43m.\u001b[39;49m\u001b[43mtricks\u001b[49m\u001b[38;5;241m.\u001b[39mappend(trick)\n",
      "\u001b[1;31mAttributeError\u001b[0m: 'DogChild' object has no attribute 'tricks'"
     ]
    }
   ],
   "source": [
    "class Dog:\n",
    "\n",
    "    def __init__(self, name):\n",
    "        self.name = name\n",
    "        self.kind = 'canine'\n",
    "        self.tricks = []\n",
    "    \n",
    "    def add_trick(self, trick):\n",
    "        self.tricks.append(trick)\n",
    "    \n",
    "    \n",
    "d = Dog('Fido')\n",
    "d.name\n",
    "d.kind = 'Jindo'\n",
    "d.kind\n",
    "d.add_trick('roll over')\n",
    "d.tricks[0]\n",
    "\n",
    "# 상속\n",
    "class DogChild(Dog):\n",
    "    def __init__(self, name):\n",
    "        self.sex = 'Non'\n",
    "        self.name = name\n",
    "\n",
    "e = DogChild('herry')\n",
    "#e.name = 'herry'\n",
    "e.name\n",
    "e.add_trick('roll over')"
   ]
  },
  {
   "cell_type": "code",
   "execution_count": 51,
   "id": "c7ac5c67",
   "metadata": {},
   "outputs": [
    {
     "name": "stdout",
     "output_type": "stream",
     "text": [
      "True\n",
      "2\n"
     ]
    }
   ],
   "source": [
    "class Rectangle:\n",
    "    count = 0  # 클래스 변수\n",
    " \n",
    "    def __init__(self, width, height):\n",
    "        self.width = width\n",
    "        self.height = height\n",
    "        Rectangle.count += 1\n",
    " \n",
    "    # 인스턴스 메서드\n",
    "    def calcArea(self):\n",
    "        area = self.width * self.height\n",
    "        return area\n",
    " \n",
    "    # 정적 메서드\n",
    "    @staticmethod\n",
    "    def isSquare(rectWidth, rectHeight):\n",
    "        return rectWidth == rectHeight   \n",
    " \n",
    "    # 클래스 메서드\n",
    "    @classmethod\n",
    "    def printCount(cls):\n",
    "        print(cls.count)   \n",
    " \n",
    " \n",
    "# 테스트\n",
    "square = Rectangle.isSquare(5, 5)        \n",
    "print(square)   # True        \n",
    " \n",
    "rect1 = Rectangle(5, 5)\n",
    "rect2 = Rectangle(2, 5)\n",
    "rect1.printCount()  # 2 "
   ]
  }
 ],
 "metadata": {
  "kernelspec": {
   "display_name": "Python 3 (ipykernel)",
   "language": "python",
   "name": "python3"
  },
  "language_info": {
   "codemirror_mode": {
    "name": "ipython",
    "version": 3
   },
   "file_extension": ".py",
   "mimetype": "text/x-python",
   "name": "python",
   "nbconvert_exporter": "python",
   "pygments_lexer": "ipython3",
   "version": "3.9.12"
  }
 },
 "nbformat": 4,
 "nbformat_minor": 5
}
