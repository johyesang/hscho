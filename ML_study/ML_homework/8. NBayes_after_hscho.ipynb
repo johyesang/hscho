{
 "cells": [
  {
   "cell_type": "markdown",
   "metadata": {},
   "source": [
    "# Naive Bayes 실습"
   ]
  },
  {
   "cell_type": "markdown",
   "metadata": {},
   "source": [
    "# 1. Gaussian Naive Bayes"
   ]
  },
  {
   "cell_type": "markdown",
   "metadata": {},
   "source": [
    "- 데이터, 모듈 불러오기"
   ]
  },
  {
   "cell_type": "code",
   "execution_count": 114,
   "metadata": {
    "tags": []
   },
   "outputs": [],
   "source": [
    "from sklearn import datasets\n",
    "from sklearn.naive_bayes import GaussianNB"
   ]
  },
  {
   "cell_type": "code",
   "execution_count": 115,
   "metadata": {
    "tags": []
   },
   "outputs": [],
   "source": [
    "import pandas as pd"
   ]
  },
  {
   "cell_type": "code",
   "execution_count": 116,
   "metadata": {
    "tags": []
   },
   "outputs": [],
   "source": [
    "iris = datasets.load_iris()\n",
    "\n",
    "##데이터 확인\n",
    "#for key, val in iris.items():\n",
    "#    print(f'Key:{key} \\nValue :{val}\\n')\n",
    "\n",
    "df_X=pd.DataFrame(iris.data)\n",
    "df_Y=pd.DataFrame(iris.target)"
   ]
  },
  {
   "cell_type": "code",
   "execution_count": 117,
   "metadata": {
    "scrolled": true
   },
   "outputs": [
    {
     "data": {
      "text/html": [
       "<div>\n",
       "<style scoped>\n",
       "    .dataframe tbody tr th:only-of-type {\n",
       "        vertical-align: middle;\n",
       "    }\n",
       "\n",
       "    .dataframe tbody tr th {\n",
       "        vertical-align: top;\n",
       "    }\n",
       "\n",
       "    .dataframe thead th {\n",
       "        text-align: right;\n",
       "    }\n",
       "</style>\n",
       "<table border=\"1\" class=\"dataframe\">\n",
       "  <thead>\n",
       "    <tr style=\"text-align: right;\">\n",
       "      <th></th>\n",
       "      <th>0</th>\n",
       "      <th>1</th>\n",
       "      <th>2</th>\n",
       "      <th>3</th>\n",
       "    </tr>\n",
       "  </thead>\n",
       "  <tbody>\n",
       "    <tr>\n",
       "      <th>0</th>\n",
       "      <td>5.1</td>\n",
       "      <td>3.5</td>\n",
       "      <td>1.4</td>\n",
       "      <td>0.2</td>\n",
       "    </tr>\n",
       "    <tr>\n",
       "      <th>1</th>\n",
       "      <td>4.9</td>\n",
       "      <td>3.0</td>\n",
       "      <td>1.4</td>\n",
       "      <td>0.2</td>\n",
       "    </tr>\n",
       "    <tr>\n",
       "      <th>2</th>\n",
       "      <td>4.7</td>\n",
       "      <td>3.2</td>\n",
       "      <td>1.3</td>\n",
       "      <td>0.2</td>\n",
       "    </tr>\n",
       "    <tr>\n",
       "      <th>3</th>\n",
       "      <td>4.6</td>\n",
       "      <td>3.1</td>\n",
       "      <td>1.5</td>\n",
       "      <td>0.2</td>\n",
       "    </tr>\n",
       "    <tr>\n",
       "      <th>4</th>\n",
       "      <td>5.0</td>\n",
       "      <td>3.6</td>\n",
       "      <td>1.4</td>\n",
       "      <td>0.2</td>\n",
       "    </tr>\n",
       "  </tbody>\n",
       "</table>\n",
       "</div>"
      ],
      "text/plain": [
       "     0    1    2    3\n",
       "0  5.1  3.5  1.4  0.2\n",
       "1  4.9  3.0  1.4  0.2\n",
       "2  4.7  3.2  1.3  0.2\n",
       "3  4.6  3.1  1.5  0.2\n",
       "4  5.0  3.6  1.4  0.2"
      ]
     },
     "execution_count": 117,
     "metadata": {},
     "output_type": "execute_result"
    }
   ],
   "source": [
    "df_X.head()"
   ]
  },
  {
   "cell_type": "code",
   "execution_count": 118,
   "metadata": {},
   "outputs": [
    {
     "data": {
      "text/html": [
       "<div>\n",
       "<style scoped>\n",
       "    .dataframe tbody tr th:only-of-type {\n",
       "        vertical-align: middle;\n",
       "    }\n",
       "\n",
       "    .dataframe tbody tr th {\n",
       "        vertical-align: top;\n",
       "    }\n",
       "\n",
       "    .dataframe thead th {\n",
       "        text-align: right;\n",
       "    }\n",
       "</style>\n",
       "<table border=\"1\" class=\"dataframe\">\n",
       "  <thead>\n",
       "    <tr style=\"text-align: right;\">\n",
       "      <th></th>\n",
       "      <th>0</th>\n",
       "    </tr>\n",
       "  </thead>\n",
       "  <tbody>\n",
       "    <tr>\n",
       "      <th>0</th>\n",
       "      <td>0</td>\n",
       "    </tr>\n",
       "    <tr>\n",
       "      <th>1</th>\n",
       "      <td>0</td>\n",
       "    </tr>\n",
       "    <tr>\n",
       "      <th>2</th>\n",
       "      <td>0</td>\n",
       "    </tr>\n",
       "    <tr>\n",
       "      <th>3</th>\n",
       "      <td>0</td>\n",
       "    </tr>\n",
       "    <tr>\n",
       "      <th>4</th>\n",
       "      <td>0</td>\n",
       "    </tr>\n",
       "  </tbody>\n",
       "</table>\n",
       "</div>"
      ],
      "text/plain": [
       "   0\n",
       "0  0\n",
       "1  0\n",
       "2  0\n",
       "3  0\n",
       "4  0"
      ]
     },
     "execution_count": 118,
     "metadata": {},
     "output_type": "execute_result"
    }
   ],
   "source": [
    "df_Y.head()"
   ]
  },
  {
   "cell_type": "markdown",
   "metadata": {},
   "source": [
    "- 모델 피팅"
   ]
  },
  {
   "cell_type": "code",
   "execution_count": 119,
   "metadata": {
    "tags": []
   },
   "outputs": [],
   "source": [
    "gnb = GaussianNB()\n",
    "gnb_fit = gnb.fit(iris.data, iris.target)\n",
    "y_pred = gnb_fit.predict(iris.data)"
   ]
  },
  {
   "cell_type": "code",
   "execution_count": 120,
   "metadata": {},
   "outputs": [
    {
     "data": {
      "text/plain": [
       "array([[1.00000000e+000, 1.51480769e-017, 2.34820051e-025],\n",
       "       [1.00000000e+000, 2.63876217e-018, 2.79566024e-025],\n",
       "       [7.27347795e-102, 9.45169639e-001, 5.48303606e-002],\n",
       "       [3.23245181e-254, 6.35381031e-011, 1.00000000e+000]])"
      ]
     },
     "execution_count": 120,
     "metadata": {},
     "output_type": "execute_result"
    }
   ],
   "source": [
    "gnb_fit.predict_proba(iris.data)[[1,48,51,100]]"
   ]
  },
  {
   "cell_type": "code",
   "execution_count": 121,
   "metadata": {},
   "outputs": [
    {
     "name": "stdout",
     "output_type": "stream",
     "text": [
      "Predict of gnb : [0 0 1 2]\n",
      "Ansewer of gnb : [0 0 1 2]\n"
     ]
    }
   ],
   "source": [
    "print(f'Predict of gnb : {fitted.predict(iris.data)[[1,48,51,100]]}')\n",
    "print(f'Ansewer of gnb : {iris.target[[1,48,51,100]]}')\n"
   ]
  },
  {
   "cell_type": "markdown",
   "metadata": {},
   "source": [
    "- Confusion matrix 구하기"
   ]
  },
  {
   "cell_type": "code",
   "execution_count": 122,
   "metadata": {
    "jupyter": {
     "outputs_hidden": true
    }
   },
   "outputs": [],
   "source": [
    "from sklearn.metrics import confusion_matrix"
   ]
  },
  {
   "cell_type": "code",
   "execution_count": 123,
   "metadata": {},
   "outputs": [
    {
     "data": {
      "text/plain": [
       "array([[50,  0,  0],\n",
       "       [ 0, 47,  3],\n",
       "       [ 0,  3, 47]], dtype=int64)"
      ]
     },
     "execution_count": 123,
     "metadata": {},
     "output_type": "execute_result"
    }
   ],
   "source": [
    "confusion_matrix(iris.target,y_pred)"
   ]
  },
  {
   "cell_type": "markdown",
   "metadata": {},
   "source": [
    "- Prior 설정하기"
   ]
  },
  {
   "cell_type": "code",
   "execution_count": 124,
   "metadata": {},
   "outputs": [
    {
     "data": {
      "text/plain": [
       "array([[50,  0,  0],\n",
       "       [ 0, 33, 17],\n",
       "       [ 0,  0, 50]], dtype=int64)"
      ]
     },
     "execution_count": 124,
     "metadata": {},
     "output_type": "execute_result"
    }
   ],
   "source": [
    "gnb2 = GaussianNB(priors=[1/100,1/100,98/100])\n",
    "gnb2_fit = gnb2.fit(iris.data, iris.target)\n",
    "y_pred2 = gnb2_fit.predict(iris.data)\n",
    "confusion_matrix(iris.target, y_pred2)"
   ]
  },
  {
   "cell_type": "code",
   "execution_count": 125,
   "metadata": {},
   "outputs": [
    {
     "data": {
      "text/plain": [
       "array([[50,  0,  0],\n",
       "       [ 0, 50,  0],\n",
       "       [ 0, 14, 36]], dtype=int64)"
      ]
     },
     "execution_count": 125,
     "metadata": {},
     "output_type": "execute_result"
    }
   ],
   "source": [
    "gnb3 = GaussianNB(priors=[1/100,98/100,1/100])\n",
    "gnb3_fit = gnb3.fit(iris.data, iris.target)\n",
    "y_pred3 = gnb3_fit.predict(iris.data)\n",
    "confusion_matrix(iris.target, y_pred3)"
   ]
  },
  {
   "cell_type": "markdown",
   "metadata": {},
   "source": [
    "# 2. Multinomial naive bayes"
   ]
  },
  {
   "cell_type": "markdown",
   "metadata": {},
   "source": [
    "- 모듈 불러오기 및 데이터 생성"
   ]
  },
  {
   "cell_type": "code",
   "execution_count": 126,
   "metadata": {
    "jupyter": {
     "outputs_hidden": true
    }
   },
   "outputs": [],
   "source": [
    "from sklearn.naive_bayes import MultinomialNB"
   ]
  },
  {
   "cell_type": "code",
   "execution_count": 127,
   "metadata": {
    "jupyter": {
     "outputs_hidden": true
    }
   },
   "outputs": [],
   "source": [
    "import numpy as np"
   ]
  },
  {
   "cell_type": "code",
   "execution_count": 128,
   "metadata": {
    "jupyter": {
     "outputs_hidden": true
    }
   },
   "outputs": [],
   "source": [
    "X = np.random.randint(5, size=(6, 100))\n",
    "y = np.array([1, 2, 3, 4, 5, 6])"
   ]
  },
  {
   "cell_type": "code",
   "execution_count": 129,
   "metadata": {
    "scrolled": true
   },
   "outputs": [
    {
     "data": {
      "text/plain": [
       "array([[1, 4, 2, 2, 1, 4, 1, 4, 3, 2, 4, 0, 4, 1, 0, 0, 2, 2, 2, 3, 3, 4,\n",
       "        1, 4, 2, 4, 4, 4, 2, 4, 0, 0, 1, 3, 3, 2, 3, 1, 2, 2, 3, 3, 4, 3,\n",
       "        3, 0, 0, 0, 0, 3, 2, 4, 2, 3, 0, 2, 2, 4, 0, 3, 0, 4, 1, 1, 3, 4,\n",
       "        3, 3, 1, 0, 2, 2, 4, 2, 4, 3, 3, 2, 3, 3, 0, 0, 4, 1, 1, 4, 4, 4,\n",
       "        1, 3, 4, 4, 2, 0, 4, 2, 4, 0, 4, 2],\n",
       "       [4, 4, 3, 3, 3, 3, 1, 3, 3, 0, 3, 1, 3, 2, 1, 0, 3, 3, 4, 0, 1, 4,\n",
       "        4, 4, 1, 3, 0, 1, 2, 0, 4, 1, 3, 2, 0, 0, 1, 3, 0, 2, 0, 2, 4, 4,\n",
       "        4, 0, 0, 1, 2, 3, 4, 4, 3, 1, 3, 2, 1, 3, 1, 3, 4, 0, 3, 1, 1, 1,\n",
       "        1, 4, 1, 2, 3, 4, 0, 2, 0, 2, 0, 2, 4, 2, 3, 2, 2, 4, 3, 3, 4, 4,\n",
       "        0, 0, 0, 1, 0, 1, 0, 3, 2, 4, 1, 1],\n",
       "       [2, 0, 0, 2, 3, 1, 0, 2, 1, 1, 1, 4, 3, 2, 3, 0, 1, 3, 1, 4, 4, 1,\n",
       "        0, 4, 0, 4, 1, 2, 2, 4, 3, 4, 3, 3, 1, 2, 2, 4, 0, 1, 0, 4, 3, 2,\n",
       "        3, 1, 4, 3, 2, 3, 2, 0, 0, 1, 3, 0, 2, 0, 0, 2, 1, 3, 3, 0, 3, 4,\n",
       "        2, 2, 0, 3, 2, 3, 4, 0, 1, 3, 1, 0, 0, 3, 1, 1, 1, 0, 0, 2, 2, 1,\n",
       "        1, 4, 4, 0, 3, 1, 0, 4, 0, 2, 2, 3],\n",
       "       [3, 1, 3, 1, 4, 0, 0, 1, 4, 1, 4, 2, 0, 3, 1, 3, 1, 2, 4, 2, 1, 2,\n",
       "        3, 4, 2, 0, 3, 0, 3, 4, 3, 3, 1, 1, 0, 4, 4, 2, 4, 0, 0, 0, 0, 4,\n",
       "        1, 4, 2, 4, 4, 4, 1, 1, 4, 0, 2, 4, 3, 0, 2, 0, 2, 4, 4, 4, 0, 3,\n",
       "        4, 0, 0, 2, 2, 4, 4, 2, 0, 3, 4, 0, 4, 0, 4, 4, 2, 4, 1, 2, 0, 0,\n",
       "        0, 1, 2, 2, 0, 0, 0, 2, 0, 0, 1, 4],\n",
       "       [0, 0, 0, 0, 2, 3, 4, 1, 1, 0, 3, 2, 4, 3, 0, 2, 2, 4, 3, 3, 3, 4,\n",
       "        4, 2, 1, 1, 2, 2, 1, 4, 2, 3, 0, 1, 4, 0, 3, 0, 2, 0, 3, 1, 1, 1,\n",
       "        4, 4, 1, 3, 2, 0, 1, 3, 1, 4, 4, 2, 3, 1, 0, 3, 0, 0, 1, 0, 3, 1,\n",
       "        0, 4, 2, 1, 1, 3, 1, 0, 4, 1, 3, 0, 3, 0, 3, 3, 0, 0, 3, 1, 2, 1,\n",
       "        0, 4, 2, 3, 1, 1, 4, 3, 3, 4, 4, 0],\n",
       "       [1, 2, 0, 4, 3, 0, 0, 0, 1, 3, 1, 2, 0, 1, 3, 2, 4, 3, 4, 4, 0, 3,\n",
       "        3, 0, 4, 4, 0, 2, 4, 4, 2, 4, 0, 2, 4, 0, 0, 0, 2, 3, 4, 0, 2, 1,\n",
       "        0, 3, 3, 1, 2, 4, 4, 4, 0, 3, 2, 1, 3, 2, 3, 0, 1, 3, 1, 2, 0, 2,\n",
       "        2, 3, 2, 1, 3, 2, 4, 3, 0, 3, 4, 3, 0, 4, 3, 0, 1, 1, 0, 0, 0, 0,\n",
       "        4, 0, 2, 1, 3, 2, 0, 0, 3, 3, 1, 0]])"
      ]
     },
     "execution_count": 129,
     "metadata": {},
     "output_type": "execute_result"
    }
   ],
   "source": [
    "X"
   ]
  },
  {
   "cell_type": "code",
   "execution_count": 130,
   "metadata": {},
   "outputs": [
    {
     "data": {
      "text/plain": [
       "array([1, 2, 3, 4, 5, 6])"
      ]
     },
     "execution_count": 130,
     "metadata": {},
     "output_type": "execute_result"
    }
   ],
   "source": [
    "y"
   ]
  },
  {
   "cell_type": "markdown",
   "metadata": {},
   "source": [
    "- Multinomial naive bayes 모델 생성"
   ]
  },
  {
   "cell_type": "code",
   "execution_count": 131,
   "metadata": {},
   "outputs": [
    {
     "data": {
      "text/plain": [
       "MultinomialNB()"
      ]
     },
     "execution_count": 131,
     "metadata": {},
     "output_type": "execute_result"
    }
   ],
   "source": [
    "clf = MultinomialNB()\n",
    "clf.fit(X, y)"
   ]
  },
  {
   "cell_type": "code",
   "execution_count": 132,
   "metadata": {},
   "outputs": [
    {
     "name": "stdout",
     "output_type": "stream",
     "text": [
      "[3]\n"
     ]
    }
   ],
   "source": [
    "print(clf.predict(X[2:3]))"
   ]
  },
  {
   "cell_type": "code",
   "execution_count": 133,
   "metadata": {},
   "outputs": [
    {
     "data": {
      "text/plain": [
       "array([[5.61212567e-33, 6.10691717e-36, 1.00000000e+00, 3.34384533e-33,\n",
       "        1.30631886e-33, 4.87191191e-37]])"
      ]
     },
     "execution_count": 133,
     "metadata": {},
     "output_type": "execute_result"
    }
   ],
   "source": [
    "clf.predict_proba(X[2:3])"
   ]
  },
  {
   "cell_type": "markdown",
   "metadata": {},
   "source": [
    "- prior 변경해보기"
   ]
  },
  {
   "cell_type": "code",
   "execution_count": 134,
   "metadata": {},
   "outputs": [
    {
     "data": {
      "text/plain": [
       "MultinomialNB(class_prior=[0.1, 0.5, 0.1, 0.1, 0.1, 0.1])"
      ]
     },
     "execution_count": 134,
     "metadata": {},
     "output_type": "execute_result"
    }
   ],
   "source": [
    "clf2 = MultinomialNB(alpha = 1.0, class_prior=[0.1, 0.5, 0.1, 0.1, 0.1, 0.1], fit_prior=True)\n",
    "clf2.fit(X,y)"
   ]
  },
  {
   "cell_type": "code",
   "execution_count": 135,
   "metadata": {},
   "outputs": [
    {
     "data": {
      "text/plain": [
       "array([[5.61212567e-33, 3.05345859e-35, 1.00000000e+00, 3.34384533e-33,\n",
       "        1.30631886e-33, 4.87191191e-37]])"
      ]
     },
     "execution_count": 135,
     "metadata": {},
     "output_type": "execute_result"
    }
   ],
   "source": [
    "clf2.predict_proba(X[2:3])"
   ]
  }
 ],
 "metadata": {
  "kernelspec": {
   "display_name": "Python 3 (ipykernel)",
   "language": "python",
   "name": "python3"
  },
  "language_info": {
   "codemirror_mode": {
    "name": "ipython",
    "version": 3
   },
   "file_extension": ".py",
   "mimetype": "text/x-python",
   "name": "python",
   "nbconvert_exporter": "python",
   "pygments_lexer": "ipython3",
   "version": "3.9.12"
  }
 },
 "nbformat": 4,
 "nbformat_minor": 4
}
