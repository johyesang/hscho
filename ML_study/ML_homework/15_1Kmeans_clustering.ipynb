{
 "cells": [
  {
   "cell_type": "code",
   "execution_count": 6,
   "metadata": {},
   "outputs": [
    {
     "ename": "ModuleNotFoundError",
     "evalue": "No module named 'sklearn'",
     "output_type": "error",
     "traceback": [
      "\u001b[0;31m---------------------------------------------------------------------------\u001b[0m",
      "\u001b[0;31mModuleNotFoundError\u001b[0m                       Traceback (most recent call last)",
      "Cell \u001b[0;32mIn [6], line 1\u001b[0m\n\u001b[0;32m----> 1\u001b[0m \u001b[38;5;28;01mfrom\u001b[39;00m \u001b[38;5;21;01msklearn\u001b[39;00m \u001b[38;5;28;01mimport\u001b[39;00m datasets\n\u001b[1;32m      2\u001b[0m \u001b[38;5;28;01mimport\u001b[39;00m \u001b[38;5;21;01mmatplotlib\u001b[39;00m\u001b[38;5;21;01m.\u001b[39;00m\u001b[38;5;21;01mpyplot\u001b[39;00m \u001b[38;5;28;01mas\u001b[39;00m \u001b[38;5;21;01mplt\u001b[39;00m\n\u001b[1;32m      3\u001b[0m \u001b[38;5;28;01mimport\u001b[39;00m \u001b[38;5;21;01mpandas\u001b[39;00m \u001b[38;5;28;01mas\u001b[39;00m \u001b[38;5;21;01mpd\u001b[39;00m\n",
      "\u001b[0;31mModuleNotFoundError\u001b[0m: No module named 'sklearn'"
     ]
    }
   ],
   "source": [
    "from sklearn import datasets\n",
    "import matplotlib.pyplot as plt\n",
    "import pandas as pd\n",
    "from sklearn.cluster import KMeans"
   ]
  },
  {
   "cell_type": "markdown",
   "metadata": {},
   "source": [
    "## Iris 데이터를 활용하여 Kmeans clustering"
   ]
  },
  {
   "cell_type": "code",
   "execution_count": null,
   "metadata": {},
   "outputs": [
    {
     "ename": "",
     "evalue": "",
     "output_type": "error",
     "traceback": [
      "\u001b[1;31mJupyter를 시작할 수 없습니다. Jupyter를 찾는 중 오류: 'Python 3.9.7 64-bit'(으)로 셀을 실행하려면 jupyter 및 notebook 패키지가 필요합니다.\n",
      "\u001b[1;31m다음 명령어를 실행하여 Python 환경에 'jupyter 및 notebook'을(를) 설치합니다. \n",
      "\u001b[1;31m 명령: 'python -m pip install jupyter notebook -U\n",
      "\u001b[1;31mor\n",
      "\u001b[1;31mconda install jupyter notebook -U'\n",
      "\u001b[1;31m자세한 내용을 보려면 <a href='https://aka.ms/installJupyterForVSCode'>여기</a>를 클릭합니다."
     ]
    }
   ],
   "source": [
    "iris = datasets.load_iris()"
   ]
  },
  {
   "cell_type": "code",
   "execution_count": null,
   "metadata": {},
   "outputs": [
    {
     "ename": "",
     "evalue": "",
     "output_type": "error",
     "traceback": [
      "\u001b[1;31mJupyter를 시작할 수 없습니다. Jupyter를 찾는 중 오류: 'Python 3.9.7 64-bit'(으)로 셀을 실행하려면 jupyter 및 notebook 패키지가 필요합니다.\n",
      "\u001b[1;31m다음 명령어를 실행하여 Python 환경에 'jupyter 및 notebook'을(를) 설치합니다. \n",
      "\u001b[1;31m 명령: 'python -m pip install jupyter notebook -U\n",
      "\u001b[1;31mor\n",
      "\u001b[1;31mconda install jupyter notebook -U'\n",
      "\u001b[1;31m자세한 내용을 보려면 <a href='https://aka.ms/installJupyterForVSCode'>여기</a>를 클릭합니다."
     ]
    }
   ],
   "source": [
    "iris"
   ]
  },
  {
   "cell_type": "code",
   "execution_count": null,
   "metadata": {},
   "outputs": [
    {
     "ename": "",
     "evalue": "",
     "output_type": "error",
     "traceback": [
      "\u001b[1;31mJupyter를 시작할 수 없습니다. Jupyter를 찾는 중 오류: 'Python 3.9.7 64-bit'(으)로 셀을 실행하려면 jupyter 및 notebook 패키지가 필요합니다.\n",
      "\u001b[1;31m다음 명령어를 실행하여 Python 환경에 'jupyter 및 notebook'을(를) 설치합니다. \n",
      "\u001b[1;31m 명령: 'python -m pip install jupyter notebook -U\n",
      "\u001b[1;31mor\n",
      "\u001b[1;31mconda install jupyter notebook -U'\n",
      "\u001b[1;31m자세한 내용을 보려면 <a href='https://aka.ms/installJupyterForVSCode'>여기</a>를 클릭합니다."
     ]
    }
   ],
   "source": [
    "X = iris.data[:, :2]\n",
    "y = iris.target"
   ]
  },
  {
   "cell_type": "code",
   "execution_count": null,
   "metadata": {},
   "outputs": [
    {
     "ename": "",
     "evalue": "",
     "output_type": "error",
     "traceback": [
      "\u001b[1;31mJupyter를 시작할 수 없습니다. Jupyter를 찾는 중 오류: 'Python 3.9.7 64-bit'(으)로 셀을 실행하려면 jupyter 및 notebook 패키지가 필요합니다.\n",
      "\u001b[1;31m다음 명령어를 실행하여 Python 환경에 'jupyter 및 notebook'을(를) 설치합니다. \n",
      "\u001b[1;31m 명령: 'python -m pip install jupyter notebook -U\n",
      "\u001b[1;31mor\n",
      "\u001b[1;31mconda install jupyter notebook -U'\n",
      "\u001b[1;31m자세한 내용을 보려면 <a href='https://aka.ms/installJupyterForVSCode'>여기</a>를 클릭합니다."
     ]
    }
   ],
   "source": [
    "X"
   ]
  },
  {
   "cell_type": "code",
   "execution_count": null,
   "metadata": {},
   "outputs": [
    {
     "ename": "",
     "evalue": "",
     "output_type": "error",
     "traceback": [
      "\u001b[1;31mJupyter를 시작할 수 없습니다. Jupyter를 찾는 중 오류: 'Python 3.9.7 64-bit'(으)로 셀을 실행하려면 jupyter 및 notebook 패키지가 필요합니다.\n",
      "\u001b[1;31m다음 명령어를 실행하여 Python 환경에 'jupyter 및 notebook'을(를) 설치합니다. \n",
      "\u001b[1;31m 명령: 'python -m pip install jupyter notebook -U\n",
      "\u001b[1;31mor\n",
      "\u001b[1;31mconda install jupyter notebook -U'\n",
      "\u001b[1;31m자세한 내용을 보려면 <a href='https://aka.ms/installJupyterForVSCode'>여기</a>를 클릭합니다."
     ]
    }
   ],
   "source": [
    "plt.scatter(X[:,0], X[:,1], c=y, cmap='gist_rainbow')\n",
    "plt.xlabel('Spea1 Length', fontsize=18)\n",
    "plt.ylabel('Sepal Width', fontsize=18)"
   ]
  },
  {
   "cell_type": "code",
   "execution_count": null,
   "metadata": {},
   "outputs": [
    {
     "ename": "",
     "evalue": "",
     "output_type": "error",
     "traceback": [
      "\u001b[1;31mJupyter를 시작할 수 없습니다. Jupyter를 찾는 중 오류: 'Python 3.9.7 64-bit'(으)로 셀을 실행하려면 jupyter 및 notebook 패키지가 필요합니다.\n",
      "\u001b[1;31m다음 명령어를 실행하여 Python 환경에 'jupyter 및 notebook'을(를) 설치합니다. \n",
      "\u001b[1;31m 명령: 'python -m pip install jupyter notebook -U\n",
      "\u001b[1;31mor\n",
      "\u001b[1;31mconda install jupyter notebook -U'\n",
      "\u001b[1;31m자세한 내용을 보려면 <a href='https://aka.ms/installJupyterForVSCode'>여기</a>를 클릭합니다."
     ]
    }
   ],
   "source": [
    "km = KMeans(n_clusters = 3, n_jobs = 4, random_state=21)\n",
    "km.fit(X)"
   ]
  },
  {
   "cell_type": "code",
   "execution_count": null,
   "metadata": {},
   "outputs": [
    {
     "ename": "",
     "evalue": "",
     "output_type": "error",
     "traceback": [
      "\u001b[1;31mJupyter를 시작할 수 없습니다. Jupyter를 찾는 중 오류: 'Python 3.9.7 64-bit'(으)로 셀을 실행하려면 jupyter 및 notebook 패키지가 필요합니다.\n",
      "\u001b[1;31m다음 명령어를 실행하여 Python 환경에 'jupyter 및 notebook'을(를) 설치합니다. \n",
      "\u001b[1;31m 명령: 'python -m pip install jupyter notebook -U\n",
      "\u001b[1;31mor\n",
      "\u001b[1;31mconda install jupyter notebook -U'\n",
      "\u001b[1;31m자세한 내용을 보려면 <a href='https://aka.ms/installJupyterForVSCode'>여기</a>를 클릭합니다."
     ]
    }
   ],
   "source": [
    "centers = km.cluster_centers_\n",
    "print(centers)"
   ]
  },
  {
   "cell_type": "code",
   "execution_count": null,
   "metadata": {},
   "outputs": [
    {
     "ename": "",
     "evalue": "",
     "output_type": "error",
     "traceback": [
      "\u001b[1;31mJupyter를 시작할 수 없습니다. Jupyter를 찾는 중 오류: 'Python 3.9.7 64-bit'(으)로 셀을 실행하려면 jupyter 및 notebook 패키지가 필요합니다.\n",
      "\u001b[1;31m다음 명령어를 실행하여 Python 환경에 'jupyter 및 notebook'을(를) 설치합니다. \n",
      "\u001b[1;31m 명령: 'python -m pip install jupyter notebook -U\n",
      "\u001b[1;31mor\n",
      "\u001b[1;31mconda install jupyter notebook -U'\n",
      "\u001b[1;31m자세한 내용을 보려면 <a href='https://aka.ms/installJupyterForVSCode'>여기</a>를 클릭합니다."
     ]
    }
   ],
   "source": [
    "new_labels = km.labels_\n",
    "# Plot the identified clusters and compare with the answers\n",
    "fig, axes = plt.subplots(1, 2, figsize=(16,8))\n",
    "axes[0].scatter(X[:, 0], X[:, 1], c=y, cmap='gist_rainbow',\n",
    "edgecolor='k', s=150)\n",
    "axes[1].scatter(X[:, 0], X[:, 1], c=new_labels, cmap='jet',\n",
    "edgecolor='k', s=150)\n",
    "axes[0].set_xlabel('Sepal length', fontsize=18)\n",
    "axes[0].set_ylabel('Sepal width', fontsize=18)\n",
    "axes[1].set_xlabel('Sepal length', fontsize=18)\n",
    "axes[1].set_ylabel('Sepal width', fontsize=18)\n",
    "axes[0].tick_params(direction='in', length=10, width=5, colors='k', labelsize=20)\n",
    "axes[1].tick_params(direction='in', length=10, width=5, colors='k', labelsize=20)\n",
    "axes[0].set_title('Actual', fontsize=18)\n",
    "axes[1].set_title('Predicted', fontsize=18)"
   ]
  },
  {
   "cell_type": "markdown",
   "metadata": {},
   "source": [
    "## 2차원의 가상 데이터에 Kmeans clustering"
   ]
  },
  {
   "cell_type": "code",
   "execution_count": null,
   "metadata": {},
   "outputs": [
    {
     "ename": "",
     "evalue": "",
     "output_type": "error",
     "traceback": [
      "\u001b[1;31mJupyter를 시작할 수 없습니다. Jupyter를 찾는 중 오류: 'Python 3.9.7 64-bit'(으)로 셀을 실행하려면 jupyter 및 notebook 패키지가 필요합니다.\n",
      "\u001b[1;31m다음 명령어를 실행하여 Python 환경에 'jupyter 및 notebook'을(를) 설치합니다. \n",
      "\u001b[1;31m 명령: 'python -m pip install jupyter notebook -U\n",
      "\u001b[1;31mor\n",
      "\u001b[1;31mconda install jupyter notebook -U'\n",
      "\u001b[1;31m자세한 내용을 보려면 <a href='https://aka.ms/installJupyterForVSCode'>여기</a>를 클릭합니다."
     ]
    }
   ],
   "source": [
    "from sklearn.datasets import make_blobs\n",
    "# create dataset\n",
    "X, y = make_blobs(\n",
    "   n_samples=150, n_features=2,\n",
    "   centers=3, cluster_std=0.5,\n",
    "   shuffle=True, random_state=0\n",
    ")\n",
    "\n",
    "# plot\n",
    "plt.scatter(\n",
    "   X[:, 0], X[:, 1],\n",
    "   c='white', marker='o',\n",
    "   edgecolor='black', s=50\n",
    ")\n",
    "plt.show()"
   ]
  },
  {
   "cell_type": "code",
   "execution_count": null,
   "metadata": {},
   "outputs": [
    {
     "ename": "",
     "evalue": "",
     "output_type": "error",
     "traceback": [
      "\u001b[1;31mJupyter를 시작할 수 없습니다. Jupyter를 찾는 중 오류: 'Python 3.9.7 64-bit'(으)로 셀을 실행하려면 jupyter 및 notebook 패키지가 필요합니다.\n",
      "\u001b[1;31m다음 명령어를 실행하여 Python 환경에 'jupyter 및 notebook'을(를) 설치합니다. \n",
      "\u001b[1;31m 명령: 'python -m pip install jupyter notebook -U\n",
      "\u001b[1;31mor\n",
      "\u001b[1;31mconda install jupyter notebook -U'\n",
      "\u001b[1;31m자세한 내용을 보려면 <a href='https://aka.ms/installJupyterForVSCode'>여기</a>를 클릭합니다."
     ]
    }
   ],
   "source": [
    "km = KMeans(\n",
    "    n_clusters=3, init='random',\n",
    "    n_init=10, max_iter=300, \n",
    "    tol=1e-04, random_state=0\n",
    ")\n",
    "y_km = km.fit_predict(X)"
   ]
  },
  {
   "cell_type": "code",
   "execution_count": null,
   "metadata": {},
   "outputs": [
    {
     "ename": "",
     "evalue": "",
     "output_type": "error",
     "traceback": [
      "\u001b[1;31mJupyter를 시작할 수 없습니다. Jupyter를 찾는 중 오류: 'Python 3.9.7 64-bit'(으)로 셀을 실행하려면 jupyter 및 notebook 패키지가 필요합니다.\n",
      "\u001b[1;31m다음 명령어를 실행하여 Python 환경에 'jupyter 및 notebook'을(를) 설치합니다. \n",
      "\u001b[1;31m 명령: 'python -m pip install jupyter notebook -U\n",
      "\u001b[1;31mor\n",
      "\u001b[1;31mconda install jupyter notebook -U'\n",
      "\u001b[1;31m자세한 내용을 보려면 <a href='https://aka.ms/installJupyterForVSCode'>여기</a>를 클릭합니다."
     ]
    }
   ],
   "source": [
    "y_km"
   ]
  },
  {
   "cell_type": "code",
   "execution_count": null,
   "metadata": {},
   "outputs": [
    {
     "ename": "",
     "evalue": "",
     "output_type": "error",
     "traceback": [
      "\u001b[1;31mJupyter를 시작할 수 없습니다. Jupyter를 찾는 중 오류: 'Python 3.9.7 64-bit'(으)로 셀을 실행하려면 jupyter 및 notebook 패키지가 필요합니다.\n",
      "\u001b[1;31m다음 명령어를 실행하여 Python 환경에 'jupyter 및 notebook'을(를) 설치합니다. \n",
      "\u001b[1;31m 명령: 'python -m pip install jupyter notebook -U\n",
      "\u001b[1;31mor\n",
      "\u001b[1;31mconda install jupyter notebook -U'\n",
      "\u001b[1;31m자세한 내용을 보려면 <a href='https://aka.ms/installJupyterForVSCode'>여기</a>를 클릭합니다."
     ]
    }
   ],
   "source": [
    "\n",
    "plt.scatter(\n",
    "    X[y_km == 0, 0], X[y_km == 0, 1],\n",
    "    s=50, c='lightgreen',\n",
    "    marker='s', edgecolor='black',\n",
    "    label='cluster 1'\n",
    ")\n",
    "\n",
    "plt.scatter(\n",
    "    X[y_km == 1, 0], X[y_km == 1, 1],\n",
    "    s=50, c='orange',\n",
    "    marker='o', edgecolor='black',\n",
    "    label='cluster 2'\n",
    ")\n",
    "\n",
    "plt.scatter(\n",
    "    X[y_km == 2, 0], X[y_km == 2, 1],\n",
    "    s=50, c='lightblue',\n",
    "    marker='v', edgecolor='black',\n",
    "    label='cluster 3'\n",
    ")\n",
    "\n",
    "# plot the centroids\n",
    "plt.scatter(\n",
    "    km.cluster_centers_[:, 0], km.cluster_centers_[:, 1],\n",
    "    s=250, marker='*',\n",
    "    c='red', edgecolor='black',\n",
    "    label='centroids'\n",
    ")\n",
    "plt.legend(scatterpoints=1)\n",
    "plt.grid()\n",
    "plt.show()"
   ]
  },
  {
   "cell_type": "markdown",
   "metadata": {},
   "source": [
    "### k 를 4로 할경우 "
   ]
  },
  {
   "cell_type": "code",
   "execution_count": null,
   "metadata": {},
   "outputs": [
    {
     "ename": "",
     "evalue": "",
     "output_type": "error",
     "traceback": [
      "\u001b[1;31mJupyter를 시작할 수 없습니다. Jupyter를 찾는 중 오류: 'Python 3.9.7 64-bit'(으)로 셀을 실행하려면 jupyter 및 notebook 패키지가 필요합니다.\n",
      "\u001b[1;31m다음 명령어를 실행하여 Python 환경에 'jupyter 및 notebook'을(를) 설치합니다. \n",
      "\u001b[1;31m 명령: 'python -m pip install jupyter notebook -U\n",
      "\u001b[1;31mor\n",
      "\u001b[1;31mconda install jupyter notebook -U'\n",
      "\u001b[1;31m자세한 내용을 보려면 <a href='https://aka.ms/installJupyterForVSCode'>여기</a>를 클릭합니다."
     ]
    }
   ],
   "source": [
    "km = KMeans(\n",
    "    n_clusters=4, init='random',\n",
    "    n_init=10, max_iter=300, \n",
    "    tol=1e-04, random_state=0\n",
    ")\n",
    "y_km = km.fit_predict(X)"
   ]
  },
  {
   "cell_type": "code",
   "execution_count": null,
   "metadata": {
    "scrolled": true
   },
   "outputs": [
    {
     "ename": "",
     "evalue": "",
     "output_type": "error",
     "traceback": [
      "\u001b[1;31mJupyter를 시작할 수 없습니다. Jupyter를 찾는 중 오류: 'Python 3.9.7 64-bit'(으)로 셀을 실행하려면 jupyter 및 notebook 패키지가 필요합니다.\n",
      "\u001b[1;31m다음 명령어를 실행하여 Python 환경에 'jupyter 및 notebook'을(를) 설치합니다. \n",
      "\u001b[1;31m 명령: 'python -m pip install jupyter notebook -U\n",
      "\u001b[1;31mor\n",
      "\u001b[1;31mconda install jupyter notebook -U'\n",
      "\u001b[1;31m자세한 내용을 보려면 <a href='https://aka.ms/installJupyterForVSCode'>여기</a>를 클릭합니다."
     ]
    }
   ],
   "source": [
    "\n",
    "plt.scatter(\n",
    "    X[y_km == 0, 0], X[y_km == 0, 1],\n",
    "    s=50, c='lightgreen',\n",
    "    marker='s', edgecolor='black',\n",
    "    label='cluster 1'\n",
    ")\n",
    "\n",
    "plt.scatter(\n",
    "    X[y_km == 1, 0], X[y_km == 1, 1],\n",
    "    s=50, c='orange',\n",
    "    marker='o', edgecolor='black',\n",
    "    label='cluster 2'\n",
    ")\n",
    "\n",
    "plt.scatter(\n",
    "    X[y_km == 2, 0], X[y_km == 2, 1],\n",
    "    s=50, c='lightblue',\n",
    "    marker='v', edgecolor='black',\n",
    "    label='cluster 3'\n",
    ")\n",
    "\n",
    "\n",
    "plt.scatter(\n",
    "    X[y_km == 3, 0], X[y_km == 3, 1],\n",
    "    s=50, c='lightblue',\n",
    "    marker='d', edgecolor='black',\n",
    "    label='cluster 4'\n",
    ")\n",
    "\n",
    "\n",
    "# plot the centroids\n",
    "plt.scatter(\n",
    "    km.cluster_centers_[:, 0], km.cluster_centers_[:, 1],\n",
    "    s=250, marker='*',\n",
    "    c='red', edgecolor='black',\n",
    "    label='centroids'\n",
    ")\n",
    "plt.legend(scatterpoints=1)\n",
    "plt.grid()\n",
    "plt.show()"
   ]
  },
  {
   "cell_type": "code",
   "execution_count": null,
   "metadata": {},
   "outputs": [
    {
     "ename": "",
     "evalue": "",
     "output_type": "error",
     "traceback": [
      "\u001b[1;31mJupyter를 시작할 수 없습니다. Jupyter를 찾는 중 오류: 'Python 3.9.7 64-bit'(으)로 셀을 실행하려면 jupyter 및 notebook 패키지가 필요합니다.\n",
      "\u001b[1;31m다음 명령어를 실행하여 Python 환경에 'jupyter 및 notebook'을(를) 설치합니다. \n",
      "\u001b[1;31m 명령: 'python -m pip install jupyter notebook -U\n",
      "\u001b[1;31mor\n",
      "\u001b[1;31mconda install jupyter notebook -U'\n",
      "\u001b[1;31m자세한 내용을 보려면 <a href='https://aka.ms/installJupyterForVSCode'>여기</a>를 클릭합니다."
     ]
    }
   ],
   "source": [
    "distortions = []\n",
    "for i in range(1, 11):\n",
    "    km = KMeans(\n",
    "        n_clusters=i, init='random',\n",
    "        n_init=10, max_iter=300,\n",
    "        tol=1e-04, random_state=0\n",
    "    )\n",
    "    km.fit(X)\n",
    "    distortions.append(km.inertia_)\n",
    "\n",
    "# plot\n",
    "plt.plot(range(1, 11), distortions, marker='o')\n",
    "plt.xlabel('Number of clusters')\n",
    "plt.ylabel('Distortion')\n",
    "plt.show()"
   ]
  },
  {
   "cell_type": "code",
   "execution_count": null,
   "metadata": {},
   "outputs": [
    {
     "ename": "",
     "evalue": "",
     "output_type": "error",
     "traceback": [
      "\u001b[1;31mJupyter를 시작할 수 없습니다. Jupyter를 찾는 중 오류: 'Python 3.9.7 64-bit'(으)로 셀을 실행하려면 jupyter 및 notebook 패키지가 필요합니다.\n",
      "\u001b[1;31m다음 명령어를 실행하여 Python 환경에 'jupyter 및 notebook'을(를) 설치합니다. \n",
      "\u001b[1;31m 명령: 'python -m pip install jupyter notebook -U\n",
      "\u001b[1;31mor\n",
      "\u001b[1;31mconda install jupyter notebook -U'\n",
      "\u001b[1;31m자세한 내용을 보려면 <a href='https://aka.ms/installJupyterForVSCode'>여기</a>를 클릭합니다."
     ]
    }
   ],
   "source": [
    " \n",
    "from sklearn.feature_extraction.text import TfidfVectorizer\n",
    "from sklearn.cluster import KMeans\n",
    "from sklearn.metrics import adjusted_rand_score\n",
    "\n",
    "documents = [\"This little kitty came to play when I was eating at a restaurant.\",\"hello kitty is my favorite character\",\n",
    "             \"Merley has the best squooshy kitten belly.\",\"Is Google translator so good?\",\"google google\"\n",
    "             \"google Translate app is incredible.\",\"My dog s name is Kong\",\"dog dog dog\",\"cat cat\"\n",
    "             \"If you open 100 tab in google you get a smiley face.\",\"Kong is a very cute and lovely dog\",\n",
    "             \"Best cat photo I've ever taken.\",\"This is a cat house\"\n",
    "             \"Climbing ninja cat kitty.\",\"What's your dog's name?\",\"Cat s paws look like jelly\",\n",
    "             \"Impressed with google map feedback.\",\"I want to join google\",\"You have to wear a collar when you walk the dog\",\n",
    "             \"Key promoter extension for google Chrome.\",\"Google is the best company\",\"Google researcher\"]\n",
    "\n",
    "vectorizer = TfidfVectorizer(stop_words='english')\n",
    "X = vectorizer.fit_transform(documents)\n",
    "\n",
    " "
   ]
  },
  {
   "cell_type": "code",
   "execution_count": null,
   "metadata": {},
   "outputs": [
    {
     "ename": "",
     "evalue": "",
     "output_type": "error",
     "traceback": [
      "\u001b[1;31mJupyter를 시작할 수 없습니다. Jupyter를 찾는 중 오류: 'Python 3.9.7 64-bit'(으)로 셀을 실행하려면 jupyter 및 notebook 패키지가 필요합니다.\n",
      "\u001b[1;31m다음 명령어를 실행하여 Python 환경에 'jupyter 및 notebook'을(를) 설치합니다. \n",
      "\u001b[1;31m 명령: 'python -m pip install jupyter notebook -U\n",
      "\u001b[1;31mor\n",
      "\u001b[1;31mconda install jupyter notebook -U'\n",
      "\u001b[1;31m자세한 내용을 보려면 <a href='https://aka.ms/installJupyterForVSCode'>여기</a>를 클릭합니다."
     ]
    }
   ],
   "source": [
    "X"
   ]
  },
  {
   "cell_type": "code",
   "execution_count": null,
   "metadata": {},
   "outputs": [
    {
     "ename": "",
     "evalue": "",
     "output_type": "error",
     "traceback": [
      "\u001b[1;31mJupyter를 시작할 수 없습니다. Jupyter를 찾는 중 오류: 'Python 3.9.7 64-bit'(으)로 셀을 실행하려면 jupyter 및 notebook 패키지가 필요합니다.\n",
      "\u001b[1;31m다음 명령어를 실행하여 Python 환경에 'jupyter 및 notebook'을(를) 설치합니다. \n",
      "\u001b[1;31m 명령: 'python -m pip install jupyter notebook -U\n",
      "\u001b[1;31mor\n",
      "\u001b[1;31mconda install jupyter notebook -U'\n",
      "\u001b[1;31m자세한 내용을 보려면 <a href='https://aka.ms/installJupyterForVSCode'>여기</a>를 클릭합니다."
     ]
    }
   ],
   "source": [
    "\n",
    "true_k = 3\n",
    "model = KMeans(n_clusters=true_k, init='k-means++', max_iter=100, n_init=1)\n",
    "model.fit(X)\n"
   ]
  },
  {
   "cell_type": "code",
   "execution_count": null,
   "metadata": {},
   "outputs": [
    {
     "ename": "",
     "evalue": "",
     "output_type": "error",
     "traceback": [
      "\u001b[1;31mJupyter를 시작할 수 없습니다. Jupyter를 찾는 중 오류: 'Python 3.9.7 64-bit'(으)로 셀을 실행하려면 jupyter 및 notebook 패키지가 필요합니다.\n",
      "\u001b[1;31m다음 명령어를 실행하여 Python 환경에 'jupyter 및 notebook'을(를) 설치합니다. \n",
      "\u001b[1;31m 명령: 'python -m pip install jupyter notebook -U\n",
      "\u001b[1;31mor\n",
      "\u001b[1;31mconda install jupyter notebook -U'\n",
      "\u001b[1;31m자세한 내용을 보려면 <a href='https://aka.ms/installJupyterForVSCode'>여기</a>를 클릭합니다."
     ]
    }
   ],
   "source": [
    "order_centroids = model.cluster_centers_.argsort()[:, ::-1]\n",
    "terms = vectorizer.get_feature_names()"
   ]
  },
  {
   "cell_type": "code",
   "execution_count": null,
   "metadata": {},
   "outputs": [
    {
     "ename": "",
     "evalue": "",
     "output_type": "error",
     "traceback": [
      "\u001b[1;31mJupyter를 시작할 수 없습니다. Jupyter를 찾는 중 오류: 'Python 3.9.7 64-bit'(으)로 셀을 실행하려면 jupyter 및 notebook 패키지가 필요합니다.\n",
      "\u001b[1;31m다음 명령어를 실행하여 Python 환경에 'jupyter 및 notebook'을(를) 설치합니다. \n",
      "\u001b[1;31m 명령: 'python -m pip install jupyter notebook -U\n",
      "\u001b[1;31mor\n",
      "\u001b[1;31mconda install jupyter notebook -U'\n",
      "\u001b[1;31m자세한 내용을 보려면 <a href='https://aka.ms/installJupyterForVSCode'>여기</a>를 클릭합니다."
     ]
    }
   ],
   "source": [
    "model.labels_"
   ]
  },
  {
   "cell_type": "code",
   "execution_count": null,
   "metadata": {},
   "outputs": [
    {
     "ename": "",
     "evalue": "",
     "output_type": "error",
     "traceback": [
      "\u001b[1;31mJupyter를 시작할 수 없습니다. Jupyter를 찾는 중 오류: 'Python 3.9.7 64-bit'(으)로 셀을 실행하려면 jupyter 및 notebook 패키지가 필요합니다.\n",
      "\u001b[1;31m다음 명령어를 실행하여 Python 환경에 'jupyter 및 notebook'을(를) 설치합니다. \n",
      "\u001b[1;31m 명령: 'python -m pip install jupyter notebook -U\n",
      "\u001b[1;31mor\n",
      "\u001b[1;31mconda install jupyter notebook -U'\n",
      "\u001b[1;31m자세한 내용을 보려면 <a href='https://aka.ms/installJupyterForVSCode'>여기</a>를 클릭합니다."
     ]
    }
   ],
   "source": [
    "[x for x, y in zip(documents, model.labels_) if  y == 0]\n"
   ]
  },
  {
   "cell_type": "code",
   "execution_count": null,
   "metadata": {},
   "outputs": [
    {
     "ename": "",
     "evalue": "",
     "output_type": "error",
     "traceback": [
      "\u001b[1;31mJupyter를 시작할 수 없습니다. Jupyter를 찾는 중 오류: 'Python 3.9.7 64-bit'(으)로 셀을 실행하려면 jupyter 및 notebook 패키지가 필요합니다.\n",
      "\u001b[1;31m다음 명령어를 실행하여 Python 환경에 'jupyter 및 notebook'을(를) 설치합니다. \n",
      "\u001b[1;31m 명령: 'python -m pip install jupyter notebook -U\n",
      "\u001b[1;31mor\n",
      "\u001b[1;31mconda install jupyter notebook -U'\n",
      "\u001b[1;31m자세한 내용을 보려면 <a href='https://aka.ms/installJupyterForVSCode'>여기</a>를 클릭합니다."
     ]
    }
   ],
   "source": [
    "[x for x, y in zip(documents, model.labels_) if  y == 1]\n"
   ]
  },
  {
   "cell_type": "code",
   "execution_count": null,
   "metadata": {},
   "outputs": [
    {
     "ename": "",
     "evalue": "",
     "output_type": "error",
     "traceback": [
      "\u001b[1;31mJupyter를 시작할 수 없습니다. Jupyter를 찾는 중 오류: 'Python 3.9.7 64-bit'(으)로 셀을 실행하려면 jupyter 및 notebook 패키지가 필요합니다.\n",
      "\u001b[1;31m다음 명령어를 실행하여 Python 환경에 'jupyter 및 notebook'을(를) 설치합니다. \n",
      "\u001b[1;31m 명령: 'python -m pip install jupyter notebook -U\n",
      "\u001b[1;31mor\n",
      "\u001b[1;31mconda install jupyter notebook -U'\n",
      "\u001b[1;31m자세한 내용을 보려면 <a href='https://aka.ms/installJupyterForVSCode'>여기</a>를 클릭합니다."
     ]
    }
   ],
   "source": [
    "[x for x, y in zip(documents, model.labels_) if  y == 2]\n"
   ]
  },
  {
   "cell_type": "code",
   "execution_count": null,
   "metadata": {},
   "outputs": [
    {
     "ename": "",
     "evalue": "",
     "output_type": "error",
     "traceback": [
      "\u001b[1;31mJupyter를 시작할 수 없습니다. Jupyter를 찾는 중 오류: 'Python 3.9.7 64-bit'(으)로 셀을 실행하려면 jupyter 및 notebook 패키지가 필요합니다.\n",
      "\u001b[1;31m다음 명령어를 실행하여 Python 환경에 'jupyter 및 notebook'을(를) 설치합니다. \n",
      "\u001b[1;31m 명령: 'python -m pip install jupyter notebook -U\n",
      "\u001b[1;31mor\n",
      "\u001b[1;31mconda install jupyter notebook -U'\n",
      "\u001b[1;31m자세한 내용을 보려면 <a href='https://aka.ms/installJupyterForVSCode'>여기</a>를 클릭합니다."
     ]
    }
   ],
   "source": [
    "Y = vectorizer.transform([\"chrome browser to open.\"])\n",
    "prediction = model.predict(Y)\n",
    "print(prediction)\n",
    "\n",
    "Y = vectorizer.transform([\"I want to have a dog\"])\n",
    "prediction = model.predict(Y)\n",
    "print(prediction)\n",
    "\n",
    "Y = vectorizer.transform([\"My cat is hungry.\"])\n",
    "prediction = model.predict(Y)\n",
    "print(prediction)"
   ]
  },
  {
   "cell_type": "code",
   "execution_count": null,
   "metadata": {},
   "outputs": [
    {
     "ename": "",
     "evalue": "",
     "output_type": "error",
     "traceback": [
      "\u001b[1;31mJupyter를 시작할 수 없습니다. Jupyter를 찾는 중 오류: 'Python 3.9.7 64-bit'(으)로 셀을 실행하려면 jupyter 및 notebook 패키지가 필요합니다.\n",
      "\u001b[1;31m다음 명령어를 실행하여 Python 환경에 'jupyter 및 notebook'을(를) 설치합니다. \n",
      "\u001b[1;31m 명령: 'python -m pip install jupyter notebook -U\n",
      "\u001b[1;31mor\n",
      "\u001b[1;31mconda install jupyter notebook -U'\n",
      "\u001b[1;31m자세한 내용을 보려면 <a href='https://aka.ms/installJupyterForVSCode'>여기</a>를 클릭합니다."
     ]
    }
   ],
   "source": []
  },
  {
   "cell_type": "code",
   "execution_count": null,
   "metadata": {},
   "outputs": [
    {
     "ename": "",
     "evalue": "",
     "output_type": "error",
     "traceback": [
      "\u001b[1;31mJupyter를 시작할 수 없습니다. Jupyter를 찾는 중 오류: 'Python 3.9.7 64-bit'(으)로 셀을 실행하려면 jupyter 및 notebook 패키지가 필요합니다.\n",
      "\u001b[1;31m다음 명령어를 실행하여 Python 환경에 'jupyter 및 notebook'을(를) 설치합니다. \n",
      "\u001b[1;31m 명령: 'python -m pip install jupyter notebook -U\n",
      "\u001b[1;31mor\n",
      "\u001b[1;31mconda install jupyter notebook -U'\n",
      "\u001b[1;31m자세한 내용을 보려면 <a href='https://aka.ms/installJupyterForVSCode'>여기</a>를 클릭합니다."
     ]
    }
   ],
   "source": []
  }
 ],
 "metadata": {
  "kernelspec": {
   "display_name": "Python 3.9.6 64-bit",
   "language": "python",
   "name": "python3"
  },
  "language_info": {
   "codemirror_mode": {
    "name": "ipython",
    "version": 3
   },
   "file_extension": ".py",
   "mimetype": "text/x-python",
   "name": "python",
   "nbconvert_exporter": "python",
   "pygments_lexer": "ipython3",
   "version": "3.9.6"
  },
  "vscode": {
   "interpreter": {
    "hash": "31f2aee4e71d21fbe5cf8b01ff0e069b9275f58929596ceb00d14d90e3e16cd6"
   }
  }
 },
 "nbformat": 4,
 "nbformat_minor": 2
}
