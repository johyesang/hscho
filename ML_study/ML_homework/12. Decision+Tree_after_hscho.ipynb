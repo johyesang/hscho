{
 "cells": [
  {
   "cell_type": "markdown",
   "metadata": {},
   "source": [
    "# Decision Tree 실습"
   ]
  },
  {
   "cell_type": "markdown",
   "metadata": {},
   "source": [
    "# 1. 함수 익히기 및 모듈 불러오기"
   ]
  },
  {
   "cell_type": "markdown",
   "metadata": {},
   "source": [
    "- 함수 익히기"
   ]
  },
  {
   "cell_type": "code",
   "execution_count": 1,
   "metadata": {
    "jupyter": {
     "outputs_hidden": true
    }
   },
   "outputs": [],
   "source": [
    "from sklearn import tree\n",
    "X = [[0, 0], [1, 1]]\n",
    "Y = [0, 1]\n",
    "clf = tree.DecisionTreeClassifier()\n",
    "clf = clf.fit(X, Y)"
   ]
  },
  {
   "cell_type": "code",
   "execution_count": 2,
   "metadata": {},
   "outputs": [
    {
     "data": {
      "text/plain": [
       "array([1])"
      ]
     },
     "execution_count": 2,
     "metadata": {},
     "output_type": "execute_result"
    }
   ],
   "source": [
    "clf.predict([[1, 1]])"
   ]
  },
  {
   "cell_type": "markdown",
   "metadata": {},
   "source": [
    "- 모듈 불러오기"
   ]
  },
  {
   "cell_type": "code",
   "execution_count": 3,
   "metadata": {
    "jupyter": {
     "outputs_hidden": true
    }
   },
   "outputs": [],
   "source": [
    "from sklearn.datasets import load_iris\n",
    "from sklearn import tree\n",
    "from os import system"
   ]
  },
  {
   "cell_type": "code",
   "execution_count": 4,
   "metadata": {
    "jupyter": {
     "outputs_hidden": true
    }
   },
   "outputs": [
    {
     "data": {
      "text/plain": [
       "0"
      ]
     },
     "execution_count": 4,
     "metadata": {},
     "output_type": "execute_result"
    }
   ],
   "source": [
    "system(\"pip install graphviz\")"
   ]
  },
  {
   "cell_type": "code",
   "execution_count": 5,
   "metadata": {
    "jupyter": {
     "outputs_hidden": true
    }
   },
   "outputs": [],
   "source": [
    "import graphviz"
   ]
  },
  {
   "cell_type": "markdown",
   "metadata": {},
   "source": [
    "- 데이터 로드"
   ]
  },
  {
   "cell_type": "code",
   "execution_count": 6,
   "metadata": {
    "jupyter": {
     "outputs_hidden": true
    }
   },
   "outputs": [],
   "source": [
    "iris = load_iris()"
   ]
  },
  {
   "cell_type": "code",
   "execution_count": 7,
   "metadata": {},
   "outputs": [
    {
     "data": {
      "text/plain": [
       "array([[5.1, 3.5, 1.4, 0.2],\n",
       "       [4.9, 3. , 1.4, 0.2],\n",
       "       [4.7, 3.2, 1.3, 0.2],\n",
       "       [4.6, 3.1, 1.5, 0.2],\n",
       "       [5. , 3.6, 1.4, 0.2],\n",
       "       [5.4, 3.9, 1.7, 0.4],\n",
       "       [4.6, 3.4, 1.4, 0.3],\n",
       "       [5. , 3.4, 1.5, 0.2],\n",
       "       [4.4, 2.9, 1.4, 0.2],\n",
       "       [4.9, 3.1, 1.5, 0.1],\n",
       "       [5.4, 3.7, 1.5, 0.2],\n",
       "       [4.8, 3.4, 1.6, 0.2],\n",
       "       [4.8, 3. , 1.4, 0.1],\n",
       "       [4.3, 3. , 1.1, 0.1],\n",
       "       [5.8, 4. , 1.2, 0.2],\n",
       "       [5.7, 4.4, 1.5, 0.4],\n",
       "       [5.4, 3.9, 1.3, 0.4],\n",
       "       [5.1, 3.5, 1.4, 0.3],\n",
       "       [5.7, 3.8, 1.7, 0.3],\n",
       "       [5.1, 3.8, 1.5, 0.3],\n",
       "       [5.4, 3.4, 1.7, 0.2],\n",
       "       [5.1, 3.7, 1.5, 0.4],\n",
       "       [4.6, 3.6, 1. , 0.2],\n",
       "       [5.1, 3.3, 1.7, 0.5],\n",
       "       [4.8, 3.4, 1.9, 0.2],\n",
       "       [5. , 3. , 1.6, 0.2],\n",
       "       [5. , 3.4, 1.6, 0.4],\n",
       "       [5.2, 3.5, 1.5, 0.2],\n",
       "       [5.2, 3.4, 1.4, 0.2],\n",
       "       [4.7, 3.2, 1.6, 0.2],\n",
       "       [4.8, 3.1, 1.6, 0.2],\n",
       "       [5.4, 3.4, 1.5, 0.4],\n",
       "       [5.2, 4.1, 1.5, 0.1],\n",
       "       [5.5, 4.2, 1.4, 0.2],\n",
       "       [4.9, 3.1, 1.5, 0.2],\n",
       "       [5. , 3.2, 1.2, 0.2],\n",
       "       [5.5, 3.5, 1.3, 0.2],\n",
       "       [4.9, 3.6, 1.4, 0.1],\n",
       "       [4.4, 3. , 1.3, 0.2],\n",
       "       [5.1, 3.4, 1.5, 0.2],\n",
       "       [5. , 3.5, 1.3, 0.3],\n",
       "       [4.5, 2.3, 1.3, 0.3],\n",
       "       [4.4, 3.2, 1.3, 0.2],\n",
       "       [5. , 3.5, 1.6, 0.6],\n",
       "       [5.1, 3.8, 1.9, 0.4],\n",
       "       [4.8, 3. , 1.4, 0.3],\n",
       "       [5.1, 3.8, 1.6, 0.2],\n",
       "       [4.6, 3.2, 1.4, 0.2],\n",
       "       [5.3, 3.7, 1.5, 0.2],\n",
       "       [5. , 3.3, 1.4, 0.2],\n",
       "       [7. , 3.2, 4.7, 1.4],\n",
       "       [6.4, 3.2, 4.5, 1.5],\n",
       "       [6.9, 3.1, 4.9, 1.5],\n",
       "       [5.5, 2.3, 4. , 1.3],\n",
       "       [6.5, 2.8, 4.6, 1.5],\n",
       "       [5.7, 2.8, 4.5, 1.3],\n",
       "       [6.3, 3.3, 4.7, 1.6],\n",
       "       [4.9, 2.4, 3.3, 1. ],\n",
       "       [6.6, 2.9, 4.6, 1.3],\n",
       "       [5.2, 2.7, 3.9, 1.4],\n",
       "       [5. , 2. , 3.5, 1. ],\n",
       "       [5.9, 3. , 4.2, 1.5],\n",
       "       [6. , 2.2, 4. , 1. ],\n",
       "       [6.1, 2.9, 4.7, 1.4],\n",
       "       [5.6, 2.9, 3.6, 1.3],\n",
       "       [6.7, 3.1, 4.4, 1.4],\n",
       "       [5.6, 3. , 4.5, 1.5],\n",
       "       [5.8, 2.7, 4.1, 1. ],\n",
       "       [6.2, 2.2, 4.5, 1.5],\n",
       "       [5.6, 2.5, 3.9, 1.1],\n",
       "       [5.9, 3.2, 4.8, 1.8],\n",
       "       [6.1, 2.8, 4. , 1.3],\n",
       "       [6.3, 2.5, 4.9, 1.5],\n",
       "       [6.1, 2.8, 4.7, 1.2],\n",
       "       [6.4, 2.9, 4.3, 1.3],\n",
       "       [6.6, 3. , 4.4, 1.4],\n",
       "       [6.8, 2.8, 4.8, 1.4],\n",
       "       [6.7, 3. , 5. , 1.7],\n",
       "       [6. , 2.9, 4.5, 1.5],\n",
       "       [5.7, 2.6, 3.5, 1. ],\n",
       "       [5.5, 2.4, 3.8, 1.1],\n",
       "       [5.5, 2.4, 3.7, 1. ],\n",
       "       [5.8, 2.7, 3.9, 1.2],\n",
       "       [6. , 2.7, 5.1, 1.6],\n",
       "       [5.4, 3. , 4.5, 1.5],\n",
       "       [6. , 3.4, 4.5, 1.6],\n",
       "       [6.7, 3.1, 4.7, 1.5],\n",
       "       [6.3, 2.3, 4.4, 1.3],\n",
       "       [5.6, 3. , 4.1, 1.3],\n",
       "       [5.5, 2.5, 4. , 1.3],\n",
       "       [5.5, 2.6, 4.4, 1.2],\n",
       "       [6.1, 3. , 4.6, 1.4],\n",
       "       [5.8, 2.6, 4. , 1.2],\n",
       "       [5. , 2.3, 3.3, 1. ],\n",
       "       [5.6, 2.7, 4.2, 1.3],\n",
       "       [5.7, 3. , 4.2, 1.2],\n",
       "       [5.7, 2.9, 4.2, 1.3],\n",
       "       [6.2, 2.9, 4.3, 1.3],\n",
       "       [5.1, 2.5, 3. , 1.1],\n",
       "       [5.7, 2.8, 4.1, 1.3],\n",
       "       [6.3, 3.3, 6. , 2.5],\n",
       "       [5.8, 2.7, 5.1, 1.9],\n",
       "       [7.1, 3. , 5.9, 2.1],\n",
       "       [6.3, 2.9, 5.6, 1.8],\n",
       "       [6.5, 3. , 5.8, 2.2],\n",
       "       [7.6, 3. , 6.6, 2.1],\n",
       "       [4.9, 2.5, 4.5, 1.7],\n",
       "       [7.3, 2.9, 6.3, 1.8],\n",
       "       [6.7, 2.5, 5.8, 1.8],\n",
       "       [7.2, 3.6, 6.1, 2.5],\n",
       "       [6.5, 3.2, 5.1, 2. ],\n",
       "       [6.4, 2.7, 5.3, 1.9],\n",
       "       [6.8, 3. , 5.5, 2.1],\n",
       "       [5.7, 2.5, 5. , 2. ],\n",
       "       [5.8, 2.8, 5.1, 2.4],\n",
       "       [6.4, 3.2, 5.3, 2.3],\n",
       "       [6.5, 3. , 5.5, 1.8],\n",
       "       [7.7, 3.8, 6.7, 2.2],\n",
       "       [7.7, 2.6, 6.9, 2.3],\n",
       "       [6. , 2.2, 5. , 1.5],\n",
       "       [6.9, 3.2, 5.7, 2.3],\n",
       "       [5.6, 2.8, 4.9, 2. ],\n",
       "       [7.7, 2.8, 6.7, 2. ],\n",
       "       [6.3, 2.7, 4.9, 1.8],\n",
       "       [6.7, 3.3, 5.7, 2.1],\n",
       "       [7.2, 3.2, 6. , 1.8],\n",
       "       [6.2, 2.8, 4.8, 1.8],\n",
       "       [6.1, 3. , 4.9, 1.8],\n",
       "       [6.4, 2.8, 5.6, 2.1],\n",
       "       [7.2, 3. , 5.8, 1.6],\n",
       "       [7.4, 2.8, 6.1, 1.9],\n",
       "       [7.9, 3.8, 6.4, 2. ],\n",
       "       [6.4, 2.8, 5.6, 2.2],\n",
       "       [6.3, 2.8, 5.1, 1.5],\n",
       "       [6.1, 2.6, 5.6, 1.4],\n",
       "       [7.7, 3. , 6.1, 2.3],\n",
       "       [6.3, 3.4, 5.6, 2.4],\n",
       "       [6.4, 3.1, 5.5, 1.8],\n",
       "       [6. , 3. , 4.8, 1.8],\n",
       "       [6.9, 3.1, 5.4, 2.1],\n",
       "       [6.7, 3.1, 5.6, 2.4],\n",
       "       [6.9, 3.1, 5.1, 2.3],\n",
       "       [5.8, 2.7, 5.1, 1.9],\n",
       "       [6.8, 3.2, 5.9, 2.3],\n",
       "       [6.7, 3.3, 5.7, 2.5],\n",
       "       [6.7, 3. , 5.2, 2.3],\n",
       "       [6.3, 2.5, 5. , 1.9],\n",
       "       [6.5, 3. , 5.2, 2. ],\n",
       "       [6.2, 3.4, 5.4, 2.3],\n",
       "       [5.9, 3. , 5.1, 1.8]])"
      ]
     },
     "execution_count": 7,
     "metadata": {},
     "output_type": "execute_result"
    }
   ],
   "source": [
    "iris.data"
   ]
  },
  {
   "cell_type": "code",
   "execution_count": 8,
   "metadata": {},
   "outputs": [
    {
     "data": {
      "text/plain": [
       "['sepal length (cm)',\n",
       " 'sepal width (cm)',\n",
       " 'petal length (cm)',\n",
       " 'petal width (cm)']"
      ]
     },
     "execution_count": 8,
     "metadata": {},
     "output_type": "execute_result"
    }
   ],
   "source": [
    "iris.feature_names"
   ]
  },
  {
   "cell_type": "code",
   "execution_count": 9,
   "metadata": {},
   "outputs": [
    {
     "data": {
      "text/plain": [
       "array([0, 0, 0, 0, 0, 0, 0, 0, 0, 0, 0, 0, 0, 0, 0, 0, 0, 0, 0, 0, 0, 0,\n",
       "       0, 0, 0, 0, 0, 0, 0, 0, 0, 0, 0, 0, 0, 0, 0, 0, 0, 0, 0, 0, 0, 0,\n",
       "       0, 0, 0, 0, 0, 0, 1, 1, 1, 1, 1, 1, 1, 1, 1, 1, 1, 1, 1, 1, 1, 1,\n",
       "       1, 1, 1, 1, 1, 1, 1, 1, 1, 1, 1, 1, 1, 1, 1, 1, 1, 1, 1, 1, 1, 1,\n",
       "       1, 1, 1, 1, 1, 1, 1, 1, 1, 1, 1, 1, 2, 2, 2, 2, 2, 2, 2, 2, 2, 2,\n",
       "       2, 2, 2, 2, 2, 2, 2, 2, 2, 2, 2, 2, 2, 2, 2, 2, 2, 2, 2, 2, 2, 2,\n",
       "       2, 2, 2, 2, 2, 2, 2, 2, 2, 2, 2, 2, 2, 2, 2, 2, 2, 2])"
      ]
     },
     "execution_count": 9,
     "metadata": {},
     "output_type": "execute_result"
    }
   ],
   "source": [
    "iris.target"
   ]
  },
  {
   "cell_type": "code",
   "execution_count": 10,
   "metadata": {},
   "outputs": [
    {
     "data": {
      "text/plain": [
       "array(['setosa', 'versicolor', 'virginica'], dtype='<U10')"
      ]
     },
     "execution_count": 10,
     "metadata": {},
     "output_type": "execute_result"
    }
   ],
   "source": [
    "iris.target_names"
   ]
  },
  {
   "cell_type": "markdown",
   "metadata": {},
   "source": [
    "# 2. 의사결정나무 구축 및 시각화"
   ]
  },
  {
   "cell_type": "markdown",
   "metadata": {},
   "source": [
    "- 트리 구축"
   ]
  },
  {
   "cell_type": "code",
   "execution_count": 11,
   "metadata": {
    "jupyter": {
     "outputs_hidden": true
    }
   },
   "outputs": [],
   "source": [
    "clf = tree.DecisionTreeClassifier()\n",
    "clf = clf.fit(iris.data, iris.target)"
   ]
  },
  {
   "cell_type": "markdown",
   "metadata": {},
   "source": [
    "- 트리의 시각화"
   ]
  },
  {
   "cell_type": "code",
   "execution_count": 15,
   "metadata": {
    "jupyter": {
     "outputs_hidden": true
    }
   },
   "outputs": [],
   "source": [
    "dot_data = tree.export_graphviz(clf, out_file=None, feature_names=iris.feature_names, class_names=iris.target_names, filled= True, rounded= True, special_characters=True)\n",
    "graph = graphviz.Source(dot_data)"
   ]
  },
  {
   "cell_type": "code",
   "execution_count": 16,
   "metadata": {},
   "outputs": [
    {
     "data": {
      "image/svg+xml": "<?xml version=\"1.0\" encoding=\"UTF-8\" standalone=\"no\"?>\n<!DOCTYPE svg PUBLIC \"-//W3C//DTD SVG 1.1//EN\"\n \"http://www.w3.org/Graphics/SVG/1.1/DTD/svg11.dtd\">\n<!-- Generated by graphviz version 2.50.0 (0)\n -->\n<!-- Title: Tree Pages: 1 -->\n<svg width=\"867pt\" height=\"671pt\"\n viewBox=\"0.00 0.00 867.00 671.00\" xmlns=\"http://www.w3.org/2000/svg\" xmlns:xlink=\"http://www.w3.org/1999/xlink\">\n<g id=\"graph0\" class=\"graph\" transform=\"scale(1 1) rotate(0) translate(4 667)\">\n<title>Tree</title>\n<polygon fill=\"white\" stroke=\"transparent\" points=\"-4,4 -4,-667 863,-667 863,4 -4,4\"/>\n<!-- 0 -->\n<g id=\"node1\" class=\"node\">\n<title>0</title>\n<path fill=\"#ffffff\" stroke=\"black\" d=\"M520,-663C520,-663 385,-663 385,-663 379,-663 373,-657 373,-651 373,-651 373,-592 373,-592 373,-586 379,-580 385,-580 385,-580 520,-580 520,-580 526,-580 532,-586 532,-592 532,-592 532,-651 532,-651 532,-657 526,-663 520,-663\"/>\n<text text-anchor=\"start\" x=\"381\" y=\"-647.8\" font-family=\"Helvetica,sans-Serif\" font-size=\"14.00\">petal length (cm) ≤ 2.45</text>\n<text text-anchor=\"start\" x=\"417\" y=\"-632.8\" font-family=\"Helvetica,sans-Serif\" font-size=\"14.00\">gini = 0.667</text>\n<text text-anchor=\"start\" x=\"407.5\" y=\"-617.8\" font-family=\"Helvetica,sans-Serif\" font-size=\"14.00\">samples = 150</text>\n<text text-anchor=\"start\" x=\"394.5\" y=\"-602.8\" font-family=\"Helvetica,sans-Serif\" font-size=\"14.00\">value = [50, 50, 50]</text>\n<text text-anchor=\"start\" x=\"409\" y=\"-587.8\" font-family=\"Helvetica,sans-Serif\" font-size=\"14.00\">class = setosa</text>\n</g>\n<!-- 1 -->\n<g id=\"node2\" class=\"node\">\n<title>1</title>\n<path fill=\"#e58139\" stroke=\"black\" d=\"M422,-536.5C422,-536.5 329,-536.5 329,-536.5 323,-536.5 317,-530.5 317,-524.5 317,-524.5 317,-480.5 317,-480.5 317,-474.5 323,-468.5 329,-468.5 329,-468.5 422,-468.5 422,-468.5 428,-468.5 434,-474.5 434,-480.5 434,-480.5 434,-524.5 434,-524.5 434,-530.5 428,-536.5 422,-536.5\"/>\n<text text-anchor=\"start\" x=\"347.5\" y=\"-521.3\" font-family=\"Helvetica,sans-Serif\" font-size=\"14.00\">gini = 0.0</text>\n<text text-anchor=\"start\" x=\"334.5\" y=\"-506.3\" font-family=\"Helvetica,sans-Serif\" font-size=\"14.00\">samples = 50</text>\n<text text-anchor=\"start\" x=\"325\" y=\"-491.3\" font-family=\"Helvetica,sans-Serif\" font-size=\"14.00\">value = [50, 0, 0]</text>\n<text text-anchor=\"start\" x=\"332\" y=\"-476.3\" font-family=\"Helvetica,sans-Serif\" font-size=\"14.00\">class = setosa</text>\n</g>\n<!-- 0&#45;&gt;1 -->\n<g id=\"edge1\" class=\"edge\">\n<title>0&#45;&gt;1</title>\n<path fill=\"none\" stroke=\"black\" d=\"M425.79,-579.91C418.38,-568.65 410.33,-556.42 402.88,-545.11\"/>\n<polygon fill=\"black\" stroke=\"black\" points=\"405.75,-543.1 397.33,-536.67 399.9,-546.94 405.75,-543.1\"/>\n<text text-anchor=\"middle\" x=\"392.28\" y=\"-557.45\" font-family=\"Helvetica,sans-Serif\" font-size=\"14.00\">True</text>\n</g>\n<!-- 2 -->\n<g id=\"node3\" class=\"node\">\n<title>2</title>\n<path fill=\"#ffffff\" stroke=\"black\" d=\"M594.5,-544C594.5,-544 464.5,-544 464.5,-544 458.5,-544 452.5,-538 452.5,-532 452.5,-532 452.5,-473 452.5,-473 452.5,-467 458.5,-461 464.5,-461 464.5,-461 594.5,-461 594.5,-461 600.5,-461 606.5,-467 606.5,-473 606.5,-473 606.5,-532 606.5,-532 606.5,-538 600.5,-544 594.5,-544\"/>\n<text text-anchor=\"start\" x=\"460.5\" y=\"-528.8\" font-family=\"Helvetica,sans-Serif\" font-size=\"14.00\">petal width (cm) ≤ 1.75</text>\n<text text-anchor=\"start\" x=\"501.5\" y=\"-513.8\" font-family=\"Helvetica,sans-Serif\" font-size=\"14.00\">gini = 0.5</text>\n<text text-anchor=\"start\" x=\"484.5\" y=\"-498.8\" font-family=\"Helvetica,sans-Serif\" font-size=\"14.00\">samples = 100</text>\n<text text-anchor=\"start\" x=\"475\" y=\"-483.8\" font-family=\"Helvetica,sans-Serif\" font-size=\"14.00\">value = [0, 50, 50]</text>\n<text text-anchor=\"start\" x=\"477\" y=\"-468.8\" font-family=\"Helvetica,sans-Serif\" font-size=\"14.00\">class = versicolor</text>\n</g>\n<!-- 0&#45;&gt;2 -->\n<g id=\"edge2\" class=\"edge\">\n<title>0&#45;&gt;2</title>\n<path fill=\"none\" stroke=\"black\" d=\"M479.21,-579.91C485.01,-571.1 491.2,-561.7 497.18,-552.61\"/>\n<polygon fill=\"black\" stroke=\"black\" points=\"500.26,-554.3 502.83,-544.02 494.41,-550.45 500.26,-554.3\"/>\n<text text-anchor=\"middle\" x=\"507.88\" y=\"-564.81\" font-family=\"Helvetica,sans-Serif\" font-size=\"14.00\">False</text>\n</g>\n<!-- 3 -->\n<g id=\"node4\" class=\"node\">\n<title>3</title>\n<path fill=\"#4de88e\" stroke=\"black\" d=\"M484,-425C484,-425 349,-425 349,-425 343,-425 337,-419 337,-413 337,-413 337,-354 337,-354 337,-348 343,-342 349,-342 349,-342 484,-342 484,-342 490,-342 496,-348 496,-354 496,-354 496,-413 496,-413 496,-419 490,-425 484,-425\"/>\n<text text-anchor=\"start\" x=\"345\" y=\"-409.8\" font-family=\"Helvetica,sans-Serif\" font-size=\"14.00\">petal length (cm) ≤ 4.95</text>\n<text text-anchor=\"start\" x=\"381\" y=\"-394.8\" font-family=\"Helvetica,sans-Serif\" font-size=\"14.00\">gini = 0.168</text>\n<text text-anchor=\"start\" x=\"375.5\" y=\"-379.8\" font-family=\"Helvetica,sans-Serif\" font-size=\"14.00\">samples = 54</text>\n<text text-anchor=\"start\" x=\"366\" y=\"-364.8\" font-family=\"Helvetica,sans-Serif\" font-size=\"14.00\">value = [0, 49, 5]</text>\n<text text-anchor=\"start\" x=\"364\" y=\"-349.8\" font-family=\"Helvetica,sans-Serif\" font-size=\"14.00\">class = versicolor</text>\n</g>\n<!-- 2&#45;&gt;3 -->\n<g id=\"edge3\" class=\"edge\">\n<title>2&#45;&gt;3</title>\n<path fill=\"none\" stroke=\"black\" d=\"M490.3,-460.91C481.44,-451.74 471.96,-441.93 462.85,-432.49\"/>\n<polygon fill=\"black\" stroke=\"black\" points=\"465.1,-429.78 455.64,-425.02 460.07,-434.65 465.1,-429.78\"/>\n</g>\n<!-- 12 -->\n<g id=\"node13\" class=\"node\">\n<title>12</title>\n<path fill=\"#843de6\" stroke=\"black\" d=\"M710,-425C710,-425 575,-425 575,-425 569,-425 563,-419 563,-413 563,-413 563,-354 563,-354 563,-348 569,-342 575,-342 575,-342 710,-342 710,-342 716,-342 722,-348 722,-354 722,-354 722,-413 722,-413 722,-419 716,-425 710,-425\"/>\n<text text-anchor=\"start\" x=\"571\" y=\"-409.8\" font-family=\"Helvetica,sans-Serif\" font-size=\"14.00\">petal length (cm) ≤ 4.85</text>\n<text text-anchor=\"start\" x=\"607\" y=\"-394.8\" font-family=\"Helvetica,sans-Serif\" font-size=\"14.00\">gini = 0.043</text>\n<text text-anchor=\"start\" x=\"601.5\" y=\"-379.8\" font-family=\"Helvetica,sans-Serif\" font-size=\"14.00\">samples = 46</text>\n<text text-anchor=\"start\" x=\"592\" y=\"-364.8\" font-family=\"Helvetica,sans-Serif\" font-size=\"14.00\">value = [0, 1, 45]</text>\n<text text-anchor=\"start\" x=\"594\" y=\"-349.8\" font-family=\"Helvetica,sans-Serif\" font-size=\"14.00\">class = virginica</text>\n</g>\n<!-- 2&#45;&gt;12 -->\n<g id=\"edge12\" class=\"edge\">\n<title>2&#45;&gt;12</title>\n<path fill=\"none\" stroke=\"black\" d=\"M568.7,-460.91C577.56,-451.74 587.04,-441.93 596.15,-432.49\"/>\n<polygon fill=\"black\" stroke=\"black\" points=\"598.93,-434.65 603.36,-425.02 593.9,-429.78 598.93,-434.65\"/>\n</g>\n<!-- 4 -->\n<g id=\"node5\" class=\"node\">\n<title>4</title>\n<path fill=\"#3de684\" stroke=\"black\" d=\"M260.5,-306C260.5,-306 130.5,-306 130.5,-306 124.5,-306 118.5,-300 118.5,-294 118.5,-294 118.5,-235 118.5,-235 118.5,-229 124.5,-223 130.5,-223 130.5,-223 260.5,-223 260.5,-223 266.5,-223 272.5,-229 272.5,-235 272.5,-235 272.5,-294 272.5,-294 272.5,-300 266.5,-306 260.5,-306\"/>\n<text text-anchor=\"start\" x=\"126.5\" y=\"-290.8\" font-family=\"Helvetica,sans-Serif\" font-size=\"14.00\">petal width (cm) ≤ 1.65</text>\n<text text-anchor=\"start\" x=\"160\" y=\"-275.8\" font-family=\"Helvetica,sans-Serif\" font-size=\"14.00\">gini = 0.041</text>\n<text text-anchor=\"start\" x=\"154.5\" y=\"-260.8\" font-family=\"Helvetica,sans-Serif\" font-size=\"14.00\">samples = 48</text>\n<text text-anchor=\"start\" x=\"145\" y=\"-245.8\" font-family=\"Helvetica,sans-Serif\" font-size=\"14.00\">value = [0, 47, 1]</text>\n<text text-anchor=\"start\" x=\"143\" y=\"-230.8\" font-family=\"Helvetica,sans-Serif\" font-size=\"14.00\">class = versicolor</text>\n</g>\n<!-- 3&#45;&gt;4 -->\n<g id=\"edge4\" class=\"edge\">\n<title>3&#45;&gt;4</title>\n<path fill=\"none\" stroke=\"black\" d=\"M339.83,-341.91C320.88,-331.88 300.47,-321.07 281.14,-310.84\"/>\n<polygon fill=\"black\" stroke=\"black\" points=\"282.51,-307.61 272.04,-306.02 279.24,-313.79 282.51,-307.61\"/>\n</g>\n<!-- 7 -->\n<g id=\"node8\" class=\"node\">\n<title>7</title>\n<path fill=\"#c09cf2\" stroke=\"black\" d=\"M481.5,-306C481.5,-306 351.5,-306 351.5,-306 345.5,-306 339.5,-300 339.5,-294 339.5,-294 339.5,-235 339.5,-235 339.5,-229 345.5,-223 351.5,-223 351.5,-223 481.5,-223 481.5,-223 487.5,-223 493.5,-229 493.5,-235 493.5,-235 493.5,-294 493.5,-294 493.5,-300 487.5,-306 481.5,-306\"/>\n<text text-anchor=\"start\" x=\"347.5\" y=\"-290.8\" font-family=\"Helvetica,sans-Serif\" font-size=\"14.00\">petal width (cm) ≤ 1.55</text>\n<text text-anchor=\"start\" x=\"381\" y=\"-275.8\" font-family=\"Helvetica,sans-Serif\" font-size=\"14.00\">gini = 0.444</text>\n<text text-anchor=\"start\" x=\"379\" y=\"-260.8\" font-family=\"Helvetica,sans-Serif\" font-size=\"14.00\">samples = 6</text>\n<text text-anchor=\"start\" x=\"369.5\" y=\"-245.8\" font-family=\"Helvetica,sans-Serif\" font-size=\"14.00\">value = [0, 2, 4]</text>\n<text text-anchor=\"start\" x=\"368\" y=\"-230.8\" font-family=\"Helvetica,sans-Serif\" font-size=\"14.00\">class = virginica</text>\n</g>\n<!-- 3&#45;&gt;7 -->\n<g id=\"edge7\" class=\"edge\">\n<title>3&#45;&gt;7</title>\n<path fill=\"none\" stroke=\"black\" d=\"M416.5,-341.91C416.5,-333.65 416.5,-324.86 416.5,-316.3\"/>\n<polygon fill=\"black\" stroke=\"black\" points=\"420,-316.02 416.5,-306.02 413,-316.02 420,-316.02\"/>\n</g>\n<!-- 5 -->\n<g id=\"node6\" class=\"node\">\n<title>5</title>\n<path fill=\"#39e581\" stroke=\"black\" d=\"M109,-179.5C109,-179.5 12,-179.5 12,-179.5 6,-179.5 0,-173.5 0,-167.5 0,-167.5 0,-123.5 0,-123.5 0,-117.5 6,-111.5 12,-111.5 12,-111.5 109,-111.5 109,-111.5 115,-111.5 121,-117.5 121,-123.5 121,-123.5 121,-167.5 121,-167.5 121,-173.5 115,-179.5 109,-179.5\"/>\n<text text-anchor=\"start\" x=\"32.5\" y=\"-164.3\" font-family=\"Helvetica,sans-Serif\" font-size=\"14.00\">gini = 0.0</text>\n<text text-anchor=\"start\" x=\"19.5\" y=\"-149.3\" font-family=\"Helvetica,sans-Serif\" font-size=\"14.00\">samples = 47</text>\n<text text-anchor=\"start\" x=\"10\" y=\"-134.3\" font-family=\"Helvetica,sans-Serif\" font-size=\"14.00\">value = [0, 47, 0]</text>\n<text text-anchor=\"start\" x=\"8\" y=\"-119.3\" font-family=\"Helvetica,sans-Serif\" font-size=\"14.00\">class = versicolor</text>\n</g>\n<!-- 4&#45;&gt;5 -->\n<g id=\"edge5\" class=\"edge\">\n<title>4&#45;&gt;5</title>\n<path fill=\"none\" stroke=\"black\" d=\"M148.66,-222.91C135.04,-211.1 120.17,-198.22 106.6,-186.45\"/>\n<polygon fill=\"black\" stroke=\"black\" points=\"108.62,-183.57 98.77,-179.67 104.03,-188.86 108.62,-183.57\"/>\n</g>\n<!-- 6 -->\n<g id=\"node7\" class=\"node\">\n<title>6</title>\n<path fill=\"#8139e5\" stroke=\"black\" d=\"M240,-179.5C240,-179.5 151,-179.5 151,-179.5 145,-179.5 139,-173.5 139,-167.5 139,-167.5 139,-123.5 139,-123.5 139,-117.5 145,-111.5 151,-111.5 151,-111.5 240,-111.5 240,-111.5 246,-111.5 252,-117.5 252,-123.5 252,-123.5 252,-167.5 252,-167.5 252,-173.5 246,-179.5 240,-179.5\"/>\n<text text-anchor=\"start\" x=\"167.5\" y=\"-164.3\" font-family=\"Helvetica,sans-Serif\" font-size=\"14.00\">gini = 0.0</text>\n<text text-anchor=\"start\" x=\"158\" y=\"-149.3\" font-family=\"Helvetica,sans-Serif\" font-size=\"14.00\">samples = 1</text>\n<text text-anchor=\"start\" x=\"148.5\" y=\"-134.3\" font-family=\"Helvetica,sans-Serif\" font-size=\"14.00\">value = [0, 0, 1]</text>\n<text text-anchor=\"start\" x=\"147\" y=\"-119.3\" font-family=\"Helvetica,sans-Serif\" font-size=\"14.00\">class = virginica</text>\n</g>\n<!-- 4&#45;&gt;6 -->\n<g id=\"edge6\" class=\"edge\">\n<title>4&#45;&gt;6</title>\n<path fill=\"none\" stroke=\"black\" d=\"M195.5,-222.91C195.5,-212.2 195.5,-200.62 195.5,-189.78\"/>\n<polygon fill=\"black\" stroke=\"black\" points=\"199,-189.67 195.5,-179.67 192,-189.67 199,-189.67\"/>\n</g>\n<!-- 8 -->\n<g id=\"node9\" class=\"node\">\n<title>8</title>\n<path fill=\"#8139e5\" stroke=\"black\" d=\"M371,-179.5C371,-179.5 282,-179.5 282,-179.5 276,-179.5 270,-173.5 270,-167.5 270,-167.5 270,-123.5 270,-123.5 270,-117.5 276,-111.5 282,-111.5 282,-111.5 371,-111.5 371,-111.5 377,-111.5 383,-117.5 383,-123.5 383,-123.5 383,-167.5 383,-167.5 383,-173.5 377,-179.5 371,-179.5\"/>\n<text text-anchor=\"start\" x=\"298.5\" y=\"-164.3\" font-family=\"Helvetica,sans-Serif\" font-size=\"14.00\">gini = 0.0</text>\n<text text-anchor=\"start\" x=\"289\" y=\"-149.3\" font-family=\"Helvetica,sans-Serif\" font-size=\"14.00\">samples = 3</text>\n<text text-anchor=\"start\" x=\"279.5\" y=\"-134.3\" font-family=\"Helvetica,sans-Serif\" font-size=\"14.00\">value = [0, 0, 3]</text>\n<text text-anchor=\"start\" x=\"278\" y=\"-119.3\" font-family=\"Helvetica,sans-Serif\" font-size=\"14.00\">class = virginica</text>\n</g>\n<!-- 7&#45;&gt;8 -->\n<g id=\"edge8\" class=\"edge\">\n<title>7&#45;&gt;8</title>\n<path fill=\"none\" stroke=\"black\" d=\"M385.27,-222.91C376.53,-211.54 367.02,-199.18 358.25,-187.77\"/>\n<polygon fill=\"black\" stroke=\"black\" points=\"360.88,-185.46 352.01,-179.67 355.34,-189.73 360.88,-185.46\"/>\n</g>\n<!-- 9 -->\n<g id=\"node10\" class=\"node\">\n<title>9</title>\n<path fill=\"#9cf2c0\" stroke=\"black\" d=\"M551.5,-187C551.5,-187 413.5,-187 413.5,-187 407.5,-187 401.5,-181 401.5,-175 401.5,-175 401.5,-116 401.5,-116 401.5,-110 407.5,-104 413.5,-104 413.5,-104 551.5,-104 551.5,-104 557.5,-104 563.5,-110 563.5,-116 563.5,-116 563.5,-175 563.5,-175 563.5,-181 557.5,-187 551.5,-187\"/>\n<text text-anchor=\"start\" x=\"409.5\" y=\"-171.8\" font-family=\"Helvetica,sans-Serif\" font-size=\"14.00\">sepal length (cm) ≤ 6.95</text>\n<text text-anchor=\"start\" x=\"447\" y=\"-156.8\" font-family=\"Helvetica,sans-Serif\" font-size=\"14.00\">gini = 0.444</text>\n<text text-anchor=\"start\" x=\"445\" y=\"-141.8\" font-family=\"Helvetica,sans-Serif\" font-size=\"14.00\">samples = 3</text>\n<text text-anchor=\"start\" x=\"435.5\" y=\"-126.8\" font-family=\"Helvetica,sans-Serif\" font-size=\"14.00\">value = [0, 2, 1]</text>\n<text text-anchor=\"start\" x=\"430\" y=\"-111.8\" font-family=\"Helvetica,sans-Serif\" font-size=\"14.00\">class = versicolor</text>\n</g>\n<!-- 7&#45;&gt;9 -->\n<g id=\"edge9\" class=\"edge\">\n<title>7&#45;&gt;9</title>\n<path fill=\"none\" stroke=\"black\" d=\"M439.4,-222.91C444.31,-214.2 449.56,-204.9 454.64,-195.89\"/>\n<polygon fill=\"black\" stroke=\"black\" points=\"457.78,-197.45 459.64,-187.02 451.68,-194.01 457.78,-197.45\"/>\n</g>\n<!-- 10 -->\n<g id=\"node11\" class=\"node\">\n<title>10</title>\n<path fill=\"#39e581\" stroke=\"black\" d=\"M463,-68C463,-68 366,-68 366,-68 360,-68 354,-62 354,-56 354,-56 354,-12 354,-12 354,-6 360,0 366,0 366,0 463,0 463,0 469,0 475,-6 475,-12 475,-12 475,-56 475,-56 475,-62 469,-68 463,-68\"/>\n<text text-anchor=\"start\" x=\"386.5\" y=\"-52.8\" font-family=\"Helvetica,sans-Serif\" font-size=\"14.00\">gini = 0.0</text>\n<text text-anchor=\"start\" x=\"377\" y=\"-37.8\" font-family=\"Helvetica,sans-Serif\" font-size=\"14.00\">samples = 2</text>\n<text text-anchor=\"start\" x=\"367.5\" y=\"-22.8\" font-family=\"Helvetica,sans-Serif\" font-size=\"14.00\">value = [0, 2, 0]</text>\n<text text-anchor=\"start\" x=\"362\" y=\"-7.8\" font-family=\"Helvetica,sans-Serif\" font-size=\"14.00\">class = versicolor</text>\n</g>\n<!-- 9&#45;&gt;10 -->\n<g id=\"edge10\" class=\"edge\">\n<title>9&#45;&gt;10</title>\n<path fill=\"none\" stroke=\"black\" d=\"M457.18,-103.73C451.74,-94.97 445.99,-85.7 440.52,-76.91\"/>\n<polygon fill=\"black\" stroke=\"black\" points=\"443.43,-74.95 435.18,-68.3 437.48,-78.64 443.43,-74.95\"/>\n</g>\n<!-- 11 -->\n<g id=\"node12\" class=\"node\">\n<title>11</title>\n<path fill=\"#8139e5\" stroke=\"black\" d=\"M594,-68C594,-68 505,-68 505,-68 499,-68 493,-62 493,-56 493,-56 493,-12 493,-12 493,-6 499,0 505,0 505,0 594,0 594,0 600,0 606,-6 606,-12 606,-12 606,-56 606,-56 606,-62 600,-68 594,-68\"/>\n<text text-anchor=\"start\" x=\"521.5\" y=\"-52.8\" font-family=\"Helvetica,sans-Serif\" font-size=\"14.00\">gini = 0.0</text>\n<text text-anchor=\"start\" x=\"512\" y=\"-37.8\" font-family=\"Helvetica,sans-Serif\" font-size=\"14.00\">samples = 1</text>\n<text text-anchor=\"start\" x=\"502.5\" y=\"-22.8\" font-family=\"Helvetica,sans-Serif\" font-size=\"14.00\">value = [0, 0, 1]</text>\n<text text-anchor=\"start\" x=\"501\" y=\"-7.8\" font-family=\"Helvetica,sans-Serif\" font-size=\"14.00\">class = virginica</text>\n</g>\n<!-- 9&#45;&gt;11 -->\n<g id=\"edge11\" class=\"edge\">\n<title>9&#45;&gt;11</title>\n<path fill=\"none\" stroke=\"black\" d=\"M507.45,-103.73C512.81,-94.97 518.48,-85.7 523.86,-76.91\"/>\n<polygon fill=\"black\" stroke=\"black\" points=\"526.89,-78.66 529.12,-68.3 520.92,-75 526.89,-78.66\"/>\n</g>\n<!-- 13 -->\n<g id=\"node14\" class=\"node\">\n<title>13</title>\n<path fill=\"#c09cf2\" stroke=\"black\" d=\"M711.5,-306C711.5,-306 573.5,-306 573.5,-306 567.5,-306 561.5,-300 561.5,-294 561.5,-294 561.5,-235 561.5,-235 561.5,-229 567.5,-223 573.5,-223 573.5,-223 711.5,-223 711.5,-223 717.5,-223 723.5,-229 723.5,-235 723.5,-235 723.5,-294 723.5,-294 723.5,-300 717.5,-306 711.5,-306\"/>\n<text text-anchor=\"start\" x=\"569.5\" y=\"-290.8\" font-family=\"Helvetica,sans-Serif\" font-size=\"14.00\">sepal length (cm) ≤ 5.95</text>\n<text text-anchor=\"start\" x=\"607\" y=\"-275.8\" font-family=\"Helvetica,sans-Serif\" font-size=\"14.00\">gini = 0.444</text>\n<text text-anchor=\"start\" x=\"605\" y=\"-260.8\" font-family=\"Helvetica,sans-Serif\" font-size=\"14.00\">samples = 3</text>\n<text text-anchor=\"start\" x=\"595.5\" y=\"-245.8\" font-family=\"Helvetica,sans-Serif\" font-size=\"14.00\">value = [0, 1, 2]</text>\n<text text-anchor=\"start\" x=\"594\" y=\"-230.8\" font-family=\"Helvetica,sans-Serif\" font-size=\"14.00\">class = virginica</text>\n</g>\n<!-- 12&#45;&gt;13 -->\n<g id=\"edge13\" class=\"edge\">\n<title>12&#45;&gt;13</title>\n<path fill=\"none\" stroke=\"black\" d=\"M642.5,-341.91C642.5,-333.65 642.5,-324.86 642.5,-316.3\"/>\n<polygon fill=\"black\" stroke=\"black\" points=\"646,-316.02 642.5,-306.02 639,-316.02 646,-316.02\"/>\n</g>\n<!-- 16 -->\n<g id=\"node17\" class=\"node\">\n<title>16</title>\n<path fill=\"#8139e5\" stroke=\"black\" d=\"M847,-298.5C847,-298.5 754,-298.5 754,-298.5 748,-298.5 742,-292.5 742,-286.5 742,-286.5 742,-242.5 742,-242.5 742,-236.5 748,-230.5 754,-230.5 754,-230.5 847,-230.5 847,-230.5 853,-230.5 859,-236.5 859,-242.5 859,-242.5 859,-286.5 859,-286.5 859,-292.5 853,-298.5 847,-298.5\"/>\n<text text-anchor=\"start\" x=\"772.5\" y=\"-283.3\" font-family=\"Helvetica,sans-Serif\" font-size=\"14.00\">gini = 0.0</text>\n<text text-anchor=\"start\" x=\"759.5\" y=\"-268.3\" font-family=\"Helvetica,sans-Serif\" font-size=\"14.00\">samples = 43</text>\n<text text-anchor=\"start\" x=\"750\" y=\"-253.3\" font-family=\"Helvetica,sans-Serif\" font-size=\"14.00\">value = [0, 0, 43]</text>\n<text text-anchor=\"start\" x=\"752\" y=\"-238.3\" font-family=\"Helvetica,sans-Serif\" font-size=\"14.00\">class = virginica</text>\n</g>\n<!-- 12&#45;&gt;16 -->\n<g id=\"edge16\" class=\"edge\">\n<title>12&#45;&gt;16</title>\n<path fill=\"none\" stroke=\"black\" d=\"M697.32,-341.91C713.56,-329.88 731.31,-316.73 747.44,-304.79\"/>\n<polygon fill=\"black\" stroke=\"black\" points=\"749.76,-307.43 755.71,-298.67 745.59,-301.81 749.76,-307.43\"/>\n</g>\n<!-- 14 -->\n<g id=\"node15\" class=\"node\">\n<title>14</title>\n<path fill=\"#39e581\" stroke=\"black\" d=\"M691,-179.5C691,-179.5 594,-179.5 594,-179.5 588,-179.5 582,-173.5 582,-167.5 582,-167.5 582,-123.5 582,-123.5 582,-117.5 588,-111.5 594,-111.5 594,-111.5 691,-111.5 691,-111.5 697,-111.5 703,-117.5 703,-123.5 703,-123.5 703,-167.5 703,-167.5 703,-173.5 697,-179.5 691,-179.5\"/>\n<text text-anchor=\"start\" x=\"614.5\" y=\"-164.3\" font-family=\"Helvetica,sans-Serif\" font-size=\"14.00\">gini = 0.0</text>\n<text text-anchor=\"start\" x=\"605\" y=\"-149.3\" font-family=\"Helvetica,sans-Serif\" font-size=\"14.00\">samples = 1</text>\n<text text-anchor=\"start\" x=\"595.5\" y=\"-134.3\" font-family=\"Helvetica,sans-Serif\" font-size=\"14.00\">value = [0, 1, 0]</text>\n<text text-anchor=\"start\" x=\"590\" y=\"-119.3\" font-family=\"Helvetica,sans-Serif\" font-size=\"14.00\">class = versicolor</text>\n</g>\n<!-- 13&#45;&gt;14 -->\n<g id=\"edge14\" class=\"edge\">\n<title>13&#45;&gt;14</title>\n<path fill=\"none\" stroke=\"black\" d=\"M642.5,-222.91C642.5,-212.2 642.5,-200.62 642.5,-189.78\"/>\n<polygon fill=\"black\" stroke=\"black\" points=\"646,-189.67 642.5,-179.67 639,-189.67 646,-189.67\"/>\n</g>\n<!-- 15 -->\n<g id=\"node16\" class=\"node\">\n<title>15</title>\n<path fill=\"#8139e5\" stroke=\"black\" d=\"M822,-179.5C822,-179.5 733,-179.5 733,-179.5 727,-179.5 721,-173.5 721,-167.5 721,-167.5 721,-123.5 721,-123.5 721,-117.5 727,-111.5 733,-111.5 733,-111.5 822,-111.5 822,-111.5 828,-111.5 834,-117.5 834,-123.5 834,-123.5 834,-167.5 834,-167.5 834,-173.5 828,-179.5 822,-179.5\"/>\n<text text-anchor=\"start\" x=\"749.5\" y=\"-164.3\" font-family=\"Helvetica,sans-Serif\" font-size=\"14.00\">gini = 0.0</text>\n<text text-anchor=\"start\" x=\"740\" y=\"-149.3\" font-family=\"Helvetica,sans-Serif\" font-size=\"14.00\">samples = 2</text>\n<text text-anchor=\"start\" x=\"730.5\" y=\"-134.3\" font-family=\"Helvetica,sans-Serif\" font-size=\"14.00\">value = [0, 0, 2]</text>\n<text text-anchor=\"start\" x=\"729\" y=\"-119.3\" font-family=\"Helvetica,sans-Serif\" font-size=\"14.00\">class = virginica</text>\n</g>\n<!-- 13&#45;&gt;15 -->\n<g id=\"edge15\" class=\"edge\">\n<title>13&#45;&gt;15</title>\n<path fill=\"none\" stroke=\"black\" d=\"M689.34,-222.91C702.96,-211.1 717.83,-198.22 731.4,-186.45\"/>\n<polygon fill=\"black\" stroke=\"black\" points=\"733.97,-188.86 739.23,-179.67 729.38,-183.57 733.97,-188.86\"/>\n</g>\n</g>\n</svg>\n",
      "text/plain": [
       "<graphviz.sources.Source at 0x12ffc921d90>"
      ]
     },
     "execution_count": 16,
     "metadata": {},
     "output_type": "execute_result"
    }
   ],
   "source": [
    "graph"
   ]
  },
  {
   "cell_type": "markdown",
   "metadata": {},
   "source": [
    "- 엔트로피를 활용한 트리"
   ]
  },
  {
   "cell_type": "code",
   "execution_count": 19,
   "metadata": {
    "collapsed": true,
    "jupyter": {
     "outputs_hidden": true
    }
   },
   "outputs": [],
   "source": [
    "clf2 = tree.DecisionTreeClassifier(criterion=\"entropy\")"
   ]
  },
  {
   "cell_type": "code",
   "execution_count": 20,
   "metadata": {},
   "outputs": [
    {
     "data": {
      "text/plain": [
       "DecisionTreeClassifier(criterion='entropy')"
      ]
     },
     "execution_count": 20,
     "metadata": {},
     "output_type": "execute_result"
    }
   ],
   "source": [
    "clf2.fit(iris.data, iris.target)"
   ]
  },
  {
   "cell_type": "code",
   "execution_count": 21,
   "metadata": {
    "collapsed": true,
    "jupyter": {
     "outputs_hidden": true
    }
   },
   "outputs": [],
   "source": [
    "dot_data2 = tree.export_graphviz(clf2, out_file=None, feature_names=iris.feature_names, class_names=iris.target_names, filled= True, rounded= True, special_characters=True)\n",
    "graph2 = graphviz.Source(dot_data2)"
   ]
  },
  {
   "cell_type": "code",
   "execution_count": 22,
   "metadata": {},
   "outputs": [
    {
     "data": {
      "image/svg+xml": "<?xml version=\"1.0\" encoding=\"UTF-8\" standalone=\"no\"?>\n<!DOCTYPE svg PUBLIC \"-//W3C//DTD SVG 1.1//EN\"\n \"http://www.w3.org/Graphics/SVG/1.1/DTD/svg11.dtd\">\n<!-- Generated by graphviz version 2.50.0 (0)\n -->\n<!-- Title: Tree Pages: 1 -->\n<svg width=\"867pt\" height=\"671pt\"\n viewBox=\"0.00 0.00 867.00 671.00\" xmlns=\"http://www.w3.org/2000/svg\" xmlns:xlink=\"http://www.w3.org/1999/xlink\">\n<g id=\"graph0\" class=\"graph\" transform=\"scale(1 1) rotate(0) translate(4 667)\">\n<title>Tree</title>\n<polygon fill=\"white\" stroke=\"transparent\" points=\"-4,4 -4,-667 863,-667 863,4 -4,4\"/>\n<!-- 0 -->\n<g id=\"node1\" class=\"node\">\n<title>0</title>\n<path fill=\"#ffffff\" stroke=\"black\" d=\"M513.5,-663C513.5,-663 391.5,-663 391.5,-663 385.5,-663 379.5,-657 379.5,-651 379.5,-651 379.5,-592 379.5,-592 379.5,-586 385.5,-580 391.5,-580 391.5,-580 513.5,-580 513.5,-580 519.5,-580 525.5,-586 525.5,-592 525.5,-592 525.5,-651 525.5,-651 525.5,-657 519.5,-663 513.5,-663\"/>\n<text text-anchor=\"start\" x=\"387.5\" y=\"-647.8\" font-family=\"Helvetica,sans-Serif\" font-size=\"14.00\">petal width (cm) ≤ 0.8</text>\n<text text-anchor=\"start\" x=\"405\" y=\"-632.8\" font-family=\"Helvetica,sans-Serif\" font-size=\"14.00\">entropy = 1.585</text>\n<text text-anchor=\"start\" x=\"407.5\" y=\"-617.8\" font-family=\"Helvetica,sans-Serif\" font-size=\"14.00\">samples = 150</text>\n<text text-anchor=\"start\" x=\"394.5\" y=\"-602.8\" font-family=\"Helvetica,sans-Serif\" font-size=\"14.00\">value = [50, 50, 50]</text>\n<text text-anchor=\"start\" x=\"409\" y=\"-587.8\" font-family=\"Helvetica,sans-Serif\" font-size=\"14.00\">class = setosa</text>\n</g>\n<!-- 1 -->\n<g id=\"node2\" class=\"node\">\n<title>1</title>\n<path fill=\"#e58139\" stroke=\"black\" d=\"M422,-536.5C422,-536.5 329,-536.5 329,-536.5 323,-536.5 317,-530.5 317,-524.5 317,-524.5 317,-480.5 317,-480.5 317,-474.5 323,-468.5 329,-468.5 329,-468.5 422,-468.5 422,-468.5 428,-468.5 434,-474.5 434,-480.5 434,-480.5 434,-524.5 434,-524.5 434,-530.5 428,-536.5 422,-536.5\"/>\n<text text-anchor=\"start\" x=\"335.5\" y=\"-521.3\" font-family=\"Helvetica,sans-Serif\" font-size=\"14.00\">entropy = 0.0</text>\n<text text-anchor=\"start\" x=\"334.5\" y=\"-506.3\" font-family=\"Helvetica,sans-Serif\" font-size=\"14.00\">samples = 50</text>\n<text text-anchor=\"start\" x=\"325\" y=\"-491.3\" font-family=\"Helvetica,sans-Serif\" font-size=\"14.00\">value = [50, 0, 0]</text>\n<text text-anchor=\"start\" x=\"332\" y=\"-476.3\" font-family=\"Helvetica,sans-Serif\" font-size=\"14.00\">class = setosa</text>\n</g>\n<!-- 0&#45;&gt;1 -->\n<g id=\"edge1\" class=\"edge\">\n<title>0&#45;&gt;1</title>\n<path fill=\"none\" stroke=\"black\" d=\"M425.79,-579.91C418.38,-568.65 410.33,-556.42 402.88,-545.11\"/>\n<polygon fill=\"black\" stroke=\"black\" points=\"405.75,-543.1 397.33,-536.67 399.9,-546.94 405.75,-543.1\"/>\n<text text-anchor=\"middle\" x=\"392.28\" y=\"-557.45\" font-family=\"Helvetica,sans-Serif\" font-size=\"14.00\">True</text>\n</g>\n<!-- 2 -->\n<g id=\"node3\" class=\"node\">\n<title>2</title>\n<path fill=\"#ffffff\" stroke=\"black\" d=\"M594.5,-544C594.5,-544 464.5,-544 464.5,-544 458.5,-544 452.5,-538 452.5,-532 452.5,-532 452.5,-473 452.5,-473 452.5,-467 458.5,-461 464.5,-461 464.5,-461 594.5,-461 594.5,-461 600.5,-461 606.5,-467 606.5,-473 606.5,-473 606.5,-532 606.5,-532 606.5,-538 600.5,-544 594.5,-544\"/>\n<text text-anchor=\"start\" x=\"460.5\" y=\"-528.8\" font-family=\"Helvetica,sans-Serif\" font-size=\"14.00\">petal width (cm) ≤ 1.75</text>\n<text text-anchor=\"start\" x=\"489.5\" y=\"-513.8\" font-family=\"Helvetica,sans-Serif\" font-size=\"14.00\">entropy = 1.0</text>\n<text text-anchor=\"start\" x=\"484.5\" y=\"-498.8\" font-family=\"Helvetica,sans-Serif\" font-size=\"14.00\">samples = 100</text>\n<text text-anchor=\"start\" x=\"475\" y=\"-483.8\" font-family=\"Helvetica,sans-Serif\" font-size=\"14.00\">value = [0, 50, 50]</text>\n<text text-anchor=\"start\" x=\"477\" y=\"-468.8\" font-family=\"Helvetica,sans-Serif\" font-size=\"14.00\">class = versicolor</text>\n</g>\n<!-- 0&#45;&gt;2 -->\n<g id=\"edge2\" class=\"edge\">\n<title>0&#45;&gt;2</title>\n<path fill=\"none\" stroke=\"black\" d=\"M479.21,-579.91C485.01,-571.1 491.2,-561.7 497.18,-552.61\"/>\n<polygon fill=\"black\" stroke=\"black\" points=\"500.26,-554.3 502.83,-544.02 494.41,-550.45 500.26,-554.3\"/>\n<text text-anchor=\"middle\" x=\"507.88\" y=\"-564.81\" font-family=\"Helvetica,sans-Serif\" font-size=\"14.00\">False</text>\n</g>\n<!-- 3 -->\n<g id=\"node4\" class=\"node\">\n<title>3</title>\n<path fill=\"#4de88e\" stroke=\"black\" d=\"M484,-425C484,-425 349,-425 349,-425 343,-425 337,-419 337,-413 337,-413 337,-354 337,-354 337,-348 343,-342 349,-342 349,-342 484,-342 484,-342 490,-342 496,-348 496,-354 496,-354 496,-413 496,-413 496,-419 490,-425 484,-425\"/>\n<text text-anchor=\"start\" x=\"345\" y=\"-409.8\" font-family=\"Helvetica,sans-Serif\" font-size=\"14.00\">petal length (cm) ≤ 4.95</text>\n<text text-anchor=\"start\" x=\"369\" y=\"-394.8\" font-family=\"Helvetica,sans-Serif\" font-size=\"14.00\">entropy = 0.445</text>\n<text text-anchor=\"start\" x=\"375.5\" y=\"-379.8\" font-family=\"Helvetica,sans-Serif\" font-size=\"14.00\">samples = 54</text>\n<text text-anchor=\"start\" x=\"366\" y=\"-364.8\" font-family=\"Helvetica,sans-Serif\" font-size=\"14.00\">value = [0, 49, 5]</text>\n<text text-anchor=\"start\" x=\"364\" y=\"-349.8\" font-family=\"Helvetica,sans-Serif\" font-size=\"14.00\">class = versicolor</text>\n</g>\n<!-- 2&#45;&gt;3 -->\n<g id=\"edge3\" class=\"edge\">\n<title>2&#45;&gt;3</title>\n<path fill=\"none\" stroke=\"black\" d=\"M490.3,-460.91C481.44,-451.74 471.96,-441.93 462.85,-432.49\"/>\n<polygon fill=\"black\" stroke=\"black\" points=\"465.1,-429.78 455.64,-425.02 460.07,-434.65 465.1,-429.78\"/>\n</g>\n<!-- 12 -->\n<g id=\"node13\" class=\"node\">\n<title>12</title>\n<path fill=\"#843de6\" stroke=\"black\" d=\"M710,-425C710,-425 575,-425 575,-425 569,-425 563,-419 563,-413 563,-413 563,-354 563,-354 563,-348 569,-342 575,-342 575,-342 710,-342 710,-342 716,-342 722,-348 722,-354 722,-354 722,-413 722,-413 722,-419 716,-425 710,-425\"/>\n<text text-anchor=\"start\" x=\"571\" y=\"-409.8\" font-family=\"Helvetica,sans-Serif\" font-size=\"14.00\">petal length (cm) ≤ 4.85</text>\n<text text-anchor=\"start\" x=\"595\" y=\"-394.8\" font-family=\"Helvetica,sans-Serif\" font-size=\"14.00\">entropy = 0.151</text>\n<text text-anchor=\"start\" x=\"601.5\" y=\"-379.8\" font-family=\"Helvetica,sans-Serif\" font-size=\"14.00\">samples = 46</text>\n<text text-anchor=\"start\" x=\"592\" y=\"-364.8\" font-family=\"Helvetica,sans-Serif\" font-size=\"14.00\">value = [0, 1, 45]</text>\n<text text-anchor=\"start\" x=\"594\" y=\"-349.8\" font-family=\"Helvetica,sans-Serif\" font-size=\"14.00\">class = virginica</text>\n</g>\n<!-- 2&#45;&gt;12 -->\n<g id=\"edge12\" class=\"edge\">\n<title>2&#45;&gt;12</title>\n<path fill=\"none\" stroke=\"black\" d=\"M568.7,-460.91C577.56,-451.74 587.04,-441.93 596.15,-432.49\"/>\n<polygon fill=\"black\" stroke=\"black\" points=\"598.93,-434.65 603.36,-425.02 593.9,-429.78 598.93,-434.65\"/>\n</g>\n<!-- 4 -->\n<g id=\"node5\" class=\"node\">\n<title>4</title>\n<path fill=\"#3de684\" stroke=\"black\" d=\"M260.5,-306C260.5,-306 130.5,-306 130.5,-306 124.5,-306 118.5,-300 118.5,-294 118.5,-294 118.5,-235 118.5,-235 118.5,-229 124.5,-223 130.5,-223 130.5,-223 260.5,-223 260.5,-223 266.5,-223 272.5,-229 272.5,-235 272.5,-235 272.5,-294 272.5,-294 272.5,-300 266.5,-306 260.5,-306\"/>\n<text text-anchor=\"start\" x=\"126.5\" y=\"-290.8\" font-family=\"Helvetica,sans-Serif\" font-size=\"14.00\">petal width (cm) ≤ 1.65</text>\n<text text-anchor=\"start\" x=\"148\" y=\"-275.8\" font-family=\"Helvetica,sans-Serif\" font-size=\"14.00\">entropy = 0.146</text>\n<text text-anchor=\"start\" x=\"154.5\" y=\"-260.8\" font-family=\"Helvetica,sans-Serif\" font-size=\"14.00\">samples = 48</text>\n<text text-anchor=\"start\" x=\"145\" y=\"-245.8\" font-family=\"Helvetica,sans-Serif\" font-size=\"14.00\">value = [0, 47, 1]</text>\n<text text-anchor=\"start\" x=\"143\" y=\"-230.8\" font-family=\"Helvetica,sans-Serif\" font-size=\"14.00\">class = versicolor</text>\n</g>\n<!-- 3&#45;&gt;4 -->\n<g id=\"edge4\" class=\"edge\">\n<title>3&#45;&gt;4</title>\n<path fill=\"none\" stroke=\"black\" d=\"M339.83,-341.91C320.88,-331.88 300.47,-321.07 281.14,-310.84\"/>\n<polygon fill=\"black\" stroke=\"black\" points=\"282.51,-307.61 272.04,-306.02 279.24,-313.79 282.51,-307.61\"/>\n</g>\n<!-- 7 -->\n<g id=\"node8\" class=\"node\">\n<title>7</title>\n<path fill=\"#c09cf2\" stroke=\"black\" d=\"M481.5,-306C481.5,-306 351.5,-306 351.5,-306 345.5,-306 339.5,-300 339.5,-294 339.5,-294 339.5,-235 339.5,-235 339.5,-229 345.5,-223 351.5,-223 351.5,-223 481.5,-223 481.5,-223 487.5,-223 493.5,-229 493.5,-235 493.5,-235 493.5,-294 493.5,-294 493.5,-300 487.5,-306 481.5,-306\"/>\n<text text-anchor=\"start\" x=\"347.5\" y=\"-290.8\" font-family=\"Helvetica,sans-Serif\" font-size=\"14.00\">petal width (cm) ≤ 1.55</text>\n<text text-anchor=\"start\" x=\"369\" y=\"-275.8\" font-family=\"Helvetica,sans-Serif\" font-size=\"14.00\">entropy = 0.918</text>\n<text text-anchor=\"start\" x=\"379\" y=\"-260.8\" font-family=\"Helvetica,sans-Serif\" font-size=\"14.00\">samples = 6</text>\n<text text-anchor=\"start\" x=\"369.5\" y=\"-245.8\" font-family=\"Helvetica,sans-Serif\" font-size=\"14.00\">value = [0, 2, 4]</text>\n<text text-anchor=\"start\" x=\"368\" y=\"-230.8\" font-family=\"Helvetica,sans-Serif\" font-size=\"14.00\">class = virginica</text>\n</g>\n<!-- 3&#45;&gt;7 -->\n<g id=\"edge7\" class=\"edge\">\n<title>3&#45;&gt;7</title>\n<path fill=\"none\" stroke=\"black\" d=\"M416.5,-341.91C416.5,-333.65 416.5,-324.86 416.5,-316.3\"/>\n<polygon fill=\"black\" stroke=\"black\" points=\"420,-316.02 416.5,-306.02 413,-316.02 420,-316.02\"/>\n</g>\n<!-- 5 -->\n<g id=\"node6\" class=\"node\">\n<title>5</title>\n<path fill=\"#39e581\" stroke=\"black\" d=\"M109,-179.5C109,-179.5 12,-179.5 12,-179.5 6,-179.5 0,-173.5 0,-167.5 0,-167.5 0,-123.5 0,-123.5 0,-117.5 6,-111.5 12,-111.5 12,-111.5 109,-111.5 109,-111.5 115,-111.5 121,-117.5 121,-123.5 121,-123.5 121,-167.5 121,-167.5 121,-173.5 115,-179.5 109,-179.5\"/>\n<text text-anchor=\"start\" x=\"20.5\" y=\"-164.3\" font-family=\"Helvetica,sans-Serif\" font-size=\"14.00\">entropy = 0.0</text>\n<text text-anchor=\"start\" x=\"19.5\" y=\"-149.3\" font-family=\"Helvetica,sans-Serif\" font-size=\"14.00\">samples = 47</text>\n<text text-anchor=\"start\" x=\"10\" y=\"-134.3\" font-family=\"Helvetica,sans-Serif\" font-size=\"14.00\">value = [0, 47, 0]</text>\n<text text-anchor=\"start\" x=\"8\" y=\"-119.3\" font-family=\"Helvetica,sans-Serif\" font-size=\"14.00\">class = versicolor</text>\n</g>\n<!-- 4&#45;&gt;5 -->\n<g id=\"edge5\" class=\"edge\">\n<title>4&#45;&gt;5</title>\n<path fill=\"none\" stroke=\"black\" d=\"M148.66,-222.91C135.04,-211.1 120.17,-198.22 106.6,-186.45\"/>\n<polygon fill=\"black\" stroke=\"black\" points=\"108.62,-183.57 98.77,-179.67 104.03,-188.86 108.62,-183.57\"/>\n</g>\n<!-- 6 -->\n<g id=\"node7\" class=\"node\">\n<title>6</title>\n<path fill=\"#8139e5\" stroke=\"black\" d=\"M240,-179.5C240,-179.5 151,-179.5 151,-179.5 145,-179.5 139,-173.5 139,-167.5 139,-167.5 139,-123.5 139,-123.5 139,-117.5 145,-111.5 151,-111.5 151,-111.5 240,-111.5 240,-111.5 246,-111.5 252,-117.5 252,-123.5 252,-123.5 252,-167.5 252,-167.5 252,-173.5 246,-179.5 240,-179.5\"/>\n<text text-anchor=\"start\" x=\"155.5\" y=\"-164.3\" font-family=\"Helvetica,sans-Serif\" font-size=\"14.00\">entropy = 0.0</text>\n<text text-anchor=\"start\" x=\"158\" y=\"-149.3\" font-family=\"Helvetica,sans-Serif\" font-size=\"14.00\">samples = 1</text>\n<text text-anchor=\"start\" x=\"148.5\" y=\"-134.3\" font-family=\"Helvetica,sans-Serif\" font-size=\"14.00\">value = [0, 0, 1]</text>\n<text text-anchor=\"start\" x=\"147\" y=\"-119.3\" font-family=\"Helvetica,sans-Serif\" font-size=\"14.00\">class = virginica</text>\n</g>\n<!-- 4&#45;&gt;6 -->\n<g id=\"edge6\" class=\"edge\">\n<title>4&#45;&gt;6</title>\n<path fill=\"none\" stroke=\"black\" d=\"M195.5,-222.91C195.5,-212.2 195.5,-200.62 195.5,-189.78\"/>\n<polygon fill=\"black\" stroke=\"black\" points=\"199,-189.67 195.5,-179.67 192,-189.67 199,-189.67\"/>\n</g>\n<!-- 8 -->\n<g id=\"node9\" class=\"node\">\n<title>8</title>\n<path fill=\"#8139e5\" stroke=\"black\" d=\"M371,-179.5C371,-179.5 282,-179.5 282,-179.5 276,-179.5 270,-173.5 270,-167.5 270,-167.5 270,-123.5 270,-123.5 270,-117.5 276,-111.5 282,-111.5 282,-111.5 371,-111.5 371,-111.5 377,-111.5 383,-117.5 383,-123.5 383,-123.5 383,-167.5 383,-167.5 383,-173.5 377,-179.5 371,-179.5\"/>\n<text text-anchor=\"start\" x=\"286.5\" y=\"-164.3\" font-family=\"Helvetica,sans-Serif\" font-size=\"14.00\">entropy = 0.0</text>\n<text text-anchor=\"start\" x=\"289\" y=\"-149.3\" font-family=\"Helvetica,sans-Serif\" font-size=\"14.00\">samples = 3</text>\n<text text-anchor=\"start\" x=\"279.5\" y=\"-134.3\" font-family=\"Helvetica,sans-Serif\" font-size=\"14.00\">value = [0, 0, 3]</text>\n<text text-anchor=\"start\" x=\"278\" y=\"-119.3\" font-family=\"Helvetica,sans-Serif\" font-size=\"14.00\">class = virginica</text>\n</g>\n<!-- 7&#45;&gt;8 -->\n<g id=\"edge8\" class=\"edge\">\n<title>7&#45;&gt;8</title>\n<path fill=\"none\" stroke=\"black\" d=\"M385.27,-222.91C376.53,-211.54 367.02,-199.18 358.25,-187.77\"/>\n<polygon fill=\"black\" stroke=\"black\" points=\"360.88,-185.46 352.01,-179.67 355.34,-189.73 360.88,-185.46\"/>\n</g>\n<!-- 9 -->\n<g id=\"node10\" class=\"node\">\n<title>9</title>\n<path fill=\"#9cf2c0\" stroke=\"black\" d=\"M551.5,-187C551.5,-187 413.5,-187 413.5,-187 407.5,-187 401.5,-181 401.5,-175 401.5,-175 401.5,-116 401.5,-116 401.5,-110 407.5,-104 413.5,-104 413.5,-104 551.5,-104 551.5,-104 557.5,-104 563.5,-110 563.5,-116 563.5,-116 563.5,-175 563.5,-175 563.5,-181 557.5,-187 551.5,-187\"/>\n<text text-anchor=\"start\" x=\"409.5\" y=\"-171.8\" font-family=\"Helvetica,sans-Serif\" font-size=\"14.00\">sepal length (cm) ≤ 6.95</text>\n<text text-anchor=\"start\" x=\"435\" y=\"-156.8\" font-family=\"Helvetica,sans-Serif\" font-size=\"14.00\">entropy = 0.918</text>\n<text text-anchor=\"start\" x=\"445\" y=\"-141.8\" font-family=\"Helvetica,sans-Serif\" font-size=\"14.00\">samples = 3</text>\n<text text-anchor=\"start\" x=\"435.5\" y=\"-126.8\" font-family=\"Helvetica,sans-Serif\" font-size=\"14.00\">value = [0, 2, 1]</text>\n<text text-anchor=\"start\" x=\"430\" y=\"-111.8\" font-family=\"Helvetica,sans-Serif\" font-size=\"14.00\">class = versicolor</text>\n</g>\n<!-- 7&#45;&gt;9 -->\n<g id=\"edge9\" class=\"edge\">\n<title>7&#45;&gt;9</title>\n<path fill=\"none\" stroke=\"black\" d=\"M439.4,-222.91C444.31,-214.2 449.56,-204.9 454.64,-195.89\"/>\n<polygon fill=\"black\" stroke=\"black\" points=\"457.78,-197.45 459.64,-187.02 451.68,-194.01 457.78,-197.45\"/>\n</g>\n<!-- 10 -->\n<g id=\"node11\" class=\"node\">\n<title>10</title>\n<path fill=\"#39e581\" stroke=\"black\" d=\"M463,-68C463,-68 366,-68 366,-68 360,-68 354,-62 354,-56 354,-56 354,-12 354,-12 354,-6 360,0 366,0 366,0 463,0 463,0 469,0 475,-6 475,-12 475,-12 475,-56 475,-56 475,-62 469,-68 463,-68\"/>\n<text text-anchor=\"start\" x=\"374.5\" y=\"-52.8\" font-family=\"Helvetica,sans-Serif\" font-size=\"14.00\">entropy = 0.0</text>\n<text text-anchor=\"start\" x=\"377\" y=\"-37.8\" font-family=\"Helvetica,sans-Serif\" font-size=\"14.00\">samples = 2</text>\n<text text-anchor=\"start\" x=\"367.5\" y=\"-22.8\" font-family=\"Helvetica,sans-Serif\" font-size=\"14.00\">value = [0, 2, 0]</text>\n<text text-anchor=\"start\" x=\"362\" y=\"-7.8\" font-family=\"Helvetica,sans-Serif\" font-size=\"14.00\">class = versicolor</text>\n</g>\n<!-- 9&#45;&gt;10 -->\n<g id=\"edge10\" class=\"edge\">\n<title>9&#45;&gt;10</title>\n<path fill=\"none\" stroke=\"black\" d=\"M457.18,-103.73C451.74,-94.97 445.99,-85.7 440.52,-76.91\"/>\n<polygon fill=\"black\" stroke=\"black\" points=\"443.43,-74.95 435.18,-68.3 437.48,-78.64 443.43,-74.95\"/>\n</g>\n<!-- 11 -->\n<g id=\"node12\" class=\"node\">\n<title>11</title>\n<path fill=\"#8139e5\" stroke=\"black\" d=\"M594,-68C594,-68 505,-68 505,-68 499,-68 493,-62 493,-56 493,-56 493,-12 493,-12 493,-6 499,0 505,0 505,0 594,0 594,0 600,0 606,-6 606,-12 606,-12 606,-56 606,-56 606,-62 600,-68 594,-68\"/>\n<text text-anchor=\"start\" x=\"509.5\" y=\"-52.8\" font-family=\"Helvetica,sans-Serif\" font-size=\"14.00\">entropy = 0.0</text>\n<text text-anchor=\"start\" x=\"512\" y=\"-37.8\" font-family=\"Helvetica,sans-Serif\" font-size=\"14.00\">samples = 1</text>\n<text text-anchor=\"start\" x=\"502.5\" y=\"-22.8\" font-family=\"Helvetica,sans-Serif\" font-size=\"14.00\">value = [0, 0, 1]</text>\n<text text-anchor=\"start\" x=\"501\" y=\"-7.8\" font-family=\"Helvetica,sans-Serif\" font-size=\"14.00\">class = virginica</text>\n</g>\n<!-- 9&#45;&gt;11 -->\n<g id=\"edge11\" class=\"edge\">\n<title>9&#45;&gt;11</title>\n<path fill=\"none\" stroke=\"black\" d=\"M507.45,-103.73C512.81,-94.97 518.48,-85.7 523.86,-76.91\"/>\n<polygon fill=\"black\" stroke=\"black\" points=\"526.89,-78.66 529.12,-68.3 520.92,-75 526.89,-78.66\"/>\n</g>\n<!-- 13 -->\n<g id=\"node14\" class=\"node\">\n<title>13</title>\n<path fill=\"#c09cf2\" stroke=\"black\" d=\"M711.5,-306C711.5,-306 573.5,-306 573.5,-306 567.5,-306 561.5,-300 561.5,-294 561.5,-294 561.5,-235 561.5,-235 561.5,-229 567.5,-223 573.5,-223 573.5,-223 711.5,-223 711.5,-223 717.5,-223 723.5,-229 723.5,-235 723.5,-235 723.5,-294 723.5,-294 723.5,-300 717.5,-306 711.5,-306\"/>\n<text text-anchor=\"start\" x=\"569.5\" y=\"-290.8\" font-family=\"Helvetica,sans-Serif\" font-size=\"14.00\">sepal length (cm) ≤ 5.95</text>\n<text text-anchor=\"start\" x=\"595\" y=\"-275.8\" font-family=\"Helvetica,sans-Serif\" font-size=\"14.00\">entropy = 0.918</text>\n<text text-anchor=\"start\" x=\"605\" y=\"-260.8\" font-family=\"Helvetica,sans-Serif\" font-size=\"14.00\">samples = 3</text>\n<text text-anchor=\"start\" x=\"595.5\" y=\"-245.8\" font-family=\"Helvetica,sans-Serif\" font-size=\"14.00\">value = [0, 1, 2]</text>\n<text text-anchor=\"start\" x=\"594\" y=\"-230.8\" font-family=\"Helvetica,sans-Serif\" font-size=\"14.00\">class = virginica</text>\n</g>\n<!-- 12&#45;&gt;13 -->\n<g id=\"edge13\" class=\"edge\">\n<title>12&#45;&gt;13</title>\n<path fill=\"none\" stroke=\"black\" d=\"M642.5,-341.91C642.5,-333.65 642.5,-324.86 642.5,-316.3\"/>\n<polygon fill=\"black\" stroke=\"black\" points=\"646,-316.02 642.5,-306.02 639,-316.02 646,-316.02\"/>\n</g>\n<!-- 16 -->\n<g id=\"node17\" class=\"node\">\n<title>16</title>\n<path fill=\"#8139e5\" stroke=\"black\" d=\"M847,-298.5C847,-298.5 754,-298.5 754,-298.5 748,-298.5 742,-292.5 742,-286.5 742,-286.5 742,-242.5 742,-242.5 742,-236.5 748,-230.5 754,-230.5 754,-230.5 847,-230.5 847,-230.5 853,-230.5 859,-236.5 859,-242.5 859,-242.5 859,-286.5 859,-286.5 859,-292.5 853,-298.5 847,-298.5\"/>\n<text text-anchor=\"start\" x=\"760.5\" y=\"-283.3\" font-family=\"Helvetica,sans-Serif\" font-size=\"14.00\">entropy = 0.0</text>\n<text text-anchor=\"start\" x=\"759.5\" y=\"-268.3\" font-family=\"Helvetica,sans-Serif\" font-size=\"14.00\">samples = 43</text>\n<text text-anchor=\"start\" x=\"750\" y=\"-253.3\" font-family=\"Helvetica,sans-Serif\" font-size=\"14.00\">value = [0, 0, 43]</text>\n<text text-anchor=\"start\" x=\"752\" y=\"-238.3\" font-family=\"Helvetica,sans-Serif\" font-size=\"14.00\">class = virginica</text>\n</g>\n<!-- 12&#45;&gt;16 -->\n<g id=\"edge16\" class=\"edge\">\n<title>12&#45;&gt;16</title>\n<path fill=\"none\" stroke=\"black\" d=\"M697.32,-341.91C713.56,-329.88 731.31,-316.73 747.44,-304.79\"/>\n<polygon fill=\"black\" stroke=\"black\" points=\"749.76,-307.43 755.71,-298.67 745.59,-301.81 749.76,-307.43\"/>\n</g>\n<!-- 14 -->\n<g id=\"node15\" class=\"node\">\n<title>14</title>\n<path fill=\"#39e581\" stroke=\"black\" d=\"M691,-179.5C691,-179.5 594,-179.5 594,-179.5 588,-179.5 582,-173.5 582,-167.5 582,-167.5 582,-123.5 582,-123.5 582,-117.5 588,-111.5 594,-111.5 594,-111.5 691,-111.5 691,-111.5 697,-111.5 703,-117.5 703,-123.5 703,-123.5 703,-167.5 703,-167.5 703,-173.5 697,-179.5 691,-179.5\"/>\n<text text-anchor=\"start\" x=\"602.5\" y=\"-164.3\" font-family=\"Helvetica,sans-Serif\" font-size=\"14.00\">entropy = 0.0</text>\n<text text-anchor=\"start\" x=\"605\" y=\"-149.3\" font-family=\"Helvetica,sans-Serif\" font-size=\"14.00\">samples = 1</text>\n<text text-anchor=\"start\" x=\"595.5\" y=\"-134.3\" font-family=\"Helvetica,sans-Serif\" font-size=\"14.00\">value = [0, 1, 0]</text>\n<text text-anchor=\"start\" x=\"590\" y=\"-119.3\" font-family=\"Helvetica,sans-Serif\" font-size=\"14.00\">class = versicolor</text>\n</g>\n<!-- 13&#45;&gt;14 -->\n<g id=\"edge14\" class=\"edge\">\n<title>13&#45;&gt;14</title>\n<path fill=\"none\" stroke=\"black\" d=\"M642.5,-222.91C642.5,-212.2 642.5,-200.62 642.5,-189.78\"/>\n<polygon fill=\"black\" stroke=\"black\" points=\"646,-189.67 642.5,-179.67 639,-189.67 646,-189.67\"/>\n</g>\n<!-- 15 -->\n<g id=\"node16\" class=\"node\">\n<title>15</title>\n<path fill=\"#8139e5\" stroke=\"black\" d=\"M822,-179.5C822,-179.5 733,-179.5 733,-179.5 727,-179.5 721,-173.5 721,-167.5 721,-167.5 721,-123.5 721,-123.5 721,-117.5 727,-111.5 733,-111.5 733,-111.5 822,-111.5 822,-111.5 828,-111.5 834,-117.5 834,-123.5 834,-123.5 834,-167.5 834,-167.5 834,-173.5 828,-179.5 822,-179.5\"/>\n<text text-anchor=\"start\" x=\"737.5\" y=\"-164.3\" font-family=\"Helvetica,sans-Serif\" font-size=\"14.00\">entropy = 0.0</text>\n<text text-anchor=\"start\" x=\"740\" y=\"-149.3\" font-family=\"Helvetica,sans-Serif\" font-size=\"14.00\">samples = 2</text>\n<text text-anchor=\"start\" x=\"730.5\" y=\"-134.3\" font-family=\"Helvetica,sans-Serif\" font-size=\"14.00\">value = [0, 0, 2]</text>\n<text text-anchor=\"start\" x=\"729\" y=\"-119.3\" font-family=\"Helvetica,sans-Serif\" font-size=\"14.00\">class = virginica</text>\n</g>\n<!-- 13&#45;&gt;15 -->\n<g id=\"edge15\" class=\"edge\">\n<title>13&#45;&gt;15</title>\n<path fill=\"none\" stroke=\"black\" d=\"M689.34,-222.91C702.96,-211.1 717.83,-198.22 731.4,-186.45\"/>\n<polygon fill=\"black\" stroke=\"black\" points=\"733.97,-188.86 739.23,-179.67 729.38,-183.57 733.97,-188.86\"/>\n</g>\n</g>\n</svg>\n",
      "text/plain": [
       "<graphviz.sources.Source at 0x12ffca58be0>"
      ]
     },
     "execution_count": 22,
     "metadata": {},
     "output_type": "execute_result"
    }
   ],
   "source": [
    "graph2"
   ]
  },
  {
   "cell_type": "markdown",
   "metadata": {},
   "source": [
    "- 프루닝"
   ]
  },
  {
   "cell_type": "code",
   "execution_count": 23,
   "metadata": {
    "collapsed": true,
    "jupyter": {
     "outputs_hidden": true
    }
   },
   "outputs": [],
   "source": [
    "clf3=tree.DecisionTreeClassifier(criterion=\"entropy\", max_depth=2)"
   ]
  },
  {
   "cell_type": "code",
   "execution_count": 24,
   "metadata": {},
   "outputs": [
    {
     "data": {
      "text/plain": [
       "DecisionTreeClassifier(criterion='entropy', max_depth=2)"
      ]
     },
     "execution_count": 24,
     "metadata": {},
     "output_type": "execute_result"
    }
   ],
   "source": [
    "clf3.fit(iris.data, iris.target)"
   ]
  },
  {
   "cell_type": "code",
   "execution_count": 25,
   "metadata": {},
   "outputs": [
    {
     "data": {
      "image/svg+xml": "<?xml version=\"1.0\" encoding=\"UTF-8\" standalone=\"no\"?>\n<!DOCTYPE svg PUBLIC \"-//W3C//DTD SVG 1.1//EN\"\n \"http://www.w3.org/Graphics/SVG/1.1/DTD/svg11.dtd\">\n<!-- Generated by graphviz version 2.50.0 (0)\n -->\n<!-- Title: Tree Pages: 1 -->\n<svg width=\"347pt\" height=\"314pt\"\n viewBox=\"0.00 0.00 347.00 314.00\" xmlns=\"http://www.w3.org/2000/svg\" xmlns:xlink=\"http://www.w3.org/1999/xlink\">\n<g id=\"graph0\" class=\"graph\" transform=\"scale(1 1) rotate(0) translate(4 310)\">\n<title>Tree</title>\n<polygon fill=\"white\" stroke=\"transparent\" points=\"-4,4 -4,-310 343,-310 343,4 -4,4\"/>\n<!-- 0 -->\n<g id=\"node1\" class=\"node\">\n<title>0</title>\n<path fill=\"#ffffff\" stroke=\"black\" d=\"M203,-306C203,-306 68,-306 68,-306 62,-306 56,-300 56,-294 56,-294 56,-235 56,-235 56,-229 62,-223 68,-223 68,-223 203,-223 203,-223 209,-223 215,-229 215,-235 215,-235 215,-294 215,-294 215,-300 209,-306 203,-306\"/>\n<text text-anchor=\"start\" x=\"64\" y=\"-290.8\" font-family=\"Helvetica,sans-Serif\" font-size=\"14.00\">petal length (cm) ≤ 2.45</text>\n<text text-anchor=\"start\" x=\"88\" y=\"-275.8\" font-family=\"Helvetica,sans-Serif\" font-size=\"14.00\">entropy = 1.585</text>\n<text text-anchor=\"start\" x=\"90.5\" y=\"-260.8\" font-family=\"Helvetica,sans-Serif\" font-size=\"14.00\">samples = 150</text>\n<text text-anchor=\"start\" x=\"77.5\" y=\"-245.8\" font-family=\"Helvetica,sans-Serif\" font-size=\"14.00\">value = [50, 50, 50]</text>\n<text text-anchor=\"start\" x=\"92\" y=\"-230.8\" font-family=\"Helvetica,sans-Serif\" font-size=\"14.00\">class = setosa</text>\n</g>\n<!-- 1 -->\n<g id=\"node2\" class=\"node\">\n<title>1</title>\n<path fill=\"#e58139\" stroke=\"black\" d=\"M105,-179.5C105,-179.5 12,-179.5 12,-179.5 6,-179.5 0,-173.5 0,-167.5 0,-167.5 0,-123.5 0,-123.5 0,-117.5 6,-111.5 12,-111.5 12,-111.5 105,-111.5 105,-111.5 111,-111.5 117,-117.5 117,-123.5 117,-123.5 117,-167.5 117,-167.5 117,-173.5 111,-179.5 105,-179.5\"/>\n<text text-anchor=\"start\" x=\"18.5\" y=\"-164.3\" font-family=\"Helvetica,sans-Serif\" font-size=\"14.00\">entropy = 0.0</text>\n<text text-anchor=\"start\" x=\"17.5\" y=\"-149.3\" font-family=\"Helvetica,sans-Serif\" font-size=\"14.00\">samples = 50</text>\n<text text-anchor=\"start\" x=\"8\" y=\"-134.3\" font-family=\"Helvetica,sans-Serif\" font-size=\"14.00\">value = [50, 0, 0]</text>\n<text text-anchor=\"start\" x=\"15\" y=\"-119.3\" font-family=\"Helvetica,sans-Serif\" font-size=\"14.00\">class = setosa</text>\n</g>\n<!-- 0&#45;&gt;1 -->\n<g id=\"edge1\" class=\"edge\">\n<title>0&#45;&gt;1</title>\n<path fill=\"none\" stroke=\"black\" d=\"M108.79,-222.91C101.38,-211.65 93.33,-199.42 85.88,-188.11\"/>\n<polygon fill=\"black\" stroke=\"black\" points=\"88.75,-186.1 80.33,-179.67 82.9,-189.94 88.75,-186.1\"/>\n<text text-anchor=\"middle\" x=\"75.28\" y=\"-200.45\" font-family=\"Helvetica,sans-Serif\" font-size=\"14.00\">True</text>\n</g>\n<!-- 2 -->\n<g id=\"node3\" class=\"node\">\n<title>2</title>\n<path fill=\"#ffffff\" stroke=\"black\" d=\"M277.5,-187C277.5,-187 147.5,-187 147.5,-187 141.5,-187 135.5,-181 135.5,-175 135.5,-175 135.5,-116 135.5,-116 135.5,-110 141.5,-104 147.5,-104 147.5,-104 277.5,-104 277.5,-104 283.5,-104 289.5,-110 289.5,-116 289.5,-116 289.5,-175 289.5,-175 289.5,-181 283.5,-187 277.5,-187\"/>\n<text text-anchor=\"start\" x=\"143.5\" y=\"-171.8\" font-family=\"Helvetica,sans-Serif\" font-size=\"14.00\">petal width (cm) ≤ 1.75</text>\n<text text-anchor=\"start\" x=\"172.5\" y=\"-156.8\" font-family=\"Helvetica,sans-Serif\" font-size=\"14.00\">entropy = 1.0</text>\n<text text-anchor=\"start\" x=\"167.5\" y=\"-141.8\" font-family=\"Helvetica,sans-Serif\" font-size=\"14.00\">samples = 100</text>\n<text text-anchor=\"start\" x=\"158\" y=\"-126.8\" font-family=\"Helvetica,sans-Serif\" font-size=\"14.00\">value = [0, 50, 50]</text>\n<text text-anchor=\"start\" x=\"160\" y=\"-111.8\" font-family=\"Helvetica,sans-Serif\" font-size=\"14.00\">class = versicolor</text>\n</g>\n<!-- 0&#45;&gt;2 -->\n<g id=\"edge2\" class=\"edge\">\n<title>0&#45;&gt;2</title>\n<path fill=\"none\" stroke=\"black\" d=\"M162.21,-222.91C168.01,-214.1 174.2,-204.7 180.18,-195.61\"/>\n<polygon fill=\"black\" stroke=\"black\" points=\"183.26,-197.3 185.83,-187.02 177.41,-193.45 183.26,-197.3\"/>\n<text text-anchor=\"middle\" x=\"190.88\" y=\"-207.81\" font-family=\"Helvetica,sans-Serif\" font-size=\"14.00\">False</text>\n</g>\n<!-- 3 -->\n<g id=\"node4\" class=\"node\">\n<title>3</title>\n<path fill=\"#4de88e\" stroke=\"black\" d=\"M192,-68C192,-68 95,-68 95,-68 89,-68 83,-62 83,-56 83,-56 83,-12 83,-12 83,-6 89,0 95,0 95,0 192,0 192,0 198,0 204,-6 204,-12 204,-12 204,-56 204,-56 204,-62 198,-68 192,-68\"/>\n<text text-anchor=\"start\" x=\"96\" y=\"-52.8\" font-family=\"Helvetica,sans-Serif\" font-size=\"14.00\">entropy = 0.445</text>\n<text text-anchor=\"start\" x=\"102.5\" y=\"-37.8\" font-family=\"Helvetica,sans-Serif\" font-size=\"14.00\">samples = 54</text>\n<text text-anchor=\"start\" x=\"93\" y=\"-22.8\" font-family=\"Helvetica,sans-Serif\" font-size=\"14.00\">value = [0, 49, 5]</text>\n<text text-anchor=\"start\" x=\"91\" y=\"-7.8\" font-family=\"Helvetica,sans-Serif\" font-size=\"14.00\">class = versicolor</text>\n</g>\n<!-- 2&#45;&gt;3 -->\n<g id=\"edge3\" class=\"edge\">\n<title>2&#45;&gt;3</title>\n<path fill=\"none\" stroke=\"black\" d=\"M186.81,-103.73C181.29,-94.97 175.45,-85.7 169.91,-76.91\"/>\n<polygon fill=\"black\" stroke=\"black\" points=\"172.78,-74.89 164.48,-68.3 166.85,-78.63 172.78,-74.89\"/>\n</g>\n<!-- 4 -->\n<g id=\"node5\" class=\"node\">\n<title>4</title>\n<path fill=\"#843de6\" stroke=\"black\" d=\"M327,-68C327,-68 234,-68 234,-68 228,-68 222,-62 222,-56 222,-56 222,-12 222,-12 222,-6 228,0 234,0 234,0 327,0 327,0 333,0 339,-6 339,-12 339,-12 339,-56 339,-56 339,-62 333,-68 327,-68\"/>\n<text text-anchor=\"start\" x=\"233\" y=\"-52.8\" font-family=\"Helvetica,sans-Serif\" font-size=\"14.00\">entropy = 0.151</text>\n<text text-anchor=\"start\" x=\"239.5\" y=\"-37.8\" font-family=\"Helvetica,sans-Serif\" font-size=\"14.00\">samples = 46</text>\n<text text-anchor=\"start\" x=\"230\" y=\"-22.8\" font-family=\"Helvetica,sans-Serif\" font-size=\"14.00\">value = [0, 1, 45]</text>\n<text text-anchor=\"start\" x=\"232\" y=\"-7.8\" font-family=\"Helvetica,sans-Serif\" font-size=\"14.00\">class = virginica</text>\n</g>\n<!-- 2&#45;&gt;4 -->\n<g id=\"edge4\" class=\"edge\">\n<title>2&#45;&gt;4</title>\n<path fill=\"none\" stroke=\"black\" d=\"M237.82,-103.73C243.26,-94.97 249.01,-85.7 254.48,-76.91\"/>\n<polygon fill=\"black\" stroke=\"black\" points=\"257.52,-78.64 259.82,-68.3 251.57,-74.95 257.52,-78.64\"/>\n</g>\n</g>\n</svg>\n",
      "text/plain": [
       "<graphviz.sources.Source at 0x12ffb888fa0>"
      ]
     },
     "execution_count": 25,
     "metadata": {},
     "output_type": "execute_result"
    }
   ],
   "source": [
    "dot_data3 = tree.export_graphviz(clf3, out_file=None, feature_names=iris.feature_names, class_names=iris.target_names, filled= True, rounded= True, special_characters=True)\n",
    "graph3 = graphviz.Source(dot_data3)\n",
    "graph3"
   ]
  },
  {
   "cell_type": "markdown",
   "metadata": {},
   "source": [
    "- Confusion Matrix 구하기"
   ]
  },
  {
   "cell_type": "code",
   "execution_count": 26,
   "metadata": {},
   "outputs": [
    {
     "data": {
      "text/plain": [
       "array([[50,  0,  0],\n",
       "       [ 0, 50,  0],\n",
       "       [ 0,  0, 50]], dtype=int64)"
      ]
     },
     "execution_count": 26,
     "metadata": {},
     "output_type": "execute_result"
    }
   ],
   "source": [
    "from sklearn.metrics import confusion_matrix\n",
    "confusion_matrix(iris.target,clf.predict(iris.data))"
   ]
  },
  {
   "cell_type": "code",
   "execution_count": 27,
   "metadata": {},
   "outputs": [
    {
     "data": {
      "text/plain": [
       "array([[50,  0,  0],\n",
       "       [ 0, 50,  0],\n",
       "       [ 0,  0, 50]], dtype=int64)"
      ]
     },
     "execution_count": 27,
     "metadata": {},
     "output_type": "execute_result"
    }
   ],
   "source": [
    "confusion_matrix(iris.target,clf2.predict(iris.data))"
   ]
  },
  {
   "cell_type": "code",
   "execution_count": 28,
   "metadata": {},
   "outputs": [
    {
     "data": {
      "text/plain": [
       "array([[50,  0,  0],\n",
       "       [ 0, 49,  1],\n",
       "       [ 0,  5, 45]], dtype=int64)"
      ]
     },
     "execution_count": 28,
     "metadata": {},
     "output_type": "execute_result"
    }
   ],
   "source": [
    "confusion_matrix(iris.target,clf3.predict(iris.data))"
   ]
  },
  {
   "cell_type": "markdown",
   "metadata": {},
   "source": [
    "# 3. Training - Test 구분 및 Confusion matrix 계산"
   ]
  },
  {
   "cell_type": "code",
   "execution_count": 29,
   "metadata": {
    "collapsed": true,
    "jupyter": {
     "outputs_hidden": true
    }
   },
   "outputs": [],
   "source": [
    "from sklearn.model_selection import train_test_split"
   ]
  },
  {
   "cell_type": "code",
   "execution_count": 33,
   "metadata": {
    "collapsed": true,
    "jupyter": {
     "outputs_hidden": true
    }
   },
   "outputs": [],
   "source": [
    "X_train, X_test, y_train, y_test = train_test_split(iris.data, iris.target,random_state=42)"
   ]
  },
  {
   "cell_type": "code",
   "execution_count": 34,
   "metadata": {
    "collapsed": true,
    "jupyter": {
     "outputs_hidden": true
    }
   },
   "outputs": [],
   "source": [
    "clf4 = tree.DecisionTreeClassifier(criterion=\"entropy\")"
   ]
  },
  {
   "cell_type": "code",
   "execution_count": 35,
   "metadata": {},
   "outputs": [
    {
     "data": {
      "text/plain": [
       "DecisionTreeClassifier(criterion='entropy')"
      ]
     },
     "execution_count": 35,
     "metadata": {},
     "output_type": "execute_result"
    }
   ],
   "source": [
    "clf4.fit(X_train, y_train)"
   ]
  },
  {
   "cell_type": "code",
   "execution_count": 41,
   "metadata": {},
   "outputs": [
    {
     "name": "stdout",
     "output_type": "stream",
     "text": [
      "0.9736842105263158\n"
     ]
    },
    {
     "data": {
      "text/plain": [
       "array([[15,  0,  0],\n",
       "       [ 0, 11,  0],\n",
       "       [ 0,  1, 11]], dtype=int64)"
      ]
     },
     "execution_count": 41,
     "metadata": {},
     "output_type": "execute_result"
    }
   ],
   "source": [
    "print(clf4.score(X_test, y_test))\n",
    "confusion_matrix(y_test, clf4.predict(X_test))\n"
   ]
  },
  {
   "cell_type": "markdown",
   "metadata": {},
   "source": [
    "# 4. Decision regression tree"
   ]
  },
  {
   "cell_type": "markdown",
   "metadata": {},
   "source": [
    "- 모듈 불러오기 및 데이터 생성"
   ]
  },
  {
   "cell_type": "code",
   "execution_count": 42,
   "metadata": {
    "collapsed": true,
    "jupyter": {
     "outputs_hidden": true
    }
   },
   "outputs": [],
   "source": [
    "import numpy as np\n",
    "from sklearn.tree import DecisionTreeRegressor\n",
    "import matplotlib.pyplot as plt\n",
    "\n",
    "rng = np.random.RandomState(1)\n",
    "X = np.sort(5 * rng.rand(80, 1), axis=0)\n",
    "y = np.sin(X).ravel()\n",
    "y[::5] += 3 * (0.5 - rng.rand(16))"
   ]
  },
  {
   "cell_type": "markdown",
   "metadata": {},
   "source": [
    "- Regression tree 구축"
   ]
  },
  {
   "cell_type": "code",
   "execution_count": 43,
   "metadata": {
    "collapsed": true,
    "jupyter": {
     "outputs_hidden": true
    }
   },
   "outputs": [],
   "source": [
    "regr1 = tree.DecisionTreeRegressor(max_depth=2)\n",
    "regr2 = tree.DecisionTreeRegressor(max_depth=5)"
   ]
  },
  {
   "cell_type": "code",
   "execution_count": 44,
   "metadata": {},
   "outputs": [
    {
     "data": {
      "text/plain": [
       "DecisionTreeRegressor(max_depth=2)"
      ]
     },
     "execution_count": 44,
     "metadata": {},
     "output_type": "execute_result"
    }
   ],
   "source": [
    "regr1.fit(X,y)"
   ]
  },
  {
   "cell_type": "code",
   "execution_count": 45,
   "metadata": {},
   "outputs": [
    {
     "data": {
      "text/plain": [
       "DecisionTreeRegressor(max_depth=5)"
      ]
     },
     "execution_count": 45,
     "metadata": {},
     "output_type": "execute_result"
    }
   ],
   "source": [
    "regr2.fit(X,y)"
   ]
  },
  {
   "cell_type": "code",
   "execution_count": 47,
   "metadata": {},
   "outputs": [
    {
     "data": {
      "text/plain": [
       "array([[0.  ],\n",
       "       [0.01],\n",
       "       [0.02],\n",
       "       [0.03],\n",
       "       [0.04],\n",
       "       [0.05],\n",
       "       [0.06],\n",
       "       [0.07],\n",
       "       [0.08],\n",
       "       [0.09],\n",
       "       [0.1 ],\n",
       "       [0.11],\n",
       "       [0.12],\n",
       "       [0.13],\n",
       "       [0.14],\n",
       "       [0.15],\n",
       "       [0.16],\n",
       "       [0.17],\n",
       "       [0.18],\n",
       "       [0.19],\n",
       "       [0.2 ],\n",
       "       [0.21],\n",
       "       [0.22],\n",
       "       [0.23],\n",
       "       [0.24],\n",
       "       [0.25],\n",
       "       [0.26],\n",
       "       [0.27],\n",
       "       [0.28],\n",
       "       [0.29],\n",
       "       [0.3 ],\n",
       "       [0.31],\n",
       "       [0.32],\n",
       "       [0.33],\n",
       "       [0.34],\n",
       "       [0.35],\n",
       "       [0.36],\n",
       "       [0.37],\n",
       "       [0.38],\n",
       "       [0.39],\n",
       "       [0.4 ],\n",
       "       [0.41],\n",
       "       [0.42],\n",
       "       [0.43],\n",
       "       [0.44],\n",
       "       [0.45],\n",
       "       [0.46],\n",
       "       [0.47],\n",
       "       [0.48],\n",
       "       [0.49],\n",
       "       [0.5 ],\n",
       "       [0.51],\n",
       "       [0.52],\n",
       "       [0.53],\n",
       "       [0.54],\n",
       "       [0.55],\n",
       "       [0.56],\n",
       "       [0.57],\n",
       "       [0.58],\n",
       "       [0.59],\n",
       "       [0.6 ],\n",
       "       [0.61],\n",
       "       [0.62],\n",
       "       [0.63],\n",
       "       [0.64],\n",
       "       [0.65],\n",
       "       [0.66],\n",
       "       [0.67],\n",
       "       [0.68],\n",
       "       [0.69],\n",
       "       [0.7 ],\n",
       "       [0.71],\n",
       "       [0.72],\n",
       "       [0.73],\n",
       "       [0.74],\n",
       "       [0.75],\n",
       "       [0.76],\n",
       "       [0.77],\n",
       "       [0.78],\n",
       "       [0.79],\n",
       "       [0.8 ],\n",
       "       [0.81],\n",
       "       [0.82],\n",
       "       [0.83],\n",
       "       [0.84],\n",
       "       [0.85],\n",
       "       [0.86],\n",
       "       [0.87],\n",
       "       [0.88],\n",
       "       [0.89],\n",
       "       [0.9 ],\n",
       "       [0.91],\n",
       "       [0.92],\n",
       "       [0.93],\n",
       "       [0.94],\n",
       "       [0.95],\n",
       "       [0.96],\n",
       "       [0.97],\n",
       "       [0.98],\n",
       "       [0.99],\n",
       "       [1.  ],\n",
       "       [1.01],\n",
       "       [1.02],\n",
       "       [1.03],\n",
       "       [1.04],\n",
       "       [1.05],\n",
       "       [1.06],\n",
       "       [1.07],\n",
       "       [1.08],\n",
       "       [1.09],\n",
       "       [1.1 ],\n",
       "       [1.11],\n",
       "       [1.12],\n",
       "       [1.13],\n",
       "       [1.14],\n",
       "       [1.15],\n",
       "       [1.16],\n",
       "       [1.17],\n",
       "       [1.18],\n",
       "       [1.19],\n",
       "       [1.2 ],\n",
       "       [1.21],\n",
       "       [1.22],\n",
       "       [1.23],\n",
       "       [1.24],\n",
       "       [1.25],\n",
       "       [1.26],\n",
       "       [1.27],\n",
       "       [1.28],\n",
       "       [1.29],\n",
       "       [1.3 ],\n",
       "       [1.31],\n",
       "       [1.32],\n",
       "       [1.33],\n",
       "       [1.34],\n",
       "       [1.35],\n",
       "       [1.36],\n",
       "       [1.37],\n",
       "       [1.38],\n",
       "       [1.39],\n",
       "       [1.4 ],\n",
       "       [1.41],\n",
       "       [1.42],\n",
       "       [1.43],\n",
       "       [1.44],\n",
       "       [1.45],\n",
       "       [1.46],\n",
       "       [1.47],\n",
       "       [1.48],\n",
       "       [1.49],\n",
       "       [1.5 ],\n",
       "       [1.51],\n",
       "       [1.52],\n",
       "       [1.53],\n",
       "       [1.54],\n",
       "       [1.55],\n",
       "       [1.56],\n",
       "       [1.57],\n",
       "       [1.58],\n",
       "       [1.59],\n",
       "       [1.6 ],\n",
       "       [1.61],\n",
       "       [1.62],\n",
       "       [1.63],\n",
       "       [1.64],\n",
       "       [1.65],\n",
       "       [1.66],\n",
       "       [1.67],\n",
       "       [1.68],\n",
       "       [1.69],\n",
       "       [1.7 ],\n",
       "       [1.71],\n",
       "       [1.72],\n",
       "       [1.73],\n",
       "       [1.74],\n",
       "       [1.75],\n",
       "       [1.76],\n",
       "       [1.77],\n",
       "       [1.78],\n",
       "       [1.79],\n",
       "       [1.8 ],\n",
       "       [1.81],\n",
       "       [1.82],\n",
       "       [1.83],\n",
       "       [1.84],\n",
       "       [1.85],\n",
       "       [1.86],\n",
       "       [1.87],\n",
       "       [1.88],\n",
       "       [1.89],\n",
       "       [1.9 ],\n",
       "       [1.91],\n",
       "       [1.92],\n",
       "       [1.93],\n",
       "       [1.94],\n",
       "       [1.95],\n",
       "       [1.96],\n",
       "       [1.97],\n",
       "       [1.98],\n",
       "       [1.99],\n",
       "       [2.  ],\n",
       "       [2.01],\n",
       "       [2.02],\n",
       "       [2.03],\n",
       "       [2.04],\n",
       "       [2.05],\n",
       "       [2.06],\n",
       "       [2.07],\n",
       "       [2.08],\n",
       "       [2.09],\n",
       "       [2.1 ],\n",
       "       [2.11],\n",
       "       [2.12],\n",
       "       [2.13],\n",
       "       [2.14],\n",
       "       [2.15],\n",
       "       [2.16],\n",
       "       [2.17],\n",
       "       [2.18],\n",
       "       [2.19],\n",
       "       [2.2 ],\n",
       "       [2.21],\n",
       "       [2.22],\n",
       "       [2.23],\n",
       "       [2.24],\n",
       "       [2.25],\n",
       "       [2.26],\n",
       "       [2.27],\n",
       "       [2.28],\n",
       "       [2.29],\n",
       "       [2.3 ],\n",
       "       [2.31],\n",
       "       [2.32],\n",
       "       [2.33],\n",
       "       [2.34],\n",
       "       [2.35],\n",
       "       [2.36],\n",
       "       [2.37],\n",
       "       [2.38],\n",
       "       [2.39],\n",
       "       [2.4 ],\n",
       "       [2.41],\n",
       "       [2.42],\n",
       "       [2.43],\n",
       "       [2.44],\n",
       "       [2.45],\n",
       "       [2.46],\n",
       "       [2.47],\n",
       "       [2.48],\n",
       "       [2.49],\n",
       "       [2.5 ],\n",
       "       [2.51],\n",
       "       [2.52],\n",
       "       [2.53],\n",
       "       [2.54],\n",
       "       [2.55],\n",
       "       [2.56],\n",
       "       [2.57],\n",
       "       [2.58],\n",
       "       [2.59],\n",
       "       [2.6 ],\n",
       "       [2.61],\n",
       "       [2.62],\n",
       "       [2.63],\n",
       "       [2.64],\n",
       "       [2.65],\n",
       "       [2.66],\n",
       "       [2.67],\n",
       "       [2.68],\n",
       "       [2.69],\n",
       "       [2.7 ],\n",
       "       [2.71],\n",
       "       [2.72],\n",
       "       [2.73],\n",
       "       [2.74],\n",
       "       [2.75],\n",
       "       [2.76],\n",
       "       [2.77],\n",
       "       [2.78],\n",
       "       [2.79],\n",
       "       [2.8 ],\n",
       "       [2.81],\n",
       "       [2.82],\n",
       "       [2.83],\n",
       "       [2.84],\n",
       "       [2.85],\n",
       "       [2.86],\n",
       "       [2.87],\n",
       "       [2.88],\n",
       "       [2.89],\n",
       "       [2.9 ],\n",
       "       [2.91],\n",
       "       [2.92],\n",
       "       [2.93],\n",
       "       [2.94],\n",
       "       [2.95],\n",
       "       [2.96],\n",
       "       [2.97],\n",
       "       [2.98],\n",
       "       [2.99],\n",
       "       [3.  ],\n",
       "       [3.01],\n",
       "       [3.02],\n",
       "       [3.03],\n",
       "       [3.04],\n",
       "       [3.05],\n",
       "       [3.06],\n",
       "       [3.07],\n",
       "       [3.08],\n",
       "       [3.09],\n",
       "       [3.1 ],\n",
       "       [3.11],\n",
       "       [3.12],\n",
       "       [3.13],\n",
       "       [3.14],\n",
       "       [3.15],\n",
       "       [3.16],\n",
       "       [3.17],\n",
       "       [3.18],\n",
       "       [3.19],\n",
       "       [3.2 ],\n",
       "       [3.21],\n",
       "       [3.22],\n",
       "       [3.23],\n",
       "       [3.24],\n",
       "       [3.25],\n",
       "       [3.26],\n",
       "       [3.27],\n",
       "       [3.28],\n",
       "       [3.29],\n",
       "       [3.3 ],\n",
       "       [3.31],\n",
       "       [3.32],\n",
       "       [3.33],\n",
       "       [3.34],\n",
       "       [3.35],\n",
       "       [3.36],\n",
       "       [3.37],\n",
       "       [3.38],\n",
       "       [3.39],\n",
       "       [3.4 ],\n",
       "       [3.41],\n",
       "       [3.42],\n",
       "       [3.43],\n",
       "       [3.44],\n",
       "       [3.45],\n",
       "       [3.46],\n",
       "       [3.47],\n",
       "       [3.48],\n",
       "       [3.49],\n",
       "       [3.5 ],\n",
       "       [3.51],\n",
       "       [3.52],\n",
       "       [3.53],\n",
       "       [3.54],\n",
       "       [3.55],\n",
       "       [3.56],\n",
       "       [3.57],\n",
       "       [3.58],\n",
       "       [3.59],\n",
       "       [3.6 ],\n",
       "       [3.61],\n",
       "       [3.62],\n",
       "       [3.63],\n",
       "       [3.64],\n",
       "       [3.65],\n",
       "       [3.66],\n",
       "       [3.67],\n",
       "       [3.68],\n",
       "       [3.69],\n",
       "       [3.7 ],\n",
       "       [3.71],\n",
       "       [3.72],\n",
       "       [3.73],\n",
       "       [3.74],\n",
       "       [3.75],\n",
       "       [3.76],\n",
       "       [3.77],\n",
       "       [3.78],\n",
       "       [3.79],\n",
       "       [3.8 ],\n",
       "       [3.81],\n",
       "       [3.82],\n",
       "       [3.83],\n",
       "       [3.84],\n",
       "       [3.85],\n",
       "       [3.86],\n",
       "       [3.87],\n",
       "       [3.88],\n",
       "       [3.89],\n",
       "       [3.9 ],\n",
       "       [3.91],\n",
       "       [3.92],\n",
       "       [3.93],\n",
       "       [3.94],\n",
       "       [3.95],\n",
       "       [3.96],\n",
       "       [3.97],\n",
       "       [3.98],\n",
       "       [3.99],\n",
       "       [4.  ],\n",
       "       [4.01],\n",
       "       [4.02],\n",
       "       [4.03],\n",
       "       [4.04],\n",
       "       [4.05],\n",
       "       [4.06],\n",
       "       [4.07],\n",
       "       [4.08],\n",
       "       [4.09],\n",
       "       [4.1 ],\n",
       "       [4.11],\n",
       "       [4.12],\n",
       "       [4.13],\n",
       "       [4.14],\n",
       "       [4.15],\n",
       "       [4.16],\n",
       "       [4.17],\n",
       "       [4.18],\n",
       "       [4.19],\n",
       "       [4.2 ],\n",
       "       [4.21],\n",
       "       [4.22],\n",
       "       [4.23],\n",
       "       [4.24],\n",
       "       [4.25],\n",
       "       [4.26],\n",
       "       [4.27],\n",
       "       [4.28],\n",
       "       [4.29],\n",
       "       [4.3 ],\n",
       "       [4.31],\n",
       "       [4.32],\n",
       "       [4.33],\n",
       "       [4.34],\n",
       "       [4.35],\n",
       "       [4.36],\n",
       "       [4.37],\n",
       "       [4.38],\n",
       "       [4.39],\n",
       "       [4.4 ],\n",
       "       [4.41],\n",
       "       [4.42],\n",
       "       [4.43],\n",
       "       [4.44],\n",
       "       [4.45],\n",
       "       [4.46],\n",
       "       [4.47],\n",
       "       [4.48],\n",
       "       [4.49],\n",
       "       [4.5 ],\n",
       "       [4.51],\n",
       "       [4.52],\n",
       "       [4.53],\n",
       "       [4.54],\n",
       "       [4.55],\n",
       "       [4.56],\n",
       "       [4.57],\n",
       "       [4.58],\n",
       "       [4.59],\n",
       "       [4.6 ],\n",
       "       [4.61],\n",
       "       [4.62],\n",
       "       [4.63],\n",
       "       [4.64],\n",
       "       [4.65],\n",
       "       [4.66],\n",
       "       [4.67],\n",
       "       [4.68],\n",
       "       [4.69],\n",
       "       [4.7 ],\n",
       "       [4.71],\n",
       "       [4.72],\n",
       "       [4.73],\n",
       "       [4.74],\n",
       "       [4.75],\n",
       "       [4.76],\n",
       "       [4.77],\n",
       "       [4.78],\n",
       "       [4.79],\n",
       "       [4.8 ],\n",
       "       [4.81],\n",
       "       [4.82],\n",
       "       [4.83],\n",
       "       [4.84],\n",
       "       [4.85],\n",
       "       [4.86],\n",
       "       [4.87],\n",
       "       [4.88],\n",
       "       [4.89],\n",
       "       [4.9 ],\n",
       "       [4.91],\n",
       "       [4.92],\n",
       "       [4.93],\n",
       "       [4.94],\n",
       "       [4.95],\n",
       "       [4.96],\n",
       "       [4.97],\n",
       "       [4.98],\n",
       "       [4.99]])"
      ]
     },
     "execution_count": 47,
     "metadata": {},
     "output_type": "execute_result"
    }
   ],
   "source": [
    "X_test=np.arange(0.0,5.0,0.01)[:, np.newaxis]\n",
    "X_test"
   ]
  },
  {
   "cell_type": "code",
   "execution_count": 48,
   "metadata": {
    "collapsed": true,
    "jupyter": {
     "outputs_hidden": true
    }
   },
   "outputs": [],
   "source": [
    "y_1=regr1.predict(X_test)\n",
    "y_2=regr2.predict(X_test)"
   ]
  },
  {
   "cell_type": "code",
   "execution_count": 49,
   "metadata": {},
   "outputs": [
    {
     "data": {
      "text/plain": [
       "array([ 0.05236068,  0.05236068,  0.05236068,  0.05236068,  0.05236068,\n",
       "        0.05236068,  0.05236068,  0.05236068,  0.05236068,  0.05236068,\n",
       "        0.05236068,  0.05236068,  0.05236068,  0.05236068,  0.05236068,\n",
       "        0.05236068,  0.05236068,  0.05236068,  0.05236068,  0.05236068,\n",
       "        0.05236068,  0.05236068,  0.05236068,  0.05236068,  0.05236068,\n",
       "        0.05236068,  0.05236068,  0.05236068,  0.05236068,  0.05236068,\n",
       "        0.05236068,  0.05236068,  0.05236068,  0.05236068,  0.05236068,\n",
       "        0.05236068,  0.05236068,  0.05236068,  0.05236068,  0.05236068,\n",
       "        0.05236068,  0.05236068,  0.05236068,  0.05236068,  0.05236068,\n",
       "        0.05236068,  0.05236068,  0.05236068,  0.05236068,  0.05236068,\n",
       "        0.05236068,  0.05236068,  0.71382568,  0.71382568,  0.71382568,\n",
       "        0.71382568,  0.71382568,  0.71382568,  0.71382568,  0.71382568,\n",
       "        0.71382568,  0.71382568,  0.71382568,  0.71382568,  0.71382568,\n",
       "        0.71382568,  0.71382568,  0.71382568,  0.71382568,  0.71382568,\n",
       "        0.71382568,  0.71382568,  0.71382568,  0.71382568,  0.71382568,\n",
       "        0.71382568,  0.71382568,  0.71382568,  0.71382568,  0.71382568,\n",
       "        0.71382568,  0.71382568,  0.71382568,  0.71382568,  0.71382568,\n",
       "        0.71382568,  0.71382568,  0.71382568,  0.71382568,  0.71382568,\n",
       "        0.71382568,  0.71382568,  0.71382568,  0.71382568,  0.71382568,\n",
       "        0.71382568,  0.71382568,  0.71382568,  0.71382568,  0.71382568,\n",
       "        0.71382568,  0.71382568,  0.71382568,  0.71382568,  0.71382568,\n",
       "        0.71382568,  0.71382568,  0.71382568,  0.71382568,  0.71382568,\n",
       "        0.71382568,  0.71382568,  0.71382568,  0.71382568,  0.71382568,\n",
       "        0.71382568,  0.71382568,  0.71382568,  0.71382568,  0.71382568,\n",
       "        0.71382568,  0.71382568,  0.71382568,  0.71382568,  0.71382568,\n",
       "        0.71382568,  0.71382568,  0.71382568,  0.71382568,  0.71382568,\n",
       "        0.71382568,  0.71382568,  0.71382568,  0.71382568,  0.71382568,\n",
       "        0.71382568,  0.71382568,  0.71382568,  0.71382568,  0.71382568,\n",
       "        0.71382568,  0.71382568,  0.71382568,  0.71382568,  0.71382568,\n",
       "        0.71382568,  0.71382568,  0.71382568,  0.71382568,  0.71382568,\n",
       "        0.71382568,  0.71382568,  0.71382568,  0.71382568,  0.71382568,\n",
       "        0.71382568,  0.71382568,  0.71382568,  0.71382568,  0.71382568,\n",
       "        0.71382568,  0.71382568,  0.71382568,  0.71382568,  0.71382568,\n",
       "        0.71382568,  0.71382568,  0.71382568,  0.71382568,  0.71382568,\n",
       "        0.71382568,  0.71382568,  0.71382568,  0.71382568,  0.71382568,\n",
       "        0.71382568,  0.71382568,  0.71382568,  0.71382568,  0.71382568,\n",
       "        0.71382568,  0.71382568,  0.71382568,  0.71382568,  0.71382568,\n",
       "        0.71382568,  0.71382568,  0.71382568,  0.71382568,  0.71382568,\n",
       "        0.71382568,  0.71382568,  0.71382568,  0.71382568,  0.71382568,\n",
       "        0.71382568,  0.71382568,  0.71382568,  0.71382568,  0.71382568,\n",
       "        0.71382568,  0.71382568,  0.71382568,  0.71382568,  0.71382568,\n",
       "        0.71382568,  0.71382568,  0.71382568,  0.71382568,  0.71382568,\n",
       "        0.71382568,  0.71382568,  0.71382568,  0.71382568,  0.71382568,\n",
       "        0.71382568,  0.71382568,  0.71382568,  0.71382568,  0.71382568,\n",
       "        0.71382568,  0.71382568,  0.71382568,  0.71382568,  0.71382568,\n",
       "        0.71382568,  0.71382568,  0.71382568,  0.71382568,  0.71382568,\n",
       "        0.71382568,  0.71382568,  0.71382568,  0.71382568,  0.71382568,\n",
       "        0.71382568,  0.71382568,  0.71382568,  0.71382568,  0.71382568,\n",
       "        0.71382568,  0.71382568,  0.71382568,  0.71382568,  0.71382568,\n",
       "        0.71382568,  0.71382568,  0.71382568,  0.71382568,  0.71382568,\n",
       "        0.71382568,  0.71382568,  0.71382568,  0.71382568,  0.71382568,\n",
       "        0.71382568,  0.71382568,  0.71382568,  0.71382568,  0.71382568,\n",
       "        0.71382568,  0.71382568,  0.71382568,  0.71382568,  0.71382568,\n",
       "        0.71382568,  0.71382568,  0.71382568,  0.71382568,  0.71382568,\n",
       "        0.71382568,  0.71382568,  0.71382568,  0.71382568,  0.71382568,\n",
       "        0.71382568,  0.71382568,  0.71382568,  0.71382568,  0.71382568,\n",
       "        0.71382568,  0.71382568,  0.71382568,  0.71382568,  0.71382568,\n",
       "        0.71382568,  0.71382568,  0.71382568,  0.71382568,  0.71382568,\n",
       "        0.71382568,  0.71382568,  0.71382568,  0.71382568,  0.71382568,\n",
       "        0.71382568,  0.71382568,  0.71382568,  0.71382568,  0.71382568,\n",
       "        0.71382568,  0.71382568,  0.71382568,  0.71382568,  0.71382568,\n",
       "        0.71382568,  0.71382568,  0.71382568,  0.71382568,  0.71382568,\n",
       "        0.71382568,  0.71382568,  0.71382568,  0.71382568, -0.45190264,\n",
       "       -0.45190264, -0.45190264, -0.45190264, -0.45190264, -0.45190264,\n",
       "       -0.45190264, -0.45190264, -0.45190264, -0.45190264, -0.45190264,\n",
       "       -0.45190264, -0.45190264, -0.45190264, -0.45190264, -0.45190264,\n",
       "       -0.45190264, -0.45190264, -0.45190264, -0.45190264, -0.45190264,\n",
       "       -0.45190264, -0.45190264, -0.45190264, -0.45190264, -0.45190264,\n",
       "       -0.45190264, -0.45190264, -0.45190264, -0.45190264, -0.45190264,\n",
       "       -0.45190264, -0.45190264, -0.45190264, -0.45190264, -0.45190264,\n",
       "       -0.45190264, -0.45190264, -0.45190264, -0.45190264, -0.45190264,\n",
       "       -0.45190264, -0.45190264, -0.45190264, -0.45190264, -0.45190264,\n",
       "       -0.45190264, -0.45190264, -0.45190264, -0.45190264, -0.45190264,\n",
       "       -0.45190264, -0.45190264, -0.45190264, -0.45190264, -0.45190264,\n",
       "       -0.45190264, -0.45190264, -0.45190264, -0.45190264, -0.45190264,\n",
       "       -0.45190264, -0.45190264, -0.45190264, -0.45190264, -0.45190264,\n",
       "       -0.45190264, -0.45190264, -0.45190264, -0.45190264, -0.45190264,\n",
       "       -0.45190264, -0.86864256, -0.86864256, -0.86864256, -0.86864256,\n",
       "       -0.86864256, -0.86864256, -0.86864256, -0.86864256, -0.86864256,\n",
       "       -0.86864256, -0.86864256, -0.86864256, -0.86864256, -0.86864256,\n",
       "       -0.86864256, -0.86864256, -0.86864256, -0.86864256, -0.86864256,\n",
       "       -0.86864256, -0.86864256, -0.86864256, -0.86864256, -0.86864256,\n",
       "       -0.86864256, -0.86864256, -0.86864256, -0.86864256, -0.86864256,\n",
       "       -0.86864256, -0.86864256, -0.86864256, -0.86864256, -0.86864256,\n",
       "       -0.86864256, -0.86864256, -0.86864256, -0.86864256, -0.86864256,\n",
       "       -0.86864256, -0.86864256, -0.86864256, -0.86864256, -0.86864256,\n",
       "       -0.86864256, -0.86864256, -0.86864256, -0.86864256, -0.86864256,\n",
       "       -0.86864256, -0.86864256, -0.86864256, -0.86864256, -0.86864256,\n",
       "       -0.86864256, -0.86864256, -0.86864256, -0.86864256, -0.86864256,\n",
       "       -0.86864256, -0.86864256, -0.86864256, -0.86864256, -0.86864256,\n",
       "       -0.86864256, -0.86864256, -0.86864256, -0.86864256, -0.86864256,\n",
       "       -0.86864256, -0.86864256, -0.86864256, -0.86864256, -0.86864256,\n",
       "       -0.86864256, -0.86864256, -0.86864256, -0.86864256, -0.86864256,\n",
       "       -0.86864256, -0.86864256, -0.86864256, -0.86864256, -0.86864256,\n",
       "       -0.86864256, -0.86864256, -0.86864256, -0.86864256, -0.86864256,\n",
       "       -0.86864256, -0.86864256, -0.86864256, -0.86864256, -0.86864256,\n",
       "       -0.86864256, -0.86864256, -0.86864256, -0.86864256, -0.86864256,\n",
       "       -0.86864256, -0.86864256, -0.86864256, -0.86864256, -0.86864256,\n",
       "       -0.86864256, -0.86864256, -0.86864256, -0.86864256, -0.86864256,\n",
       "       -0.86864256, -0.86864256, -0.86864256, -0.86864256, -0.86864256])"
      ]
     },
     "execution_count": 49,
     "metadata": {},
     "output_type": "execute_result"
    }
   ],
   "source": [
    "y_1"
   ]
  },
  {
   "cell_type": "code",
   "execution_count": 56,
   "metadata": {},
   "outputs": [
    {
     "data": {
      "image/png": "[encoded data removed]",
      "text/plain": [
       "<Figure size 432x288 with 1 Axes>"
      ]
     },
     "metadata": {
      "needs_background": "light"
     },
     "output_type": "display_data"
    }
   ],
   "source": [
    "plt.figure()\n",
    "plt.scatter(X, y, s=20, edgecolor=\"black\",\n",
    "            c=\"darkorange\", label=\"data\")\n",
    "plt.plot(X_test, y_1, color=\"cornflowerblue\",\n",
    "         label=\"max_depth=2\", linewidth=2)\n",
    "plt.plot(X_test, y_2, color=\"yellowgreen\", label=\"max_depth=5\", linewidth=2)\n",
    "plt.xlabel(\"data\")\n",
    "plt.ylabel(\"target\")\n",
    "plt.title(\"Decision Tree Regression\")\n",
    "plt.legend()\n",
    "plt.show()"
   ]
  },
  {
   "cell_type": "code",
   "execution_count": 57,
   "metadata": {
    "collapsed": true,
    "jupyter": {
     "outputs_hidden": true
    }
   },
   "outputs": [],
   "source": [
    "dot_data4 = tree.export_graphviz(regr2, out_file=None, \n",
    "                                filled=True, rounded=True,  \n",
    "                                special_characters=True)"
   ]
  },
  {
   "cell_type": "code",
   "execution_count": 58,
   "metadata": {},
   "outputs": [
    {
     "data": {
      "image/svg+xml": "<?xml version=\"1.0\" encoding=\"UTF-8\" standalone=\"no\"?>\n<!DOCTYPE svg PUBLIC \"-//W3C//DTD SVG 1.1//EN\"\n \"http://www.w3.org/Graphics/SVG/1.1/DTD/svg11.dtd\">\n<!-- Generated by graphviz version 2.50.0 (0)\n -->\n<!-- Title: Tree Pages: 1 -->\n<svg width=\"2878pt\" height=\"561pt\"\n viewBox=\"0.00 0.00 2877.50 561.00\" xmlns=\"http://www.w3.org/2000/svg\" xmlns:xlink=\"http://www.w3.org/1999/xlink\">\n<g id=\"graph0\" class=\"graph\" transform=\"scale(1 1) rotate(0) translate(4 557)\">\n<title>Tree</title>\n<polygon fill=\"white\" stroke=\"transparent\" points=\"-4,4 -4,-557 2873.5,-557 2873.5,4 -4,4\"/>\n<!-- 0 -->\n<g id=\"node1\" class=\"node\">\n<title>0</title>\n<path fill=\"#f0b58a\" stroke=\"black\" d=\"M1358,-553C1358,-553 1231,-553 1231,-553 1225,-553 1219,-547 1219,-541 1219,-541 1219,-501 1219,-501 1219,-495 1225,-489 1231,-489 1231,-489 1358,-489 1358,-489 1364,-489 1370,-495 1370,-501 1370,-501 1370,-541 1370,-541 1370,-547 1364,-553 1358,-553\"/>\n<text text-anchor=\"start\" x=\"1261.5\" y=\"-538.8\" font-family=\"Helvetica,sans-Serif\" font-size=\"14.00\">X</text>\n<text text-anchor=\"start\" x=\"1271.5\" y=\"-538.8\" font-family=\"Helvetica,sans-Serif\" baseline-shift=\"sub\" font-size=\"14.00\">0</text>\n<text text-anchor=\"start\" x=\"1278.5\" y=\"-538.8\" font-family=\"Helvetica,sans-Serif\" font-size=\"14.00\"> ≤ 3.133</text>\n<text text-anchor=\"start\" x=\"1227\" y=\"-524.8\" font-family=\"Helvetica,sans-Serif\" font-size=\"14.00\">squared_error = 0.547</text>\n<text text-anchor=\"start\" x=\"1253.5\" y=\"-510.8\" font-family=\"Helvetica,sans-Serif\" font-size=\"14.00\">samples = 80</text>\n<text text-anchor=\"start\" x=\"1253.5\" y=\"-496.8\" font-family=\"Helvetica,sans-Serif\" font-size=\"14.00\">value = 0.122</text>\n</g>\n<!-- 1 -->\n<g id=\"node2\" class=\"node\">\n<title>1</title>\n<path fill=\"#eca26d\" stroke=\"black\" d=\"M888,-453C888,-453 761,-453 761,-453 755,-453 749,-447 749,-441 749,-441 749,-401 749,-401 749,-395 755,-389 761,-389 761,-389 888,-389 888,-389 894,-389 900,-395 900,-401 900,-401 900,-441 900,-441 900,-447 894,-453 888,-453\"/>\n<text text-anchor=\"start\" x=\"791.5\" y=\"-438.8\" font-family=\"Helvetica,sans-Serif\" font-size=\"14.00\">X</text>\n<text text-anchor=\"start\" x=\"801.5\" y=\"-438.8\" font-family=\"Helvetica,sans-Serif\" baseline-shift=\"sub\" font-size=\"14.00\">0</text>\n<text text-anchor=\"start\" x=\"808.5\" y=\"-438.8\" font-family=\"Helvetica,sans-Serif\" font-size=\"14.00\"> ≤ 0.514</text>\n<text text-anchor=\"start\" x=\"757\" y=\"-424.8\" font-family=\"Helvetica,sans-Serif\" font-size=\"14.00\">squared_error = 0.231</text>\n<text text-anchor=\"start\" x=\"783.5\" y=\"-410.8\" font-family=\"Helvetica,sans-Serif\" font-size=\"14.00\">samples = 51</text>\n<text text-anchor=\"start\" x=\"783.5\" y=\"-396.8\" font-family=\"Helvetica,sans-Serif\" font-size=\"14.00\">value = 0.571</text>\n</g>\n<!-- 0&#45;&gt;1 -->\n<g id=\"edge1\" class=\"edge\">\n<title>0&#45;&gt;1</title>\n<path fill=\"none\" stroke=\"black\" d=\"M1218.99,-504.25C1134.66,-486.67 998.45,-458.27 910.2,-439.87\"/>\n<polygon fill=\"black\" stroke=\"black\" points=\"910.72,-436.4 900.22,-437.79 909.29,-443.26 910.72,-436.4\"/>\n<text text-anchor=\"middle\" x=\"913.91\" y=\"-455\" font-family=\"Helvetica,sans-Serif\" font-size=\"14.00\">True</text>\n</g>\n<!-- 22 -->\n<g id=\"node23\" class=\"node\">\n<title>22</title>\n<path fill=\"#f7d6bf\" stroke=\"black\" d=\"M1826,-453C1826,-453 1699,-453 1699,-453 1693,-453 1687,-447 1687,-441 1687,-441 1687,-401 1687,-401 1687,-395 1693,-389 1699,-389 1699,-389 1826,-389 1826,-389 1832,-389 1838,-395 1838,-401 1838,-401 1838,-441 1838,-441 1838,-447 1832,-453 1826,-453\"/>\n<text text-anchor=\"start\" x=\"1733\" y=\"-438.8\" font-family=\"Helvetica,sans-Serif\" font-size=\"14.00\">X</text>\n<text text-anchor=\"start\" x=\"1743\" y=\"-438.8\" font-family=\"Helvetica,sans-Serif\" baseline-shift=\"sub\" font-size=\"14.00\">0</text>\n<text text-anchor=\"start\" x=\"1750\" y=\"-438.8\" font-family=\"Helvetica,sans-Serif\" font-size=\"14.00\"> ≤ 3.85</text>\n<text text-anchor=\"start\" x=\"1695\" y=\"-424.8\" font-family=\"Helvetica,sans-Serif\" font-size=\"14.00\">squared_error = 0.124</text>\n<text text-anchor=\"start\" x=\"1721.5\" y=\"-410.8\" font-family=\"Helvetica,sans-Serif\" font-size=\"14.00\">samples = 29</text>\n<text text-anchor=\"start\" x=\"1719\" y=\"-396.8\" font-family=\"Helvetica,sans-Serif\" font-size=\"14.00\">value = &#45;0.667</text>\n</g>\n<!-- 0&#45;&gt;22 -->\n<g id=\"edge22\" class=\"edge\">\n<title>0&#45;&gt;22</title>\n<path fill=\"none\" stroke=\"black\" d=\"M1370.21,-504.15C1454.16,-486.57 1589.27,-458.27 1676.97,-439.91\"/>\n<polygon fill=\"black\" stroke=\"black\" points=\"1677.83,-443.31 1686.9,-437.83 1676.39,-436.46 1677.83,-443.31\"/>\n<text text-anchor=\"middle\" x=\"1673.22\" y=\"-455.06\" font-family=\"Helvetica,sans-Serif\" font-size=\"14.00\">False</text>\n</g>\n<!-- 2 -->\n<g id=\"node3\" class=\"node\">\n<title>2</title>\n<path fill=\"#f0b88f\" stroke=\"black\" d=\"M473,-353C473,-353 346,-353 346,-353 340,-353 334,-347 334,-341 334,-341 334,-301 334,-301 334,-295 340,-289 346,-289 346,-289 473,-289 473,-289 479,-289 485,-295 485,-301 485,-301 485,-341 485,-341 485,-347 479,-353 473,-353\"/>\n<text text-anchor=\"start\" x=\"376.5\" y=\"-338.8\" font-family=\"Helvetica,sans-Serif\" font-size=\"14.00\">X</text>\n<text text-anchor=\"start\" x=\"386.5\" y=\"-338.8\" font-family=\"Helvetica,sans-Serif\" baseline-shift=\"sub\" font-size=\"14.00\">0</text>\n<text text-anchor=\"start\" x=\"393.5\" y=\"-338.8\" font-family=\"Helvetica,sans-Serif\" font-size=\"14.00\"> ≤ 0.046</text>\n<text text-anchor=\"start\" x=\"342\" y=\"-324.8\" font-family=\"Helvetica,sans-Serif\" font-size=\"14.00\">squared_error = 0.192</text>\n<text text-anchor=\"start\" x=\"368.5\" y=\"-310.8\" font-family=\"Helvetica,sans-Serif\" font-size=\"14.00\">samples = 11</text>\n<text text-anchor=\"start\" x=\"368.5\" y=\"-296.8\" font-family=\"Helvetica,sans-Serif\" font-size=\"14.00\">value = 0.052</text>\n</g>\n<!-- 1&#45;&gt;2 -->\n<g id=\"edge2\" class=\"edge\">\n<title>1&#45;&gt;2</title>\n<path fill=\"none\" stroke=\"black\" d=\"M748.87,-402.14C677.27,-385.23 569.9,-359.88 495.18,-342.23\"/>\n<polygon fill=\"black\" stroke=\"black\" points=\"495.85,-338.8 485.32,-339.9 494.24,-345.61 495.85,-338.8\"/>\n</g>\n<!-- 9 -->\n<g id=\"node10\" class=\"node\">\n<title>9</title>\n<path fill=\"#eb9c63\" stroke=\"black\" d=\"M888,-353C888,-353 761,-353 761,-353 755,-353 749,-347 749,-341 749,-341 749,-301 749,-301 749,-295 755,-289 761,-289 761,-289 888,-289 888,-289 894,-289 900,-295 900,-301 900,-301 900,-341 900,-341 900,-347 894,-353 888,-353\"/>\n<text text-anchor=\"start\" x=\"791.5\" y=\"-338.8\" font-family=\"Helvetica,sans-Serif\" font-size=\"14.00\">X</text>\n<text text-anchor=\"start\" x=\"801.5\" y=\"-338.8\" font-family=\"Helvetica,sans-Serif\" baseline-shift=\"sub\" font-size=\"14.00\">0</text>\n<text text-anchor=\"start\" x=\"808.5\" y=\"-338.8\" font-family=\"Helvetica,sans-Serif\" font-size=\"14.00\"> ≤ 2.029</text>\n<text text-anchor=\"start\" x=\"757\" y=\"-324.8\" font-family=\"Helvetica,sans-Serif\" font-size=\"14.00\">squared_error = 0.148</text>\n<text text-anchor=\"start\" x=\"783.5\" y=\"-310.8\" font-family=\"Helvetica,sans-Serif\" font-size=\"14.00\">samples = 40</text>\n<text text-anchor=\"start\" x=\"783.5\" y=\"-296.8\" font-family=\"Helvetica,sans-Serif\" font-size=\"14.00\">value = 0.714</text>\n</g>\n<!-- 1&#45;&gt;9 -->\n<g id=\"edge9\" class=\"edge\">\n<title>1&#45;&gt;9</title>\n<path fill=\"none\" stroke=\"black\" d=\"M824.5,-388.99C824.5,-380.86 824.5,-371.96 824.5,-363.38\"/>\n<polygon fill=\"black\" stroke=\"black\" points=\"828,-363.14 824.5,-353.14 821,-363.14 828,-363.14\"/>\n</g>\n<!-- 3 -->\n<g id=\"node4\" class=\"node\">\n<title>3</title>\n<path fill=\"#fbeadf\" stroke=\"black\" d=\"M303.5,-247.5C303.5,-247.5 191.5,-247.5 191.5,-247.5 185.5,-247.5 179.5,-241.5 179.5,-235.5 179.5,-235.5 179.5,-206.5 179.5,-206.5 179.5,-200.5 185.5,-194.5 191.5,-194.5 191.5,-194.5 303.5,-194.5 303.5,-194.5 309.5,-194.5 315.5,-200.5 315.5,-206.5 315.5,-206.5 315.5,-235.5 315.5,-235.5 315.5,-241.5 309.5,-247.5 303.5,-247.5\"/>\n<text text-anchor=\"start\" x=\"187.5\" y=\"-232.3\" font-family=\"Helvetica,sans-Serif\" font-size=\"14.00\">squared_error = 0.0</text>\n<text text-anchor=\"start\" x=\"210\" y=\"-217.3\" font-family=\"Helvetica,sans-Serif\" font-size=\"14.00\">samples = 1</text>\n<text text-anchor=\"start\" x=\"204\" y=\"-202.3\" font-family=\"Helvetica,sans-Serif\" font-size=\"14.00\">value = &#45;1.149</text>\n</g>\n<!-- 2&#45;&gt;3 -->\n<g id=\"edge3\" class=\"edge\">\n<title>2&#45;&gt;3</title>\n<path fill=\"none\" stroke=\"black\" d=\"M358.24,-288.99C339.11,-277.42 317.41,-264.29 298.32,-252.74\"/>\n<polygon fill=\"black\" stroke=\"black\" points=\"300.11,-249.74 289.75,-247.56 296.49,-255.73 300.11,-249.74\"/>\n</g>\n<!-- 4 -->\n<g id=\"node5\" class=\"node\">\n<title>4</title>\n<path fill=\"#efb387\" stroke=\"black\" d=\"M473,-253C473,-253 346,-253 346,-253 340,-253 334,-247 334,-241 334,-241 334,-201 334,-201 334,-195 340,-189 346,-189 346,-189 473,-189 473,-189 479,-189 485,-195 485,-201 485,-201 485,-241 485,-241 485,-247 479,-253 473,-253\"/>\n<text text-anchor=\"start\" x=\"376.5\" y=\"-238.8\" font-family=\"Helvetica,sans-Serif\" font-size=\"14.00\">X</text>\n<text text-anchor=\"start\" x=\"386.5\" y=\"-238.8\" font-family=\"Helvetica,sans-Serif\" baseline-shift=\"sub\" font-size=\"14.00\">0</text>\n<text text-anchor=\"start\" x=\"393.5\" y=\"-238.8\" font-family=\"Helvetica,sans-Serif\" font-size=\"14.00\"> ≤ 0.502</text>\n<text text-anchor=\"start\" x=\"342\" y=\"-224.8\" font-family=\"Helvetica,sans-Serif\" font-size=\"14.00\">squared_error = 0.052</text>\n<text text-anchor=\"start\" x=\"368.5\" y=\"-210.8\" font-family=\"Helvetica,sans-Serif\" font-size=\"14.00\">samples = 10</text>\n<text text-anchor=\"start\" x=\"368.5\" y=\"-196.8\" font-family=\"Helvetica,sans-Serif\" font-size=\"14.00\">value = 0.173</text>\n</g>\n<!-- 2&#45;&gt;4 -->\n<g id=\"edge4\" class=\"edge\">\n<title>2&#45;&gt;4</title>\n<path fill=\"none\" stroke=\"black\" d=\"M409.5,-288.99C409.5,-280.86 409.5,-271.96 409.5,-263.38\"/>\n<polygon fill=\"black\" stroke=\"black\" points=\"413,-263.14 409.5,-253.14 406,-263.14 413,-263.14\"/>\n</g>\n<!-- 5 -->\n<g id=\"node6\" class=\"node\">\n<title>5</title>\n<path fill=\"#efb184\" stroke=\"black\" d=\"M308,-153C308,-153 181,-153 181,-153 175,-153 169,-147 169,-141 169,-141 169,-101 169,-101 169,-95 175,-89 181,-89 181,-89 308,-89 308,-89 314,-89 320,-95 320,-101 320,-101 320,-141 320,-141 320,-147 314,-153 308,-153\"/>\n<text text-anchor=\"start\" x=\"211.5\" y=\"-138.8\" font-family=\"Helvetica,sans-Serif\" font-size=\"14.00\">X</text>\n<text text-anchor=\"start\" x=\"221.5\" y=\"-138.8\" font-family=\"Helvetica,sans-Serif\" baseline-shift=\"sub\" font-size=\"14.00\">0</text>\n<text text-anchor=\"start\" x=\"228.5\" y=\"-138.8\" font-family=\"Helvetica,sans-Serif\" font-size=\"14.00\"> ≤ 0.258</text>\n<text text-anchor=\"start\" x=\"177\" y=\"-124.8\" font-family=\"Helvetica,sans-Serif\" font-size=\"14.00\">squared_error = 0.035</text>\n<text text-anchor=\"start\" x=\"207\" y=\"-110.8\" font-family=\"Helvetica,sans-Serif\" font-size=\"14.00\">samples = 9</text>\n<text text-anchor=\"start\" x=\"203.5\" y=\"-96.8\" font-family=\"Helvetica,sans-Serif\" font-size=\"14.00\">value = 0.221</text>\n</g>\n<!-- 4&#45;&gt;5 -->\n<g id=\"edge5\" class=\"edge\">\n<title>4&#45;&gt;5</title>\n<path fill=\"none\" stroke=\"black\" d=\"M357.29,-188.99C340.89,-179.25 322.64,-168.41 305.67,-158.33\"/>\n<polygon fill=\"black\" stroke=\"black\" points=\"307.32,-155.24 296.93,-153.14 303.74,-161.26 307.32,-155.24\"/>\n</g>\n<!-- 8 -->\n<g id=\"node9\" class=\"node\">\n<title>8</title>\n<path fill=\"#f3c5a4\" stroke=\"black\" d=\"M467.5,-147.5C467.5,-147.5 351.5,-147.5 351.5,-147.5 345.5,-147.5 339.5,-141.5 339.5,-135.5 339.5,-135.5 339.5,-106.5 339.5,-106.5 339.5,-100.5 345.5,-94.5 351.5,-94.5 351.5,-94.5 467.5,-94.5 467.5,-94.5 473.5,-94.5 479.5,-100.5 479.5,-106.5 479.5,-106.5 479.5,-135.5 479.5,-135.5 479.5,-141.5 473.5,-147.5 467.5,-147.5\"/>\n<text text-anchor=\"start\" x=\"347.5\" y=\"-132.3\" font-family=\"Helvetica,sans-Serif\" font-size=\"14.00\">squared_error = &#45;0.0</text>\n<text text-anchor=\"start\" x=\"372\" y=\"-117.3\" font-family=\"Helvetica,sans-Serif\" font-size=\"14.00\">samples = 1</text>\n<text text-anchor=\"start\" x=\"366\" y=\"-102.3\" font-family=\"Helvetica,sans-Serif\" font-size=\"14.00\">value = &#45;0.263</text>\n</g>\n<!-- 4&#45;&gt;8 -->\n<g id=\"edge8\" class=\"edge\">\n<title>4&#45;&gt;8</title>\n<path fill=\"none\" stroke=\"black\" d=\"M409.5,-188.99C409.5,-179.09 409.5,-168.04 409.5,-157.82\"/>\n<polygon fill=\"black\" stroke=\"black\" points=\"413,-157.56 409.5,-147.56 406,-157.56 413,-157.56\"/>\n</g>\n<!-- 6 -->\n<g id=\"node7\" class=\"node\">\n<title>6</title>\n<path fill=\"#f0b78d\" stroke=\"black\" d=\"M139,-53C139,-53 12,-53 12,-53 6,-53 0,-47 0,-41 0,-41 0,-12 0,-12 0,-6 6,0 12,0 12,0 139,0 139,0 145,0 151,-6 151,-12 151,-12 151,-41 151,-41 151,-47 145,-53 139,-53\"/>\n<text text-anchor=\"start\" x=\"8\" y=\"-37.8\" font-family=\"Helvetica,sans-Serif\" font-size=\"14.00\">squared_error = 0.012</text>\n<text text-anchor=\"start\" x=\"38\" y=\"-22.8\" font-family=\"Helvetica,sans-Serif\" font-size=\"14.00\">samples = 5</text>\n<text text-anchor=\"start\" x=\"34.5\" y=\"-7.8\" font-family=\"Helvetica,sans-Serif\" font-size=\"14.00\">value = 0.079</text>\n</g>\n<!-- 5&#45;&gt;6 -->\n<g id=\"edge6\" class=\"edge\">\n<title>5&#45;&gt;6</title>\n<path fill=\"none\" stroke=\"black\" d=\"M187.76,-88.94C169.63,-79.02 149.58,-68.05 131.51,-58.15\"/>\n<polygon fill=\"black\" stroke=\"black\" points=\"132.71,-54.82 122.26,-53.09 129.35,-60.96 132.71,-54.82\"/>\n</g>\n<!-- 7 -->\n<g id=\"node8\" class=\"node\">\n<title>7</title>\n<path fill=\"#eda978\" stroke=\"black\" d=\"M308,-53C308,-53 181,-53 181,-53 175,-53 169,-47 169,-41 169,-41 169,-12 169,-12 169,-6 175,0 181,0 181,0 308,0 308,0 314,0 320,-6 320,-12 320,-12 320,-41 320,-41 320,-47 314,-53 308,-53\"/>\n<text text-anchor=\"start\" x=\"177\" y=\"-37.8\" font-family=\"Helvetica,sans-Serif\" font-size=\"14.00\">squared_error = 0.007</text>\n<text text-anchor=\"start\" x=\"207\" y=\"-22.8\" font-family=\"Helvetica,sans-Serif\" font-size=\"14.00\">samples = 4</text>\n<text text-anchor=\"start\" x=\"203.5\" y=\"-7.8\" font-family=\"Helvetica,sans-Serif\" font-size=\"14.00\">value = 0.398</text>\n</g>\n<!-- 5&#45;&gt;7 -->\n<g id=\"edge7\" class=\"edge\">\n<title>5&#45;&gt;7</title>\n<path fill=\"none\" stroke=\"black\" d=\"M244.5,-88.94C244.5,-80.66 244.5,-71.64 244.5,-63.13\"/>\n<polygon fill=\"black\" stroke=\"black\" points=\"248,-63.09 244.5,-53.09 241,-63.09 248,-63.09\"/>\n</g>\n<!-- 10 -->\n<g id=\"node11\" class=\"node\">\n<title>10</title>\n<path fill=\"#e9975b\" stroke=\"black\" d=\"M804,-253C804,-253 677,-253 677,-253 671,-253 665,-247 665,-241 665,-241 665,-201 665,-201 665,-195 671,-189 677,-189 677,-189 804,-189 804,-189 810,-189 816,-195 816,-201 816,-201 816,-241 816,-241 816,-247 810,-253 804,-253\"/>\n<text text-anchor=\"start\" x=\"707.5\" y=\"-238.8\" font-family=\"Helvetica,sans-Serif\" font-size=\"14.00\">X</text>\n<text text-anchor=\"start\" x=\"717.5\" y=\"-238.8\" font-family=\"Helvetica,sans-Serif\" baseline-shift=\"sub\" font-size=\"14.00\">0</text>\n<text text-anchor=\"start\" x=\"724.5\" y=\"-238.8\" font-family=\"Helvetica,sans-Serif\" font-size=\"14.00\"> ≤ 1.421</text>\n<text text-anchor=\"start\" x=\"673\" y=\"-224.8\" font-family=\"Helvetica,sans-Serif\" font-size=\"14.00\">squared_error = 0.093</text>\n<text text-anchor=\"start\" x=\"699.5\" y=\"-210.8\" font-family=\"Helvetica,sans-Serif\" font-size=\"14.00\">samples = 24</text>\n<text text-anchor=\"start\" x=\"699.5\" y=\"-196.8\" font-family=\"Helvetica,sans-Serif\" font-size=\"14.00\">value = 0.839</text>\n</g>\n<!-- 9&#45;&gt;10 -->\n<g id=\"edge10\" class=\"edge\">\n<title>9&#45;&gt;10</title>\n<path fill=\"none\" stroke=\"black\" d=\"M797.92,-288.99C790.26,-280.06 781.81,-270.19 773.79,-260.84\"/>\n<polygon fill=\"black\" stroke=\"black\" points=\"776.36,-258.46 767.19,-253.14 771.04,-263.01 776.36,-258.46\"/>\n</g>\n<!-- 17 -->\n<g id=\"node18\" class=\"node\">\n<title>17</title>\n<path fill=\"#eca470\" stroke=\"black\" d=\"M973,-253C973,-253 846,-253 846,-253 840,-253 834,-247 834,-241 834,-241 834,-201 834,-201 834,-195 840,-189 846,-189 846,-189 973,-189 973,-189 979,-189 985,-195 985,-201 985,-201 985,-241 985,-241 985,-247 979,-253 973,-253\"/>\n<text text-anchor=\"start\" x=\"876.5\" y=\"-238.8\" font-family=\"Helvetica,sans-Serif\" font-size=\"14.00\">X</text>\n<text text-anchor=\"start\" x=\"886.5\" y=\"-238.8\" font-family=\"Helvetica,sans-Serif\" baseline-shift=\"sub\" font-size=\"14.00\">0</text>\n<text text-anchor=\"start\" x=\"893.5\" y=\"-238.8\" font-family=\"Helvetica,sans-Serif\" font-size=\"14.00\"> ≤ 2.071</text>\n<text text-anchor=\"start\" x=\"842\" y=\"-224.8\" font-family=\"Helvetica,sans-Serif\" font-size=\"14.00\">squared_error = 0.172</text>\n<text text-anchor=\"start\" x=\"868.5\" y=\"-210.8\" font-family=\"Helvetica,sans-Serif\" font-size=\"14.00\">samples = 16</text>\n<text text-anchor=\"start\" x=\"868.5\" y=\"-196.8\" font-family=\"Helvetica,sans-Serif\" font-size=\"14.00\">value = 0.527</text>\n</g>\n<!-- 9&#45;&gt;17 -->\n<g id=\"edge17\" class=\"edge\">\n<title>9&#45;&gt;17</title>\n<path fill=\"none\" stroke=\"black\" d=\"M851.39,-288.99C859.15,-280.06 867.7,-270.19 875.81,-260.84\"/>\n<polygon fill=\"black\" stroke=\"black\" points=\"878.58,-262.99 882.49,-253.14 873.29,-258.4 878.58,-262.99\"/>\n</g>\n<!-- 11 -->\n<g id=\"node12\" class=\"node\">\n<title>11</title>\n<path fill=\"#ea9b61\" stroke=\"black\" d=\"M636.5,-153C636.5,-153 510.5,-153 510.5,-153 504.5,-153 498.5,-147 498.5,-141 498.5,-141 498.5,-101 498.5,-101 498.5,-95 504.5,-89 510.5,-89 510.5,-89 636.5,-89 636.5,-89 642.5,-89 648.5,-95 648.5,-101 648.5,-101 648.5,-141 648.5,-141 648.5,-147 642.5,-153 636.5,-153\"/>\n<text text-anchor=\"start\" x=\"540.5\" y=\"-138.8\" font-family=\"Helvetica,sans-Serif\" font-size=\"14.00\">X</text>\n<text text-anchor=\"start\" x=\"550.5\" y=\"-138.8\" font-family=\"Helvetica,sans-Serif\" baseline-shift=\"sub\" font-size=\"14.00\">0</text>\n<text text-anchor=\"start\" x=\"557.5\" y=\"-138.8\" font-family=\"Helvetica,sans-Serif\" font-size=\"14.00\"> ≤ 1.365</text>\n<text text-anchor=\"start\" x=\"506.5\" y=\"-124.8\" font-family=\"Helvetica,sans-Serif\" font-size=\"14.00\">squared_error = 0.119</text>\n<text text-anchor=\"start\" x=\"532.5\" y=\"-110.8\" font-family=\"Helvetica,sans-Serif\" font-size=\"14.00\">samples = 15</text>\n<text text-anchor=\"start\" x=\"532.5\" y=\"-96.8\" font-family=\"Helvetica,sans-Serif\" font-size=\"14.00\">value = 0.741</text>\n</g>\n<!-- 10&#45;&gt;11 -->\n<g id=\"edge11\" class=\"edge\">\n<title>10&#45;&gt;11</title>\n<path fill=\"none\" stroke=\"black\" d=\"M687.66,-188.99C671.06,-179.25 652.58,-168.41 635.41,-158.33\"/>\n<polygon fill=\"black\" stroke=\"black\" points=\"636.97,-155.19 626.57,-153.14 633.42,-161.22 636.97,-155.19\"/>\n</g>\n<!-- 14 -->\n<g id=\"node15\" class=\"node\">\n<title>14</title>\n<path fill=\"#e89050\" stroke=\"black\" d=\"M806,-153C806,-153 679,-153 679,-153 673,-153 667,-147 667,-141 667,-141 667,-101 667,-101 667,-95 673,-89 679,-89 679,-89 806,-89 806,-89 812,-89 818,-95 818,-101 818,-101 818,-141 818,-141 818,-147 812,-153 806,-153\"/>\n<text text-anchor=\"start\" x=\"709.5\" y=\"-138.8\" font-family=\"Helvetica,sans-Serif\" font-size=\"14.00\">X</text>\n<text text-anchor=\"start\" x=\"719.5\" y=\"-138.8\" font-family=\"Helvetica,sans-Serif\" baseline-shift=\"sub\" font-size=\"14.00\">0</text>\n<text text-anchor=\"start\" x=\"726.5\" y=\"-138.8\" font-family=\"Helvetica,sans-Serif\" font-size=\"14.00\"> ≤ 1.861</text>\n<text text-anchor=\"start\" x=\"675\" y=\"-124.8\" font-family=\"Helvetica,sans-Serif\" font-size=\"14.00\">squared_error = 0.007</text>\n<text text-anchor=\"start\" x=\"705\" y=\"-110.8\" font-family=\"Helvetica,sans-Serif\" font-size=\"14.00\">samples = 9</text>\n<text text-anchor=\"start\" x=\"709\" y=\"-96.8\" font-family=\"Helvetica,sans-Serif\" font-size=\"14.00\">value = 1.0</text>\n</g>\n<!-- 10&#45;&gt;14 -->\n<g id=\"edge14\" class=\"edge\">\n<title>10&#45;&gt;14</title>\n<path fill=\"none\" stroke=\"black\" d=\"M741.13,-188.99C741.3,-180.86 741.48,-171.96 741.66,-163.38\"/>\n<polygon fill=\"black\" stroke=\"black\" points=\"745.16,-163.21 741.86,-153.14 738.16,-163.07 745.16,-163.21\"/>\n</g>\n<!-- 12 -->\n<g id=\"node13\" class=\"node\">\n<title>12</title>\n<path fill=\"#ea985d\" stroke=\"black\" d=\"M477,-53C477,-53 350,-53 350,-53 344,-53 338,-47 338,-41 338,-41 338,-12 338,-12 338,-6 344,0 350,0 350,0 477,0 477,0 483,0 489,-6 489,-12 489,-12 489,-41 489,-41 489,-47 483,-53 477,-53\"/>\n<text text-anchor=\"start\" x=\"346\" y=\"-37.8\" font-family=\"Helvetica,sans-Serif\" font-size=\"14.00\">squared_error = 0.059</text>\n<text text-anchor=\"start\" x=\"372.5\" y=\"-22.8\" font-family=\"Helvetica,sans-Serif\" font-size=\"14.00\">samples = 14</text>\n<text text-anchor=\"start\" x=\"372.5\" y=\"-7.8\" font-family=\"Helvetica,sans-Serif\" font-size=\"14.00\">value = 0.809</text>\n</g>\n<!-- 11&#45;&gt;12 -->\n<g id=\"edge12\" class=\"edge\">\n<title>11&#45;&gt;12</title>\n<path fill=\"none\" stroke=\"black\" d=\"M519.78,-88.94C502.61,-79.02 483.64,-68.05 466.52,-58.15\"/>\n<polygon fill=\"black\" stroke=\"black\" points=\"468.17,-55.07 457.77,-53.09 464.67,-61.13 468.17,-55.07\"/>\n</g>\n<!-- 13 -->\n<g id=\"node14\" class=\"node\">\n<title>13</title>\n<path fill=\"#f3c2a0\" stroke=\"black\" d=\"M631.5,-53C631.5,-53 519.5,-53 519.5,-53 513.5,-53 507.5,-47 507.5,-41 507.5,-41 507.5,-12 507.5,-12 507.5,-6 513.5,0 519.5,0 519.5,0 631.5,0 631.5,0 637.5,0 643.5,-6 643.5,-12 643.5,-12 643.5,-41 643.5,-41 643.5,-47 637.5,-53 631.5,-53\"/>\n<text text-anchor=\"start\" x=\"515.5\" y=\"-37.8\" font-family=\"Helvetica,sans-Serif\" font-size=\"14.00\">squared_error = 0.0</text>\n<text text-anchor=\"start\" x=\"538\" y=\"-22.8\" font-family=\"Helvetica,sans-Serif\" font-size=\"14.00\">samples = 1</text>\n<text text-anchor=\"start\" x=\"532\" y=\"-7.8\" font-family=\"Helvetica,sans-Serif\" font-size=\"14.00\">value = &#45;0.202</text>\n</g>\n<!-- 11&#45;&gt;13 -->\n<g id=\"edge13\" class=\"edge\">\n<title>11&#45;&gt;13</title>\n<path fill=\"none\" stroke=\"black\" d=\"M574.17,-88.94C574.35,-80.66 574.55,-71.64 574.73,-63.13\"/>\n<polygon fill=\"black\" stroke=\"black\" points=\"578.23,-63.16 574.95,-53.09 571.23,-63.01 578.23,-63.16\"/>\n</g>\n<!-- 15 -->\n<g id=\"node16\" class=\"node\">\n<title>15</title>\n<path fill=\"#e88f4f\" stroke=\"black\" d=\"M801,-53C801,-53 674,-53 674,-53 668,-53 662,-47 662,-41 662,-41 662,-12 662,-12 662,-6 668,0 674,0 674,0 801,0 801,0 807,0 813,-6 813,-12 813,-12 813,-41 813,-41 813,-47 807,-53 801,-53\"/>\n<text text-anchor=\"start\" x=\"670\" y=\"-37.8\" font-family=\"Helvetica,sans-Serif\" font-size=\"14.00\">squared_error = 0.006</text>\n<text text-anchor=\"start\" x=\"700\" y=\"-22.8\" font-family=\"Helvetica,sans-Serif\" font-size=\"14.00\">samples = 7</text>\n<text text-anchor=\"start\" x=\"696.5\" y=\"-7.8\" font-family=\"Helvetica,sans-Serif\" font-size=\"14.00\">value = 1.025</text>\n</g>\n<!-- 14&#45;&gt;15 -->\n<g id=\"edge15\" class=\"edge\">\n<title>14&#45;&gt;15</title>\n<path fill=\"none\" stroke=\"black\" d=\"M740.82,-88.94C740.37,-80.66 739.89,-71.64 739.43,-63.13\"/>\n<polygon fill=\"black\" stroke=\"black\" points=\"742.92,-62.89 738.88,-53.09 735.93,-63.27 742.92,-62.89\"/>\n</g>\n<!-- 16 -->\n<g id=\"node17\" class=\"node\">\n<title>16</title>\n<path fill=\"#e99356\" stroke=\"black\" d=\"M955.5,-53C955.5,-53 843.5,-53 843.5,-53 837.5,-53 831.5,-47 831.5,-41 831.5,-41 831.5,-12 831.5,-12 831.5,-6 837.5,0 843.5,0 843.5,0 955.5,0 955.5,0 961.5,0 967.5,-6 967.5,-12 967.5,-12 967.5,-41 967.5,-41 967.5,-47 961.5,-53 955.5,-53\"/>\n<text text-anchor=\"start\" x=\"839.5\" y=\"-37.8\" font-family=\"Helvetica,sans-Serif\" font-size=\"14.00\">squared_error = 0.0</text>\n<text text-anchor=\"start\" x=\"862\" y=\"-22.8\" font-family=\"Helvetica,sans-Serif\" font-size=\"14.00\">samples = 2</text>\n<text text-anchor=\"start\" x=\"858.5\" y=\"-7.8\" font-family=\"Helvetica,sans-Serif\" font-size=\"14.00\">value = 0.915</text>\n</g>\n<!-- 14&#45;&gt;16 -->\n<g id=\"edge16\" class=\"edge\">\n<title>14&#45;&gt;16</title>\n<path fill=\"none\" stroke=\"black\" d=\"M795.22,-88.94C811.9,-79.11 830.34,-68.25 847.01,-58.43\"/>\n<polygon fill=\"black\" stroke=\"black\" points=\"849.23,-61.18 856.06,-53.09 845.67,-55.15 849.23,-61.18\"/>\n</g>\n<!-- 18 -->\n<g id=\"node19\" class=\"node\">\n<title>18</title>\n<path fill=\"#f5d0b5\" stroke=\"black\" d=\"M962.5,-147.5C962.5,-147.5 850.5,-147.5 850.5,-147.5 844.5,-147.5 838.5,-141.5 838.5,-135.5 838.5,-135.5 838.5,-106.5 838.5,-106.5 838.5,-100.5 844.5,-94.5 850.5,-94.5 850.5,-94.5 962.5,-94.5 962.5,-94.5 968.5,-94.5 974.5,-100.5 974.5,-106.5 974.5,-106.5 974.5,-135.5 974.5,-135.5 974.5,-141.5 968.5,-147.5 962.5,-147.5\"/>\n<text text-anchor=\"start\" x=\"846.5\" y=\"-132.3\" font-family=\"Helvetica,sans-Serif\" font-size=\"14.00\">squared_error = 0.0</text>\n<text text-anchor=\"start\" x=\"869\" y=\"-117.3\" font-family=\"Helvetica,sans-Serif\" font-size=\"14.00\">samples = 1</text>\n<text text-anchor=\"start\" x=\"863\" y=\"-102.3\" font-family=\"Helvetica,sans-Serif\" font-size=\"14.00\">value = &#45;0.517</text>\n</g>\n<!-- 17&#45;&gt;18 -->\n<g id=\"edge18\" class=\"edge\">\n<title>17&#45;&gt;18</title>\n<path fill=\"none\" stroke=\"black\" d=\"M908.55,-188.99C908.25,-179.09 907.91,-168.04 907.6,-157.82\"/>\n<polygon fill=\"black\" stroke=\"black\" points=\"911.09,-157.44 907.28,-147.56 904.09,-157.66 911.09,-157.44\"/>\n</g>\n<!-- 19 -->\n<g id=\"node20\" class=\"node\">\n<title>19</title>\n<path fill=\"#eca16b\" stroke=\"black\" d=\"M1132,-153C1132,-153 1005,-153 1005,-153 999,-153 993,-147 993,-141 993,-141 993,-101 993,-101 993,-95 999,-89 1005,-89 1005,-89 1132,-89 1132,-89 1138,-89 1144,-95 1144,-101 1144,-101 1144,-141 1144,-141 1144,-147 1138,-153 1132,-153\"/>\n<text text-anchor=\"start\" x=\"1039\" y=\"-138.8\" font-family=\"Helvetica,sans-Serif\" font-size=\"14.00\">X</text>\n<text text-anchor=\"start\" x=\"1049\" y=\"-138.8\" font-family=\"Helvetica,sans-Serif\" baseline-shift=\"sub\" font-size=\"14.00\">0</text>\n<text text-anchor=\"start\" x=\"1056\" y=\"-138.8\" font-family=\"Helvetica,sans-Serif\" font-size=\"14.00\"> ≤ 2.94</text>\n<text text-anchor=\"start\" x=\"1001\" y=\"-124.8\" font-family=\"Helvetica,sans-Serif\" font-size=\"14.00\">squared_error = 0.106</text>\n<text text-anchor=\"start\" x=\"1027.5\" y=\"-110.8\" font-family=\"Helvetica,sans-Serif\" font-size=\"14.00\">samples = 15</text>\n<text text-anchor=\"start\" x=\"1027.5\" y=\"-96.8\" font-family=\"Helvetica,sans-Serif\" font-size=\"14.00\">value = 0.596</text>\n</g>\n<!-- 17&#45;&gt;19 -->\n<g id=\"edge19\" class=\"edge\">\n<title>17&#45;&gt;19</title>\n<path fill=\"none\" stroke=\"black\" d=\"M959.81,-188.99C975.47,-179.34 992.88,-168.61 1009.1,-158.61\"/>\n<polygon fill=\"black\" stroke=\"black\" points=\"1011.3,-161.37 1017.97,-153.14 1007.62,-155.41 1011.3,-161.37\"/>\n</g>\n<!-- 20 -->\n<g id=\"node21\" class=\"node\">\n<title>20</title>\n<path fill=\"#eca36f\" stroke=\"black\" d=\"M1125,-53C1125,-53 998,-53 998,-53 992,-53 986,-47 986,-41 986,-41 986,-12 986,-12 986,-6 992,0 998,0 998,0 1125,0 1125,0 1131,0 1137,-6 1137,-12 1137,-12 1137,-41 1137,-41 1137,-47 1131,-53 1125,-53\"/>\n<text text-anchor=\"start\" x=\"994\" y=\"-37.8\" font-family=\"Helvetica,sans-Serif\" font-size=\"14.00\">squared_error = 0.071</text>\n<text text-anchor=\"start\" x=\"1020.5\" y=\"-22.8\" font-family=\"Helvetica,sans-Serif\" font-size=\"14.00\">samples = 14</text>\n<text text-anchor=\"start\" x=\"1020.5\" y=\"-7.8\" font-family=\"Helvetica,sans-Serif\" font-size=\"14.00\">value = 0.542</text>\n</g>\n<!-- 19&#45;&gt;20 -->\n<g id=\"edge20\" class=\"edge\">\n<title>19&#45;&gt;20</title>\n<path fill=\"none\" stroke=\"black\" d=\"M1066.15,-88.94C1065.52,-80.66 1064.84,-71.64 1064.2,-63.13\"/>\n<polygon fill=\"black\" stroke=\"black\" points=\"1067.68,-62.8 1063.44,-53.09 1060.7,-63.33 1067.68,-62.8\"/>\n</g>\n<!-- 21 -->\n<g id=\"node22\" class=\"node\">\n<title>21</title>\n<path fill=\"#e58139\" stroke=\"black\" d=\"M1279.5,-53C1279.5,-53 1167.5,-53 1167.5,-53 1161.5,-53 1155.5,-47 1155.5,-41 1155.5,-41 1155.5,-12 1155.5,-12 1155.5,-6 1161.5,0 1167.5,0 1167.5,0 1279.5,0 1279.5,0 1285.5,0 1291.5,-6 1291.5,-12 1291.5,-12 1291.5,-41 1291.5,-41 1291.5,-47 1285.5,-53 1279.5,-53\"/>\n<text text-anchor=\"start\" x=\"1163.5\" y=\"-37.8\" font-family=\"Helvetica,sans-Serif\" font-size=\"14.00\">squared_error = 0.0</text>\n<text text-anchor=\"start\" x=\"1186\" y=\"-22.8\" font-family=\"Helvetica,sans-Serif\" font-size=\"14.00\">samples = 1</text>\n<text text-anchor=\"start\" x=\"1186\" y=\"-7.8\" font-family=\"Helvetica,sans-Serif\" font-size=\"14.00\">value = 1.35</text>\n</g>\n<!-- 19&#45;&gt;21 -->\n<g id=\"edge21\" class=\"edge\">\n<title>19&#45;&gt;21</title>\n<path fill=\"none\" stroke=\"black\" d=\"M1120.54,-88.94C1137.02,-79.11 1155.22,-68.25 1171.68,-58.43\"/>\n<polygon fill=\"black\" stroke=\"black\" points=\"1173.82,-61.22 1180.62,-53.09 1170.24,-55.21 1173.82,-61.22\"/>\n</g>\n<!-- 23 -->\n<g id=\"node24\" class=\"node\">\n<title>23</title>\n<path fill=\"#f5cdb1\" stroke=\"black\" d=\"M1826,-353C1826,-353 1699,-353 1699,-353 1693,-353 1687,-347 1687,-341 1687,-341 1687,-301 1687,-301 1687,-295 1693,-289 1699,-289 1699,-289 1826,-289 1826,-289 1832,-289 1838,-295 1838,-301 1838,-301 1838,-341 1838,-341 1838,-347 1832,-353 1826,-353\"/>\n<text text-anchor=\"start\" x=\"1729.5\" y=\"-338.8\" font-family=\"Helvetica,sans-Serif\" font-size=\"14.00\">X</text>\n<text text-anchor=\"start\" x=\"1739.5\" y=\"-338.8\" font-family=\"Helvetica,sans-Serif\" baseline-shift=\"sub\" font-size=\"14.00\">0</text>\n<text text-anchor=\"start\" x=\"1746.5\" y=\"-338.8\" font-family=\"Helvetica,sans-Serif\" font-size=\"14.00\"> ≤ 3.429</text>\n<text text-anchor=\"start\" x=\"1695\" y=\"-324.8\" font-family=\"Helvetica,sans-Serif\" font-size=\"14.00\">squared_error = 0.124</text>\n<text text-anchor=\"start\" x=\"1721.5\" y=\"-310.8\" font-family=\"Helvetica,sans-Serif\" font-size=\"14.00\">samples = 14</text>\n<text text-anchor=\"start\" x=\"1719\" y=\"-296.8\" font-family=\"Helvetica,sans-Serif\" font-size=\"14.00\">value = &#45;0.452</text>\n</g>\n<!-- 22&#45;&gt;23 -->\n<g id=\"edge23\" class=\"edge\">\n<title>22&#45;&gt;23</title>\n<path fill=\"none\" stroke=\"black\" d=\"M1762.5,-388.99C1762.5,-380.86 1762.5,-371.96 1762.5,-363.38\"/>\n<polygon fill=\"black\" stroke=\"black\" points=\"1766,-363.14 1762.5,-353.14 1759,-363.14 1766,-363.14\"/>\n</g>\n<!-- 36 -->\n<g id=\"node37\" class=\"node\">\n<title>36</title>\n<path fill=\"#f8dfcc\" stroke=\"black\" d=\"M2466,-353C2466,-353 2339,-353 2339,-353 2333,-353 2327,-347 2327,-341 2327,-341 2327,-301 2327,-301 2327,-295 2333,-289 2339,-289 2339,-289 2466,-289 2466,-289 2472,-289 2478,-295 2478,-301 2478,-301 2478,-341 2478,-341 2478,-347 2472,-353 2466,-353\"/>\n<text text-anchor=\"start\" x=\"2373\" y=\"-338.8\" font-family=\"Helvetica,sans-Serif\" font-size=\"14.00\">X</text>\n<text text-anchor=\"start\" x=\"2383\" y=\"-338.8\" font-family=\"Helvetica,sans-Serif\" baseline-shift=\"sub\" font-size=\"14.00\">0</text>\n<text text-anchor=\"start\" x=\"2390\" y=\"-338.8\" font-family=\"Helvetica,sans-Serif\" font-size=\"14.00\"> ≤ 4.68</text>\n<text text-anchor=\"start\" x=\"2335\" y=\"-324.8\" font-family=\"Helvetica,sans-Serif\" font-size=\"14.00\">squared_error = 0.041</text>\n<text text-anchor=\"start\" x=\"2361.5\" y=\"-310.8\" font-family=\"Helvetica,sans-Serif\" font-size=\"14.00\">samples = 15</text>\n<text text-anchor=\"start\" x=\"2359\" y=\"-296.8\" font-family=\"Helvetica,sans-Serif\" font-size=\"14.00\">value = &#45;0.869</text>\n</g>\n<!-- 22&#45;&gt;36 -->\n<g id=\"edge36\" class=\"edge\">\n<title>22&#45;&gt;36</title>\n<path fill=\"none\" stroke=\"black\" d=\"M1838.11,-408.42C1957.92,-390.08 2190.65,-354.44 2316.59,-335.15\"/>\n<polygon fill=\"black\" stroke=\"black\" points=\"2317.23,-338.6 2326.58,-333.62 2316.17,-331.68 2317.23,-338.6\"/>\n</g>\n<!-- 24 -->\n<g id=\"node25\" class=\"node\">\n<title>24</title>\n<path fill=\"#f3c4a2\" stroke=\"black\" d=\"M1742,-253C1742,-253 1615,-253 1615,-253 1609,-253 1603,-247 1603,-241 1603,-241 1603,-201 1603,-201 1603,-195 1609,-189 1615,-189 1615,-189 1742,-189 1742,-189 1748,-189 1754,-195 1754,-201 1754,-201 1754,-241 1754,-241 1754,-247 1748,-253 1742,-253\"/>\n<text text-anchor=\"start\" x=\"1645.5\" y=\"-238.8\" font-family=\"Helvetica,sans-Serif\" font-size=\"14.00\">X</text>\n<text text-anchor=\"start\" x=\"1655.5\" y=\"-238.8\" font-family=\"Helvetica,sans-Serif\" baseline-shift=\"sub\" font-size=\"14.00\">0</text>\n<text text-anchor=\"start\" x=\"1662.5\" y=\"-238.8\" font-family=\"Helvetica,sans-Serif\" font-size=\"14.00\"> ≤ 3.373</text>\n<text text-anchor=\"start\" x=\"1611\" y=\"-224.8\" font-family=\"Helvetica,sans-Serif\" font-size=\"14.00\">squared_error = 0.002</text>\n<text text-anchor=\"start\" x=\"1641\" y=\"-210.8\" font-family=\"Helvetica,sans-Serif\" font-size=\"14.00\">samples = 4</text>\n<text text-anchor=\"start\" x=\"1635\" y=\"-196.8\" font-family=\"Helvetica,sans-Serif\" font-size=\"14.00\">value = &#45;0.229</text>\n</g>\n<!-- 23&#45;&gt;24 -->\n<g id=\"edge24\" class=\"edge\">\n<title>23&#45;&gt;24</title>\n<path fill=\"none\" stroke=\"black\" d=\"M1735.92,-288.99C1728.26,-280.06 1719.81,-270.19 1711.79,-260.84\"/>\n<polygon fill=\"black\" stroke=\"black\" points=\"1714.36,-258.46 1705.19,-253.14 1709.04,-263.01 1714.36,-258.46\"/>\n</g>\n<!-- 31 -->\n<g id=\"node32\" class=\"node\">\n<title>31</title>\n<path fill=\"#f5d1b6\" stroke=\"black\" d=\"M1911,-253C1911,-253 1784,-253 1784,-253 1778,-253 1772,-247 1772,-241 1772,-241 1772,-201 1772,-201 1772,-195 1778,-189 1784,-189 1784,-189 1911,-189 1911,-189 1917,-189 1923,-195 1923,-201 1923,-201 1923,-241 1923,-241 1923,-247 1917,-253 1911,-253\"/>\n<text text-anchor=\"start\" x=\"1814.5\" y=\"-238.8\" font-family=\"Helvetica,sans-Serif\" font-size=\"14.00\">X</text>\n<text text-anchor=\"start\" x=\"1824.5\" y=\"-238.8\" font-family=\"Helvetica,sans-Serif\" baseline-shift=\"sub\" font-size=\"14.00\">0</text>\n<text text-anchor=\"start\" x=\"1831.5\" y=\"-238.8\" font-family=\"Helvetica,sans-Serif\" font-size=\"14.00\"> ≤ 3.446</text>\n<text text-anchor=\"start\" x=\"1780\" y=\"-224.8\" font-family=\"Helvetica,sans-Serif\" font-size=\"14.00\">squared_error = 0.145</text>\n<text text-anchor=\"start\" x=\"1806.5\" y=\"-210.8\" font-family=\"Helvetica,sans-Serif\" font-size=\"14.00\">samples = 10</text>\n<text text-anchor=\"start\" x=\"1804\" y=\"-196.8\" font-family=\"Helvetica,sans-Serif\" font-size=\"14.00\">value = &#45;0.541</text>\n</g>\n<!-- 23&#45;&gt;31 -->\n<g id=\"edge31\" class=\"edge\">\n<title>23&#45;&gt;31</title>\n<path fill=\"none\" stroke=\"black\" d=\"M1789.39,-288.99C1797.15,-280.06 1805.7,-270.19 1813.81,-260.84\"/>\n<polygon fill=\"black\" stroke=\"black\" points=\"1816.58,-262.99 1820.49,-253.14 1811.29,-258.4 1816.58,-262.99\"/>\n</g>\n<!-- 25 -->\n<g id=\"node26\" class=\"node\">\n<title>25</title>\n<path fill=\"#f2c29f\" stroke=\"black\" d=\"M1587.5,-153C1587.5,-153 1475.5,-153 1475.5,-153 1469.5,-153 1463.5,-147 1463.5,-141 1463.5,-141 1463.5,-101 1463.5,-101 1463.5,-95 1469.5,-89 1475.5,-89 1475.5,-89 1587.5,-89 1587.5,-89 1593.5,-89 1599.5,-95 1599.5,-101 1599.5,-101 1599.5,-141 1599.5,-141 1599.5,-147 1593.5,-153 1587.5,-153\"/>\n<text text-anchor=\"start\" x=\"1498.5\" y=\"-138.8\" font-family=\"Helvetica,sans-Serif\" font-size=\"14.00\">X</text>\n<text text-anchor=\"start\" x=\"1508.5\" y=\"-138.8\" font-family=\"Helvetica,sans-Serif\" baseline-shift=\"sub\" font-size=\"14.00\">0</text>\n<text text-anchor=\"start\" x=\"1515.5\" y=\"-138.8\" font-family=\"Helvetica,sans-Serif\" font-size=\"14.00\"> ≤ 3.336</text>\n<text text-anchor=\"start\" x=\"1471.5\" y=\"-124.8\" font-family=\"Helvetica,sans-Serif\" font-size=\"14.00\">squared_error = 0.0</text>\n<text text-anchor=\"start\" x=\"1494\" y=\"-110.8\" font-family=\"Helvetica,sans-Serif\" font-size=\"14.00\">samples = 2</text>\n<text text-anchor=\"start\" x=\"1488\" y=\"-96.8\" font-family=\"Helvetica,sans-Serif\" font-size=\"14.00\">value = &#45;0.193</text>\n</g>\n<!-- 24&#45;&gt;25 -->\n<g id=\"edge25\" class=\"edge\">\n<title>24&#45;&gt;25</title>\n<path fill=\"none\" stroke=\"black\" d=\"M1631.99,-188.99C1617.64,-179.43 1601.71,-168.81 1586.83,-158.89\"/>\n<polygon fill=\"black\" stroke=\"black\" points=\"1588.48,-155.78 1578.21,-153.14 1584.59,-161.6 1588.48,-155.78\"/>\n</g>\n<!-- 28 -->\n<g id=\"node29\" class=\"node\">\n<title>28</title>\n<path fill=\"#f3c5a4\" stroke=\"black\" d=\"M1741.5,-153C1741.5,-153 1629.5,-153 1629.5,-153 1623.5,-153 1617.5,-147 1617.5,-141 1617.5,-141 1617.5,-101 1617.5,-101 1617.5,-95 1623.5,-89 1629.5,-89 1629.5,-89 1741.5,-89 1741.5,-89 1747.5,-89 1753.5,-95 1753.5,-101 1753.5,-101 1753.5,-141 1753.5,-141 1753.5,-147 1747.5,-153 1741.5,-153\"/>\n<text text-anchor=\"start\" x=\"1656\" y=\"-138.8\" font-family=\"Helvetica,sans-Serif\" font-size=\"14.00\">X</text>\n<text text-anchor=\"start\" x=\"1666\" y=\"-138.8\" font-family=\"Helvetica,sans-Serif\" baseline-shift=\"sub\" font-size=\"14.00\">0</text>\n<text text-anchor=\"start\" x=\"1673\" y=\"-138.8\" font-family=\"Helvetica,sans-Serif\" font-size=\"14.00\"> ≤ 3.41</text>\n<text text-anchor=\"start\" x=\"1625.5\" y=\"-124.8\" font-family=\"Helvetica,sans-Serif\" font-size=\"14.00\">squared_error = 0.0</text>\n<text text-anchor=\"start\" x=\"1648\" y=\"-110.8\" font-family=\"Helvetica,sans-Serif\" font-size=\"14.00\">samples = 2</text>\n<text text-anchor=\"start\" x=\"1642\" y=\"-96.8\" font-family=\"Helvetica,sans-Serif\" font-size=\"14.00\">value = &#45;0.265</text>\n</g>\n<!-- 24&#45;&gt;28 -->\n<g id=\"edge28\" class=\"edge\">\n<title>24&#45;&gt;28</title>\n<path fill=\"none\" stroke=\"black\" d=\"M1680.71,-188.99C1681.3,-180.86 1681.93,-171.96 1682.54,-163.38\"/>\n<polygon fill=\"black\" stroke=\"black\" points=\"1686.05,-163.37 1683.28,-153.14 1679.07,-162.87 1686.05,-163.37\"/>\n</g>\n<!-- 26 -->\n<g id=\"node27\" class=\"node\">\n<title>26</title>\n<path fill=\"#f2c19e\" stroke=\"black\" d=\"M1433.5,-53C1433.5,-53 1321.5,-53 1321.5,-53 1315.5,-53 1309.5,-47 1309.5,-41 1309.5,-41 1309.5,-12 1309.5,-12 1309.5,-6 1315.5,0 1321.5,0 1321.5,0 1433.5,0 1433.5,0 1439.5,0 1445.5,-6 1445.5,-12 1445.5,-12 1445.5,-41 1445.5,-41 1445.5,-47 1439.5,-53 1433.5,-53\"/>\n<text text-anchor=\"start\" x=\"1317.5\" y=\"-37.8\" font-family=\"Helvetica,sans-Serif\" font-size=\"14.00\">squared_error = 0.0</text>\n<text text-anchor=\"start\" x=\"1340\" y=\"-22.8\" font-family=\"Helvetica,sans-Serif\" font-size=\"14.00\">samples = 1</text>\n<text text-anchor=\"start\" x=\"1334\" y=\"-7.8\" font-family=\"Helvetica,sans-Serif\" font-size=\"14.00\">value = &#45;0.176</text>\n</g>\n<!-- 25&#45;&gt;26 -->\n<g id=\"edge26\" class=\"edge\">\n<title>25&#45;&gt;26</title>\n<path fill=\"none\" stroke=\"black\" d=\"M1479.79,-88.94C1463.42,-79.11 1445.34,-68.25 1428.99,-58.43\"/>\n<polygon fill=\"black\" stroke=\"black\" points=\"1430.48,-55.24 1420.11,-53.09 1426.88,-61.24 1430.48,-55.24\"/>\n</g>\n<!-- 27 -->\n<g id=\"node28\" class=\"node\">\n<title>27</title>\n<path fill=\"#f3c3a0\" stroke=\"black\" d=\"M1587.5,-53C1587.5,-53 1475.5,-53 1475.5,-53 1469.5,-53 1463.5,-47 1463.5,-41 1463.5,-41 1463.5,-12 1463.5,-12 1463.5,-6 1469.5,0 1475.5,0 1475.5,0 1587.5,0 1587.5,0 1593.5,0 1599.5,-6 1599.5,-12 1599.5,-12 1599.5,-41 1599.5,-41 1599.5,-47 1593.5,-53 1587.5,-53\"/>\n<text text-anchor=\"start\" x=\"1471.5\" y=\"-37.8\" font-family=\"Helvetica,sans-Serif\" font-size=\"14.00\">squared_error = 0.0</text>\n<text text-anchor=\"start\" x=\"1494\" y=\"-22.8\" font-family=\"Helvetica,sans-Serif\" font-size=\"14.00\">samples = 1</text>\n<text text-anchor=\"start\" x=\"1488\" y=\"-7.8\" font-family=\"Helvetica,sans-Serif\" font-size=\"14.00\">value = &#45;0.209</text>\n</g>\n<!-- 25&#45;&gt;27 -->\n<g id=\"edge27\" class=\"edge\">\n<title>25&#45;&gt;27</title>\n<path fill=\"none\" stroke=\"black\" d=\"M1531.5,-88.94C1531.5,-80.66 1531.5,-71.64 1531.5,-63.13\"/>\n<polygon fill=\"black\" stroke=\"black\" points=\"1535,-63.09 1531.5,-53.09 1528,-63.09 1535,-63.09\"/>\n</g>\n<!-- 29 -->\n<g id=\"node30\" class=\"node\">\n<title>29</title>\n<path fill=\"#f3c5a3\" stroke=\"black\" d=\"M1741.5,-53C1741.5,-53 1629.5,-53 1629.5,-53 1623.5,-53 1617.5,-47 1617.5,-41 1617.5,-41 1617.5,-12 1617.5,-12 1617.5,-6 1623.5,0 1629.5,0 1629.5,0 1741.5,0 1741.5,0 1747.5,0 1753.5,-6 1753.5,-12 1753.5,-12 1753.5,-41 1753.5,-41 1753.5,-47 1747.5,-53 1741.5,-53\"/>\n<text text-anchor=\"start\" x=\"1625.5\" y=\"-37.8\" font-family=\"Helvetica,sans-Serif\" font-size=\"14.00\">squared_error = 0.0</text>\n<text text-anchor=\"start\" x=\"1648\" y=\"-22.8\" font-family=\"Helvetica,sans-Serif\" font-size=\"14.00\">samples = 1</text>\n<text text-anchor=\"start\" x=\"1646\" y=\"-7.8\" font-family=\"Helvetica,sans-Serif\" font-size=\"14.00\">value = &#45;0.25</text>\n</g>\n<!-- 28&#45;&gt;29 -->\n<g id=\"edge29\" class=\"edge\">\n<title>28&#45;&gt;29</title>\n<path fill=\"none\" stroke=\"black\" d=\"M1685.5,-88.94C1685.5,-80.66 1685.5,-71.64 1685.5,-63.13\"/>\n<polygon fill=\"black\" stroke=\"black\" points=\"1689,-63.09 1685.5,-53.09 1682,-63.09 1689,-63.09\"/>\n</g>\n<!-- 30 -->\n<g id=\"node31\" class=\"node\">\n<title>30</title>\n<path fill=\"#f3c6a5\" stroke=\"black\" d=\"M1899.5,-53C1899.5,-53 1783.5,-53 1783.5,-53 1777.5,-53 1771.5,-47 1771.5,-41 1771.5,-41 1771.5,-12 1771.5,-12 1771.5,-6 1777.5,0 1783.5,0 1783.5,0 1899.5,0 1899.5,0 1905.5,0 1911.5,-6 1911.5,-12 1911.5,-12 1911.5,-41 1911.5,-41 1911.5,-47 1905.5,-53 1899.5,-53\"/>\n<text text-anchor=\"start\" x=\"1779.5\" y=\"-37.8\" font-family=\"Helvetica,sans-Serif\" font-size=\"14.00\">squared_error = &#45;0.0</text>\n<text text-anchor=\"start\" x=\"1804\" y=\"-22.8\" font-family=\"Helvetica,sans-Serif\" font-size=\"14.00\">samples = 1</text>\n<text text-anchor=\"start\" x=\"1798\" y=\"-7.8\" font-family=\"Helvetica,sans-Serif\" font-size=\"14.00\">value = &#45;0.281</text>\n</g>\n<!-- 28&#45;&gt;30 -->\n<g id=\"edge30\" class=\"edge\">\n<title>28&#45;&gt;30</title>\n<path fill=\"none\" stroke=\"black\" d=\"M1737.88,-88.94C1754.46,-79.11 1772.78,-68.25 1789.34,-58.43\"/>\n<polygon fill=\"black\" stroke=\"black\" points=\"1791.52,-61.2 1798.34,-53.09 1787.95,-55.18 1791.52,-61.2\"/>\n</g>\n<!-- 32 -->\n<g id=\"node33\" class=\"node\">\n<title>32</title>\n<path fill=\"#ffffff\" stroke=\"black\" d=\"M1899.5,-147.5C1899.5,-147.5 1787.5,-147.5 1787.5,-147.5 1781.5,-147.5 1775.5,-141.5 1775.5,-135.5 1775.5,-135.5 1775.5,-106.5 1775.5,-106.5 1775.5,-100.5 1781.5,-94.5 1787.5,-94.5 1787.5,-94.5 1899.5,-94.5 1899.5,-94.5 1905.5,-94.5 1911.5,-100.5 1911.5,-106.5 1911.5,-106.5 1911.5,-135.5 1911.5,-135.5 1911.5,-141.5 1905.5,-147.5 1899.5,-147.5\"/>\n<text text-anchor=\"start\" x=\"1783.5\" y=\"-132.3\" font-family=\"Helvetica,sans-Serif\" font-size=\"14.00\">squared_error = 0.0</text>\n<text text-anchor=\"start\" x=\"1806\" y=\"-117.3\" font-family=\"Helvetica,sans-Serif\" font-size=\"14.00\">samples = 1</text>\n<text text-anchor=\"start\" x=\"1800\" y=\"-102.3\" font-family=\"Helvetica,sans-Serif\" font-size=\"14.00\">value = &#45;1.635</text>\n</g>\n<!-- 31&#45;&gt;32 -->\n<g id=\"edge32\" class=\"edge\">\n<title>31&#45;&gt;32</title>\n<path fill=\"none\" stroke=\"black\" d=\"M1846.23,-188.99C1845.83,-179.09 1845.38,-168.04 1844.96,-157.82\"/>\n<polygon fill=\"black\" stroke=\"black\" points=\"1848.45,-157.41 1844.54,-147.56 1841.45,-157.69 1848.45,-157.41\"/>\n</g>\n<!-- 33 -->\n<g id=\"node34\" class=\"node\">\n<title>33</title>\n<path fill=\"#f4ccae\" stroke=\"black\" d=\"M2069,-153C2069,-153 1942,-153 1942,-153 1936,-153 1930,-147 1930,-141 1930,-141 1930,-101 1930,-101 1930,-95 1936,-89 1942,-89 1942,-89 2069,-89 2069,-89 2075,-89 2081,-95 2081,-101 2081,-101 2081,-141 2081,-141 2081,-147 2075,-153 2069,-153\"/>\n<text text-anchor=\"start\" x=\"1972.5\" y=\"-138.8\" font-family=\"Helvetica,sans-Serif\" font-size=\"14.00\">X</text>\n<text text-anchor=\"start\" x=\"1982.5\" y=\"-138.8\" font-family=\"Helvetica,sans-Serif\" baseline-shift=\"sub\" font-size=\"14.00\">0</text>\n<text text-anchor=\"start\" x=\"1989.5\" y=\"-138.8\" font-family=\"Helvetica,sans-Serif\" font-size=\"14.00\"> ≤ 3.616</text>\n<text text-anchor=\"start\" x=\"1938\" y=\"-124.8\" font-family=\"Helvetica,sans-Serif\" font-size=\"14.00\">squared_error = 0.014</text>\n<text text-anchor=\"start\" x=\"1968\" y=\"-110.8\" font-family=\"Helvetica,sans-Serif\" font-size=\"14.00\">samples = 9</text>\n<text text-anchor=\"start\" x=\"1962\" y=\"-96.8\" font-family=\"Helvetica,sans-Serif\" font-size=\"14.00\">value = &#45;0.419</text>\n</g>\n<!-- 31&#45;&gt;33 -->\n<g id=\"edge33\" class=\"edge\">\n<title>31&#45;&gt;33</title>\n<path fill=\"none\" stroke=\"black\" d=\"M1897.49,-188.99C1913.05,-179.34 1930.36,-168.61 1946.48,-158.61\"/>\n<polygon fill=\"black\" stroke=\"black\" points=\"1948.64,-161.39 1955.29,-153.14 1944.95,-155.44 1948.64,-161.39\"/>\n</g>\n<!-- 34 -->\n<g id=\"node35\" class=\"node\">\n<title>34</title>\n<path fill=\"#f4c7a8\" stroke=\"black\" d=\"M2053.5,-53C2053.5,-53 1941.5,-53 1941.5,-53 1935.5,-53 1929.5,-47 1929.5,-41 1929.5,-41 1929.5,-12 1929.5,-12 1929.5,-6 1935.5,0 1941.5,0 1941.5,0 2053.5,0 2053.5,0 2059.5,0 2065.5,-6 2065.5,-12 2065.5,-12 2065.5,-41 2065.5,-41 2065.5,-47 2059.5,-53 2053.5,-53\"/>\n<text text-anchor=\"start\" x=\"1937.5\" y=\"-37.8\" font-family=\"Helvetica,sans-Serif\" font-size=\"14.00\">squared_error = 0.0</text>\n<text text-anchor=\"start\" x=\"1960\" y=\"-22.8\" font-family=\"Helvetica,sans-Serif\" font-size=\"14.00\">samples = 5</text>\n<text text-anchor=\"start\" x=\"1954\" y=\"-7.8\" font-family=\"Helvetica,sans-Serif\" font-size=\"14.00\">value = &#45;0.319</text>\n</g>\n<!-- 33&#45;&gt;34 -->\n<g id=\"edge34\" class=\"edge\">\n<title>33&#45;&gt;34</title>\n<path fill=\"none\" stroke=\"black\" d=\"M2002.81,-88.94C2002.1,-80.66 2001.32,-71.64 2000.58,-63.13\"/>\n<polygon fill=\"black\" stroke=\"black\" points=\"2004.06,-62.75 1999.71,-53.09 1997.09,-63.36 2004.06,-62.75\"/>\n</g>\n<!-- 35 -->\n<g id=\"node36\" class=\"node\">\n<title>35</title>\n<path fill=\"#f6d1b7\" stroke=\"black\" d=\"M2223,-53C2223,-53 2096,-53 2096,-53 2090,-53 2084,-47 2084,-41 2084,-41 2084,-12 2084,-12 2084,-6 2090,0 2096,0 2096,0 2223,0 2223,0 2229,0 2235,-6 2235,-12 2235,-12 2235,-41 2235,-41 2235,-47 2229,-53 2223,-53\"/>\n<text text-anchor=\"start\" x=\"2092\" y=\"-37.8\" font-family=\"Helvetica,sans-Serif\" font-size=\"14.00\">squared_error = 0.002</text>\n<text text-anchor=\"start\" x=\"2122\" y=\"-22.8\" font-family=\"Helvetica,sans-Serif\" font-size=\"14.00\">samples = 4</text>\n<text text-anchor=\"start\" x=\"2116\" y=\"-7.8\" font-family=\"Helvetica,sans-Serif\" font-size=\"14.00\">value = &#45;0.545</text>\n</g>\n<!-- 33&#45;&gt;35 -->\n<g id=\"edge35\" class=\"edge\">\n<title>33&#45;&gt;35</title>\n<path fill=\"none\" stroke=\"black\" d=\"M2057.21,-88.94C2073.58,-79.11 2091.66,-68.25 2108.01,-58.43\"/>\n<polygon fill=\"black\" stroke=\"black\" points=\"2110.12,-61.24 2116.89,-53.09 2106.52,-55.24 2110.12,-61.24\"/>\n</g>\n<!-- 37 -->\n<g id=\"node38\" class=\"node\">\n<title>37</title>\n<path fill=\"#f8ddc9\" stroke=\"black\" d=\"M2466,-253C2466,-253 2339,-253 2339,-253 2333,-253 2327,-247 2327,-241 2327,-241 2327,-201 2327,-201 2327,-195 2333,-189 2339,-189 2339,-189 2466,-189 2466,-189 2472,-189 2478,-195 2478,-201 2478,-201 2478,-241 2478,-241 2478,-247 2472,-253 2466,-253\"/>\n<text text-anchor=\"start\" x=\"2373\" y=\"-238.8\" font-family=\"Helvetica,sans-Serif\" font-size=\"14.00\">X</text>\n<text text-anchor=\"start\" x=\"2383\" y=\"-238.8\" font-family=\"Helvetica,sans-Serif\" baseline-shift=\"sub\" font-size=\"14.00\">0</text>\n<text text-anchor=\"start\" x=\"2390\" y=\"-238.8\" font-family=\"Helvetica,sans-Serif\" font-size=\"14.00\"> ≤ 4.59</text>\n<text text-anchor=\"start\" x=\"2335\" y=\"-224.8\" font-family=\"Helvetica,sans-Serif\" font-size=\"14.00\">squared_error = 0.048</text>\n<text text-anchor=\"start\" x=\"2361.5\" y=\"-210.8\" font-family=\"Helvetica,sans-Serif\" font-size=\"14.00\">samples = 11</text>\n<text text-anchor=\"start\" x=\"2359\" y=\"-196.8\" font-family=\"Helvetica,sans-Serif\" font-size=\"14.00\">value = &#45;0.824</text>\n</g>\n<!-- 36&#45;&gt;37 -->\n<g id=\"edge37\" class=\"edge\">\n<title>36&#45;&gt;37</title>\n<path fill=\"none\" stroke=\"black\" d=\"M2402.5,-288.99C2402.5,-280.86 2402.5,-271.96 2402.5,-263.38\"/>\n<polygon fill=\"black\" stroke=\"black\" points=\"2406,-263.14 2402.5,-253.14 2399,-263.14 2406,-263.14\"/>\n</g>\n<!-- 42 -->\n<g id=\"node43\" class=\"node\">\n<title>42</title>\n<path fill=\"#f9e4d4\" stroke=\"black\" d=\"M2699.5,-253C2699.5,-253 2587.5,-253 2587.5,-253 2581.5,-253 2575.5,-247 2575.5,-241 2575.5,-241 2575.5,-201 2575.5,-201 2575.5,-195 2581.5,-189 2587.5,-189 2587.5,-189 2699.5,-189 2699.5,-189 2705.5,-189 2711.5,-195 2711.5,-201 2711.5,-201 2711.5,-241 2711.5,-241 2711.5,-247 2705.5,-253 2699.5,-253\"/>\n<text text-anchor=\"start\" x=\"2610.5\" y=\"-238.8\" font-family=\"Helvetica,sans-Serif\" font-size=\"14.00\">X</text>\n<text text-anchor=\"start\" x=\"2620.5\" y=\"-238.8\" font-family=\"Helvetica,sans-Serif\" baseline-shift=\"sub\" font-size=\"14.00\">0</text>\n<text text-anchor=\"start\" x=\"2627.5\" y=\"-238.8\" font-family=\"Helvetica,sans-Serif\" font-size=\"14.00\"> ≤ 4.893</text>\n<text text-anchor=\"start\" x=\"2583.5\" y=\"-224.8\" font-family=\"Helvetica,sans-Serif\" font-size=\"14.00\">squared_error = 0.0</text>\n<text text-anchor=\"start\" x=\"2606\" y=\"-210.8\" font-family=\"Helvetica,sans-Serif\" font-size=\"14.00\">samples = 4</text>\n<text text-anchor=\"start\" x=\"2604\" y=\"-196.8\" font-family=\"Helvetica,sans-Serif\" font-size=\"14.00\">value = &#45;0.99</text>\n</g>\n<!-- 36&#45;&gt;42 -->\n<g id=\"edge42\" class=\"edge\">\n<title>36&#45;&gt;42</title>\n<path fill=\"none\" stroke=\"black\" d=\"M2478.09,-289.26C2506,-277.91 2537.65,-265.04 2565.75,-253.62\"/>\n<polygon fill=\"black\" stroke=\"black\" points=\"2567.18,-256.81 2575.13,-249.8 2564.54,-250.33 2567.18,-256.81\"/>\n</g>\n<!-- 38 -->\n<g id=\"node39\" class=\"node\">\n<title>38</title>\n<path fill=\"#f8dfcd\" stroke=\"black\" d=\"M2387.5,-153C2387.5,-153 2261.5,-153 2261.5,-153 2255.5,-153 2249.5,-147 2249.5,-141 2249.5,-141 2249.5,-101 2249.5,-101 2249.5,-95 2255.5,-89 2261.5,-89 2261.5,-89 2387.5,-89 2387.5,-89 2393.5,-89 2399.5,-95 2399.5,-101 2399.5,-101 2399.5,-141 2399.5,-141 2399.5,-147 2393.5,-153 2387.5,-153\"/>\n<text text-anchor=\"start\" x=\"2291.5\" y=\"-138.8\" font-family=\"Helvetica,sans-Serif\" font-size=\"14.00\">X</text>\n<text text-anchor=\"start\" x=\"2301.5\" y=\"-138.8\" font-family=\"Helvetica,sans-Serif\" baseline-shift=\"sub\" font-size=\"14.00\">0</text>\n<text text-anchor=\"start\" x=\"2308.5\" y=\"-138.8\" font-family=\"Helvetica,sans-Serif\" font-size=\"14.00\"> ≤ 4.391</text>\n<text text-anchor=\"start\" x=\"2257.5\" y=\"-124.8\" font-family=\"Helvetica,sans-Serif\" font-size=\"14.00\">squared_error = 0.011</text>\n<text text-anchor=\"start\" x=\"2283.5\" y=\"-110.8\" font-family=\"Helvetica,sans-Serif\" font-size=\"14.00\">samples = 10</text>\n<text text-anchor=\"start\" x=\"2281\" y=\"-96.8\" font-family=\"Helvetica,sans-Serif\" font-size=\"14.00\">value = &#45;0.886</text>\n</g>\n<!-- 37&#45;&gt;38 -->\n<g id=\"edge38\" class=\"edge\">\n<title>37&#45;&gt;38</title>\n<path fill=\"none\" stroke=\"black\" d=\"M2377.82,-188.99C2370.78,-180.14 2363.01,-170.39 2355.64,-161.12\"/>\n<polygon fill=\"black\" stroke=\"black\" points=\"2358.25,-158.79 2349.29,-153.14 2352.78,-163.15 2358.25,-158.79\"/>\n</g>\n<!-- 41 -->\n<g id=\"node42\" class=\"node\">\n<title>41</title>\n<path fill=\"#f3c3a0\" stroke=\"black\" d=\"M2545.5,-147.5C2545.5,-147.5 2429.5,-147.5 2429.5,-147.5 2423.5,-147.5 2417.5,-141.5 2417.5,-135.5 2417.5,-135.5 2417.5,-106.5 2417.5,-106.5 2417.5,-100.5 2423.5,-94.5 2429.5,-94.5 2429.5,-94.5 2545.5,-94.5 2545.5,-94.5 2551.5,-94.5 2557.5,-100.5 2557.5,-106.5 2557.5,-106.5 2557.5,-135.5 2557.5,-135.5 2557.5,-141.5 2551.5,-147.5 2545.5,-147.5\"/>\n<text text-anchor=\"start\" x=\"2425.5\" y=\"-132.3\" font-family=\"Helvetica,sans-Serif\" font-size=\"14.00\">squared_error = &#45;0.0</text>\n<text text-anchor=\"start\" x=\"2450\" y=\"-117.3\" font-family=\"Helvetica,sans-Serif\" font-size=\"14.00\">samples = 1</text>\n<text text-anchor=\"start\" x=\"2444\" y=\"-102.3\" font-family=\"Helvetica,sans-Serif\" font-size=\"14.00\">value = &#45;0.208</text>\n</g>\n<!-- 37&#45;&gt;41 -->\n<g id=\"edge41\" class=\"edge\">\n<title>37&#45;&gt;41</title>\n<path fill=\"none\" stroke=\"black\" d=\"M2429.39,-188.99C2438.71,-178.25 2449.19,-166.17 2458.65,-155.26\"/>\n<polygon fill=\"black\" stroke=\"black\" points=\"2461.43,-157.4 2465.33,-147.56 2456.14,-152.82 2461.43,-157.4\"/>\n</g>\n<!-- 39 -->\n<g id=\"node40\" class=\"node\">\n<title>39</title>\n<path fill=\"#f8ddc9\" stroke=\"black\" d=\"M2384,-53C2384,-53 2265,-53 2265,-53 2259,-53 2253,-47 2253,-41 2253,-41 2253,-12 2253,-12 2253,-6 2259,0 2265,0 2265,0 2384,0 2384,0 2390,0 2396,-6 2396,-12 2396,-12 2396,-41 2396,-41 2396,-47 2390,-53 2384,-53\"/>\n<text text-anchor=\"start\" x=\"2261\" y=\"-37.8\" font-family=\"Helvetica,sans-Serif\" font-size=\"14.00\">squared_error = 0.01</text>\n<text text-anchor=\"start\" x=\"2287\" y=\"-22.8\" font-family=\"Helvetica,sans-Serif\" font-size=\"14.00\">samples = 6</text>\n<text text-anchor=\"start\" x=\"2281\" y=\"-7.8\" font-family=\"Helvetica,sans-Serif\" font-size=\"14.00\">value = &#45;0.829</text>\n</g>\n<!-- 38&#45;&gt;39 -->\n<g id=\"edge39\" class=\"edge\">\n<title>38&#45;&gt;39</title>\n<path fill=\"none\" stroke=\"black\" d=\"M2324.5,-88.94C2324.5,-80.66 2324.5,-71.64 2324.5,-63.13\"/>\n<polygon fill=\"black\" stroke=\"black\" points=\"2328,-63.09 2324.5,-53.09 2321,-63.09 2328,-63.09\"/>\n</g>\n<!-- 40 -->\n<g id=\"node41\" class=\"node\">\n<title>40</title>\n<path fill=\"#f9e3d3\" stroke=\"black\" d=\"M2538.5,-53C2538.5,-53 2426.5,-53 2426.5,-53 2420.5,-53 2414.5,-47 2414.5,-41 2414.5,-41 2414.5,-12 2414.5,-12 2414.5,-6 2420.5,0 2426.5,0 2426.5,0 2538.5,0 2538.5,0 2544.5,0 2550.5,-6 2550.5,-12 2550.5,-12 2550.5,-41 2550.5,-41 2550.5,-47 2544.5,-53 2538.5,-53\"/>\n<text text-anchor=\"start\" x=\"2422.5\" y=\"-37.8\" font-family=\"Helvetica,sans-Serif\" font-size=\"14.00\">squared_error = 0.0</text>\n<text text-anchor=\"start\" x=\"2445\" y=\"-22.8\" font-family=\"Helvetica,sans-Serif\" font-size=\"14.00\">samples = 4</text>\n<text text-anchor=\"start\" x=\"2439\" y=\"-7.8\" font-family=\"Helvetica,sans-Serif\" font-size=\"14.00\">value = &#45;0.972</text>\n</g>\n<!-- 38&#45;&gt;40 -->\n<g id=\"edge40\" class=\"edge\">\n<title>38&#45;&gt;40</title>\n<path fill=\"none\" stroke=\"black\" d=\"M2377.55,-88.94C2394.5,-79.02 2413.24,-68.05 2430.14,-58.15\"/>\n<polygon fill=\"black\" stroke=\"black\" points=\"2431.93,-61.16 2438.79,-53.09 2428.39,-55.12 2431.93,-61.16\"/>\n</g>\n<!-- 43 -->\n<g id=\"node44\" class=\"node\">\n<title>43</title>\n<path fill=\"#f9e4d5\" stroke=\"black\" d=\"M2699.5,-153C2699.5,-153 2587.5,-153 2587.5,-153 2581.5,-153 2575.5,-147 2575.5,-141 2575.5,-141 2575.5,-101 2575.5,-101 2575.5,-95 2581.5,-89 2587.5,-89 2587.5,-89 2699.5,-89 2699.5,-89 2705.5,-89 2711.5,-95 2711.5,-101 2711.5,-101 2711.5,-141 2711.5,-141 2711.5,-147 2705.5,-153 2699.5,-153\"/>\n<text text-anchor=\"start\" x=\"2610.5\" y=\"-138.8\" font-family=\"Helvetica,sans-Serif\" font-size=\"14.00\">X</text>\n<text text-anchor=\"start\" x=\"2620.5\" y=\"-138.8\" font-family=\"Helvetica,sans-Serif\" baseline-shift=\"sub\" font-size=\"14.00\">0</text>\n<text text-anchor=\"start\" x=\"2627.5\" y=\"-138.8\" font-family=\"Helvetica,sans-Serif\" font-size=\"14.00\"> ≤ 4.815</text>\n<text text-anchor=\"start\" x=\"2583.5\" y=\"-124.8\" font-family=\"Helvetica,sans-Serif\" font-size=\"14.00\">squared_error = 0.0</text>\n<text text-anchor=\"start\" x=\"2606\" y=\"-110.8\" font-family=\"Helvetica,sans-Serif\" font-size=\"14.00\">samples = 3</text>\n<text text-anchor=\"start\" x=\"2600\" y=\"-96.8\" font-family=\"Helvetica,sans-Serif\" font-size=\"14.00\">value = &#45;0.996</text>\n</g>\n<!-- 42&#45;&gt;43 -->\n<g id=\"edge43\" class=\"edge\">\n<title>42&#45;&gt;43</title>\n<path fill=\"none\" stroke=\"black\" d=\"M2643.5,-188.99C2643.5,-180.86 2643.5,-171.96 2643.5,-163.38\"/>\n<polygon fill=\"black\" stroke=\"black\" points=\"2647,-163.14 2643.5,-153.14 2640,-163.14 2647,-163.14\"/>\n</g>\n<!-- 46 -->\n<g id=\"node47\" class=\"node\">\n<title>46</title>\n<path fill=\"#f9e3d3\" stroke=\"black\" d=\"M2857.5,-147.5C2857.5,-147.5 2741.5,-147.5 2741.5,-147.5 2735.5,-147.5 2729.5,-141.5 2729.5,-135.5 2729.5,-135.5 2729.5,-106.5 2729.5,-106.5 2729.5,-100.5 2735.5,-94.5 2741.5,-94.5 2741.5,-94.5 2857.5,-94.5 2857.5,-94.5 2863.5,-94.5 2869.5,-100.5 2869.5,-106.5 2869.5,-106.5 2869.5,-135.5 2869.5,-135.5 2869.5,-141.5 2863.5,-147.5 2857.5,-147.5\"/>\n<text text-anchor=\"start\" x=\"2737.5\" y=\"-132.3\" font-family=\"Helvetica,sans-Serif\" font-size=\"14.00\">squared_error = &#45;0.0</text>\n<text text-anchor=\"start\" x=\"2762\" y=\"-117.3\" font-family=\"Helvetica,sans-Serif\" font-size=\"14.00\">samples = 1</text>\n<text text-anchor=\"start\" x=\"2756\" y=\"-102.3\" font-family=\"Helvetica,sans-Serif\" font-size=\"14.00\">value = &#45;0.973</text>\n</g>\n<!-- 42&#45;&gt;46 -->\n<g id=\"edge46\" class=\"edge\">\n<title>42&#45;&gt;46</title>\n<path fill=\"none\" stroke=\"black\" d=\"M2692.86,-188.99C2711.12,-177.52 2731.81,-164.53 2750.07,-153.05\"/>\n<polygon fill=\"black\" stroke=\"black\" points=\"2752.21,-155.84 2758.82,-147.56 2748.49,-149.91 2752.21,-155.84\"/>\n</g>\n<!-- 44 -->\n<g id=\"node45\" class=\"node\">\n<title>44</title>\n<path fill=\"#f9e4d5\" stroke=\"black\" d=\"M2696.5,-53C2696.5,-53 2584.5,-53 2584.5,-53 2578.5,-53 2572.5,-47 2572.5,-41 2572.5,-41 2572.5,-12 2572.5,-12 2572.5,-6 2578.5,0 2584.5,0 2584.5,0 2696.5,0 2696.5,0 2702.5,0 2708.5,-6 2708.5,-12 2708.5,-12 2708.5,-41 2708.5,-41 2708.5,-47 2702.5,-53 2696.5,-53\"/>\n<text text-anchor=\"start\" x=\"2580.5\" y=\"-37.8\" font-family=\"Helvetica,sans-Serif\" font-size=\"14.00\">squared_error = 0.0</text>\n<text text-anchor=\"start\" x=\"2603\" y=\"-22.8\" font-family=\"Helvetica,sans-Serif\" font-size=\"14.00\">samples = 2</text>\n<text text-anchor=\"start\" x=\"2597\" y=\"-7.8\" font-family=\"Helvetica,sans-Serif\" font-size=\"14.00\">value = &#45;0.998</text>\n</g>\n<!-- 43&#45;&gt;44 -->\n<g id=\"edge44\" class=\"edge\">\n<title>43&#45;&gt;44</title>\n<path fill=\"none\" stroke=\"black\" d=\"M2642.49,-88.94C2642.22,-80.66 2641.93,-71.64 2641.66,-63.13\"/>\n<polygon fill=\"black\" stroke=\"black\" points=\"2645.15,-62.97 2641.33,-53.09 2638.16,-63.2 2645.15,-62.97\"/>\n</g>\n<!-- 45 -->\n<g id=\"node46\" class=\"node\">\n<title>45</title>\n<path fill=\"#f9e4d4\" stroke=\"black\" d=\"M2854.5,-53C2854.5,-53 2738.5,-53 2738.5,-53 2732.5,-53 2726.5,-47 2726.5,-41 2726.5,-41 2726.5,-12 2726.5,-12 2726.5,-6 2732.5,0 2738.5,0 2738.5,0 2854.5,0 2854.5,0 2860.5,0 2866.5,-6 2866.5,-12 2866.5,-12 2866.5,-41 2866.5,-41 2866.5,-47 2860.5,-53 2854.5,-53\"/>\n<text text-anchor=\"start\" x=\"2734.5\" y=\"-37.8\" font-family=\"Helvetica,sans-Serif\" font-size=\"14.00\">squared_error = &#45;0.0</text>\n<text text-anchor=\"start\" x=\"2759\" y=\"-22.8\" font-family=\"Helvetica,sans-Serif\" font-size=\"14.00\">samples = 1</text>\n<text text-anchor=\"start\" x=\"2753\" y=\"-7.8\" font-family=\"Helvetica,sans-Serif\" font-size=\"14.00\">value = &#45;0.992</text>\n</g>\n<!-- 43&#45;&gt;45 -->\n<g id=\"edge45\" class=\"edge\">\n<title>43&#45;&gt;45</title>\n<path fill=\"none\" stroke=\"black\" d=\"M2694.87,-88.94C2711.13,-79.11 2729.1,-68.25 2745.34,-58.43\"/>\n<polygon fill=\"black\" stroke=\"black\" points=\"2747.42,-61.26 2754.17,-53.09 2743.8,-55.27 2747.42,-61.26\"/>\n</g>\n</g>\n</svg>\n",
      "text/plain": [
       "<graphviz.sources.Source at 0x12f800abbe0>"
      ]
     },
     "execution_count": 58,
     "metadata": {},
     "output_type": "execute_result"
    }
   ],
   "source": [
    "graph4 = graphviz.Source(dot_data4) \n",
    "graph4"
   ]
  },
  {
   "cell_type": "code",
   "execution_count": 59,
   "metadata": {
    "collapsed": true,
    "jupyter": {
     "outputs_hidden": true
    }
   },
   "outputs": [],
   "source": [
    "dot_data5 = tree.export_graphviz(regr1, out_file=None, \n",
    "                                filled=True, rounded=True,  \n",
    "                                special_characters=True)"
   ]
  },
  {
   "cell_type": "code",
   "execution_count": 62,
   "metadata": {
    "collapsed": true,
    "jupyter": {
     "outputs_hidden": true
    }
   },
   "outputs": [],
   "source": [
    "graph5=graphviz.Source(dot_data5)"
   ]
  },
  {
   "cell_type": "code",
   "execution_count": 63,
   "metadata": {},
   "outputs": [
    {
     "data": {
      "image/svg+xml": "<?xml version=\"1.0\" encoding=\"UTF-8\" standalone=\"no\"?>\n<!DOCTYPE svg PUBLIC \"-//W3C//DTD SVG 1.1//EN\"\n \"http://www.w3.org/Graphics/SVG/1.1/DTD/svg11.dtd\">\n<!-- Generated by graphviz version 2.50.0 (0)\n -->\n<!-- Title: Tree Pages: 1 -->\n<svg width=\"666pt\" height=\"261pt\"\n viewBox=\"0.00 0.00 666.00 261.00\" xmlns=\"http://www.w3.org/2000/svg\" xmlns:xlink=\"http://www.w3.org/1999/xlink\">\n<g id=\"graph0\" class=\"graph\" transform=\"scale(1 1) rotate(0) translate(4 257)\">\n<title>Tree</title>\n<polygon fill=\"white\" stroke=\"transparent\" points=\"-4,4 -4,-257 662,-257 662,4 -4,4\"/>\n<!-- 0 -->\n<g id=\"node1\" class=\"node\">\n<title>0</title>\n<path fill=\"#efb083\" stroke=\"black\" d=\"M392,-253C392,-253 265,-253 265,-253 259,-253 253,-247 253,-241 253,-241 253,-201 253,-201 253,-195 259,-189 265,-189 265,-189 392,-189 392,-189 398,-189 404,-195 404,-201 404,-201 404,-241 404,-241 404,-247 398,-253 392,-253\"/>\n<text text-anchor=\"start\" x=\"295.5\" y=\"-238.8\" font-family=\"Helvetica,sans-Serif\" font-size=\"14.00\">X</text>\n<text text-anchor=\"start\" x=\"305.5\" y=\"-238.8\" font-family=\"Helvetica,sans-Serif\" baseline-shift=\"sub\" font-size=\"14.00\">0</text>\n<text text-anchor=\"start\" x=\"312.5\" y=\"-238.8\" font-family=\"Helvetica,sans-Serif\" font-size=\"14.00\"> ≤ 3.133</text>\n<text text-anchor=\"start\" x=\"261\" y=\"-224.8\" font-family=\"Helvetica,sans-Serif\" font-size=\"14.00\">squared_error = 0.547</text>\n<text text-anchor=\"start\" x=\"287.5\" y=\"-210.8\" font-family=\"Helvetica,sans-Serif\" font-size=\"14.00\">samples = 80</text>\n<text text-anchor=\"start\" x=\"287.5\" y=\"-196.8\" font-family=\"Helvetica,sans-Serif\" font-size=\"14.00\">value = 0.122</text>\n</g>\n<!-- 1 -->\n<g id=\"node2\" class=\"node\">\n<title>1</title>\n<path fill=\"#e78c4b\" stroke=\"black\" d=\"M308,-153C308,-153 181,-153 181,-153 175,-153 169,-147 169,-141 169,-141 169,-101 169,-101 169,-95 175,-89 181,-89 181,-89 308,-89 308,-89 314,-89 320,-95 320,-101 320,-101 320,-141 320,-141 320,-147 314,-153 308,-153\"/>\n<text text-anchor=\"start\" x=\"211.5\" y=\"-138.8\" font-family=\"Helvetica,sans-Serif\" font-size=\"14.00\">X</text>\n<text text-anchor=\"start\" x=\"221.5\" y=\"-138.8\" font-family=\"Helvetica,sans-Serif\" baseline-shift=\"sub\" font-size=\"14.00\">0</text>\n<text text-anchor=\"start\" x=\"228.5\" y=\"-138.8\" font-family=\"Helvetica,sans-Serif\" font-size=\"14.00\"> ≤ 0.514</text>\n<text text-anchor=\"start\" x=\"177\" y=\"-124.8\" font-family=\"Helvetica,sans-Serif\" font-size=\"14.00\">squared_error = 0.231</text>\n<text text-anchor=\"start\" x=\"203.5\" y=\"-110.8\" font-family=\"Helvetica,sans-Serif\" font-size=\"14.00\">samples = 51</text>\n<text text-anchor=\"start\" x=\"203.5\" y=\"-96.8\" font-family=\"Helvetica,sans-Serif\" font-size=\"14.00\">value = 0.571</text>\n</g>\n<!-- 0&#45;&gt;1 -->\n<g id=\"edge1\" class=\"edge\">\n<title>0&#45;&gt;1</title>\n<path fill=\"none\" stroke=\"black\" d=\"M301.92,-188.99C294.26,-180.06 285.81,-170.19 277.79,-160.84\"/>\n<polygon fill=\"black\" stroke=\"black\" points=\"280.36,-158.46 271.19,-153.14 275.04,-163.01 280.36,-158.46\"/>\n<text text-anchor=\"middle\" x=\"269.28\" y=\"-174.37\" font-family=\"Helvetica,sans-Serif\" font-size=\"14.00\">True</text>\n</g>\n<!-- 4 -->\n<g id=\"node5\" class=\"node\">\n<title>4</title>\n<path fill=\"#fcefe6\" stroke=\"black\" d=\"M477,-153C477,-153 350,-153 350,-153 344,-153 338,-147 338,-141 338,-141 338,-101 338,-101 338,-95 344,-89 350,-89 350,-89 477,-89 477,-89 483,-89 489,-95 489,-101 489,-101 489,-141 489,-141 489,-147 483,-153 477,-153\"/>\n<text text-anchor=\"start\" x=\"384\" y=\"-138.8\" font-family=\"Helvetica,sans-Serif\" font-size=\"14.00\">X</text>\n<text text-anchor=\"start\" x=\"394\" y=\"-138.8\" font-family=\"Helvetica,sans-Serif\" baseline-shift=\"sub\" font-size=\"14.00\">0</text>\n<text text-anchor=\"start\" x=\"401\" y=\"-138.8\" font-family=\"Helvetica,sans-Serif\" font-size=\"14.00\"> ≤ 3.85</text>\n<text text-anchor=\"start\" x=\"346\" y=\"-124.8\" font-family=\"Helvetica,sans-Serif\" font-size=\"14.00\">squared_error = 0.124</text>\n<text text-anchor=\"start\" x=\"372.5\" y=\"-110.8\" font-family=\"Helvetica,sans-Serif\" font-size=\"14.00\">samples = 29</text>\n<text text-anchor=\"start\" x=\"370\" y=\"-96.8\" font-family=\"Helvetica,sans-Serif\" font-size=\"14.00\">value = &#45;0.667</text>\n</g>\n<!-- 0&#45;&gt;4 -->\n<g id=\"edge4\" class=\"edge\">\n<title>0&#45;&gt;4</title>\n<path fill=\"none\" stroke=\"black\" d=\"M355.39,-188.99C363.15,-180.06 371.7,-170.19 379.81,-160.84\"/>\n<polygon fill=\"black\" stroke=\"black\" points=\"382.58,-162.99 386.49,-153.14 377.29,-158.4 382.58,-162.99\"/>\n<text text-anchor=\"middle\" x=\"388.26\" y=\"-174.38\" font-family=\"Helvetica,sans-Serif\" font-size=\"14.00\">False</text>\n</g>\n<!-- 2 -->\n<g id=\"node3\" class=\"node\">\n<title>2</title>\n<path fill=\"#f0b68c\" stroke=\"black\" d=\"M139,-53C139,-53 12,-53 12,-53 6,-53 0,-47 0,-41 0,-41 0,-12 0,-12 0,-6 6,0 12,0 12,0 139,0 139,0 145,0 151,-6 151,-12 151,-12 151,-41 151,-41 151,-47 145,-53 139,-53\"/>\n<text text-anchor=\"start\" x=\"8\" y=\"-37.8\" font-family=\"Helvetica,sans-Serif\" font-size=\"14.00\">squared_error = 0.192</text>\n<text text-anchor=\"start\" x=\"34.5\" y=\"-22.8\" font-family=\"Helvetica,sans-Serif\" font-size=\"14.00\">samples = 11</text>\n<text text-anchor=\"start\" x=\"34.5\" y=\"-7.8\" font-family=\"Helvetica,sans-Serif\" font-size=\"14.00\">value = 0.052</text>\n</g>\n<!-- 1&#45;&gt;2 -->\n<g id=\"edge2\" class=\"edge\">\n<title>1&#45;&gt;2</title>\n<path fill=\"none\" stroke=\"black\" d=\"M187.76,-88.94C169.63,-79.02 149.58,-68.05 131.51,-58.15\"/>\n<polygon fill=\"black\" stroke=\"black\" points=\"132.71,-54.82 122.26,-53.09 129.35,-60.96 132.71,-54.82\"/>\n</g>\n<!-- 3 -->\n<g id=\"node4\" class=\"node\">\n<title>3</title>\n<path fill=\"#e58139\" stroke=\"black\" d=\"M308,-53C308,-53 181,-53 181,-53 175,-53 169,-47 169,-41 169,-41 169,-12 169,-12 169,-6 175,0 181,0 181,0 308,0 308,0 314,0 320,-6 320,-12 320,-12 320,-41 320,-41 320,-47 314,-53 308,-53\"/>\n<text text-anchor=\"start\" x=\"177\" y=\"-37.8\" font-family=\"Helvetica,sans-Serif\" font-size=\"14.00\">squared_error = 0.148</text>\n<text text-anchor=\"start\" x=\"203.5\" y=\"-22.8\" font-family=\"Helvetica,sans-Serif\" font-size=\"14.00\">samples = 40</text>\n<text text-anchor=\"start\" x=\"203.5\" y=\"-7.8\" font-family=\"Helvetica,sans-Serif\" font-size=\"14.00\">value = 0.714</text>\n</g>\n<!-- 1&#45;&gt;3 -->\n<g id=\"edge3\" class=\"edge\">\n<title>1&#45;&gt;3</title>\n<path fill=\"none\" stroke=\"black\" d=\"M244.5,-88.94C244.5,-80.66 244.5,-71.64 244.5,-63.13\"/>\n<polygon fill=\"black\" stroke=\"black\" points=\"248,-63.09 244.5,-53.09 241,-63.09 248,-63.09\"/>\n</g>\n<!-- 5 -->\n<g id=\"node6\" class=\"node\">\n<title>5</title>\n<path fill=\"#f8decb\" stroke=\"black\" d=\"M477,-53C477,-53 350,-53 350,-53 344,-53 338,-47 338,-41 338,-41 338,-12 338,-12 338,-6 344,0 350,0 350,0 477,0 477,0 483,0 489,-6 489,-12 489,-12 489,-41 489,-41 489,-47 483,-53 477,-53\"/>\n<text text-anchor=\"start\" x=\"346\" y=\"-37.8\" font-family=\"Helvetica,sans-Serif\" font-size=\"14.00\">squared_error = 0.124</text>\n<text text-anchor=\"start\" x=\"372.5\" y=\"-22.8\" font-family=\"Helvetica,sans-Serif\" font-size=\"14.00\">samples = 14</text>\n<text text-anchor=\"start\" x=\"370\" y=\"-7.8\" font-family=\"Helvetica,sans-Serif\" font-size=\"14.00\">value = &#45;0.452</text>\n</g>\n<!-- 4&#45;&gt;5 -->\n<g id=\"edge5\" class=\"edge\">\n<title>4&#45;&gt;5</title>\n<path fill=\"none\" stroke=\"black\" d=\"M413.5,-88.94C413.5,-80.66 413.5,-71.64 413.5,-63.13\"/>\n<polygon fill=\"black\" stroke=\"black\" points=\"417,-63.09 413.5,-53.09 410,-63.09 417,-63.09\"/>\n</g>\n<!-- 6 -->\n<g id=\"node7\" class=\"node\">\n<title>6</title>\n<path fill=\"#ffffff\" stroke=\"black\" d=\"M646,-53C646,-53 519,-53 519,-53 513,-53 507,-47 507,-41 507,-41 507,-12 507,-12 507,-6 513,0 519,0 519,0 646,0 646,0 652,0 658,-6 658,-12 658,-12 658,-41 658,-41 658,-47 652,-53 646,-53\"/>\n<text text-anchor=\"start\" x=\"515\" y=\"-37.8\" font-family=\"Helvetica,sans-Serif\" font-size=\"14.00\">squared_error = 0.041</text>\n<text text-anchor=\"start\" x=\"541.5\" y=\"-22.8\" font-family=\"Helvetica,sans-Serif\" font-size=\"14.00\">samples = 15</text>\n<text text-anchor=\"start\" x=\"539\" y=\"-7.8\" font-family=\"Helvetica,sans-Serif\" font-size=\"14.00\">value = &#45;0.869</text>\n</g>\n<!-- 4&#45;&gt;6 -->\n<g id=\"edge6\" class=\"edge\">\n<title>4&#45;&gt;6</title>\n<path fill=\"none\" stroke=\"black\" d=\"M470.24,-88.94C488.37,-79.02 508.42,-68.05 526.49,-58.15\"/>\n<polygon fill=\"black\" stroke=\"black\" points=\"528.65,-60.96 535.74,-53.09 525.29,-54.82 528.65,-60.96\"/>\n</g>\n</g>\n</svg>\n",
      "text/plain": [
       "<graphviz.sources.Source at 0x12f80082310>"
      ]
     },
     "execution_count": 63,
     "metadata": {},
     "output_type": "execute_result"
    }
   ],
   "source": [
    "graph5"
   ]
  }
 ],
 "metadata": {
  "kernelspec": {
   "display_name": "Python 3.9.12 ('base')",
   "language": "python",
   "name": "python3"
  },
  "language_info": {
   "codemirror_mode": {
    "name": "ipython",
    "version": 3
   },
   "file_extension": ".py",
   "mimetype": "text/x-python",
   "name": "python",
   "nbconvert_exporter": "python",
   "pygments_lexer": "ipython3",
   "version": "3.9.12"
  },
  "vscode": {
   "interpreter": {
    "hash": "a71a9e4fb054fff428071484f7faa898cb9ecb31a518fe88e3463da9af879578"
   }
  }
 },
 "nbformat": 4,
 "nbformat_minor": 4
}
